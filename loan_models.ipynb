{
 "cells": [
  {
   "cell_type": "code",
   "execution_count": 30,
   "id": "964e352c",
   "metadata": {},
   "outputs": [],
   "source": [
    "import pandas as pd\n",
    "import numpy as np\n",
    "import matplotlib.pyplot as plt\n",
    "import seaborn as sns\n",
    "from summarytools import dfSummary\n",
    "from collections import Counter\n",
    "from sklearn.cluster import HDBSCAN\n",
    "from sklearn.decomposition import PCA\n",
    "from sklearn.preprocessing import OneHotEncoder,StandardScaler,MinMaxScaler, OrdinalEncoder\n",
    "from imblearn.pipeline import Pipeline\n",
    "from sklearn.model_selection import GridSearchCV,RandomizedSearchCV,train_test_split,StratifiedKFold,cross_val_score\n",
    "from sklearn.compose import ColumnTransformer\n",
    "from sklearn.impute import SimpleImputer\n",
    "from sklearn.metrics import log_loss, accuracy_score,roc_auc_score,f1_score, precision_recall_curve, auc, average_precision_score,PrecisionRecallDisplay,RocCurveDisplay,ConfusionMatrixDisplay\n",
    "from sklearn.ensemble import RandomForestClassifier,HistGradientBoostingClassifier\n",
    "from xgboost import XGBClassifier\n",
    "import shap\n",
    "from hyperopt import hp, fmin, tpe, Trials, STATUS_OK,space_eval\n",
    "from hyperopt.pyll import scope\n",
    "from scipy.stats import uniform \n",
    "from scipy.stats import randint \n",
    "from imblearn.ensemble import BalancedRandomForestClassifier\n",
    "from imblearn.under_sampling import RandomUnderSampler\n",
    "from imblearn.over_sampling import SMOTE\n",
    "import mlflow\n",
    "from lightgbm import LGBMClassifier"
   ]
  },
  {
   "cell_type": "code",
   "execution_count": 2,
   "id": "225e1f62",
   "metadata": {},
   "outputs": [
    {
     "data": {
      "text/plain": [
       "(307511, 46)"
      ]
     },
     "execution_count": 2,
     "metadata": {},
     "output_type": "execute_result"
    }
   ],
   "source": [
    "df=pd.read_csv(\"data/application_data.csv\")\n",
    "\n",
    "# feature engineering on address discrepancies and document count\n",
    "df['document']= df['FLAG_DOCUMENT_2']+df['FLAG_DOCUMENT_3']+df['FLAG_DOCUMENT_4']+df['FLAG_DOCUMENT_5']+df['FLAG_DOCUMENT_6']\\\n",
    "           +df['FLAG_DOCUMENT_7']+df['FLAG_DOCUMENT_8']+df['FLAG_DOCUMENT_9']+df['FLAG_DOCUMENT_10']+df['FLAG_DOCUMENT_11']\\\n",
    "           +df['FLAG_DOCUMENT_12']+df['FLAG_DOCUMENT_13']+df['FLAG_DOCUMENT_14']+df['FLAG_DOCUMENT_15']+df['FLAG_DOCUMENT_16']\\\n",
    "           +df['FLAG_DOCUMENT_17']+df['FLAG_DOCUMENT_18']+df['FLAG_DOCUMENT_19']+df['FLAG_DOCUMENT_20']+df['FLAG_DOCUMENT_21']\n",
    "\n",
    "df['address'] = df['REG_REGION_NOT_LIVE_REGION']+df['REG_REGION_NOT_WORK_REGION']+df['LIVE_REGION_NOT_WORK_REGION']\\\n",
    "            +df['REG_CITY_NOT_LIVE_CITY']+df['REG_CITY_NOT_WORK_CITY']+df['LIVE_CITY_NOT_WORK_CITY']\n",
    "\n",
    "drop_col = ['FLAG_DOCUMENT_2','FLAG_DOCUMENT_3','FLAG_DOCUMENT_4','FLAG_DOCUMENT_5','FLAG_DOCUMENT_6','FLAG_DOCUMENT_7',\n",
    "           'FLAG_DOCUMENT_8','FLAG_DOCUMENT_9','FLAG_DOCUMENT_10','FLAG_DOCUMENT_11','FLAG_DOCUMENT_12','FLAG_DOCUMENT_13',\n",
    "           'FLAG_DOCUMENT_14','FLAG_DOCUMENT_15','FLAG_DOCUMENT_16','FLAG_DOCUMENT_17','FLAG_DOCUMENT_18','FLAG_DOCUMENT_19',\n",
    "           'FLAG_DOCUMENT_20','FLAG_DOCUMENT_21','REG_REGION_NOT_LIVE_REGION','REG_REGION_NOT_WORK_REGION',\n",
    "            'LIVE_REGION_NOT_WORK_REGION','REG_CITY_NOT_LIVE_CITY','REG_CITY_NOT_WORK_CITY','LIVE_CITY_NOT_WORK_CITY']\n",
    "\n",
    "df.drop(columns=drop_col,inplace=True)\n",
    "\n",
    "# drop columns with over 50% missing and the ID column, FLAG_MOBIL is 100% 1, REGION_RATING_CLIENT_W_CITY correlates with REGION_RATING_CLIENT\n",
    "drop_col = ['OWN_CAR_AGE','EXT_SOURCE_1','APARTMENTS_AVG', 'BASEMENTAREA_AVG', 'YEARS_BEGINEXPLUATATION_AVG','YEARS_BUILD_AVG',\n",
    "            'COMMONAREA_AVG', 'ELEVATORS_AVG','ENTRANCES_AVG', 'FLOORSMAX_AVG', 'FLOORSMIN_AVG', 'LANDAREA_AVG',\n",
    "            'LIVINGAPARTMENTS_AVG', 'LIVINGAREA_AVG', 'NONLIVINGAPARTMENTS_AVG','NONLIVINGAREA_AVG', 'APARTMENTS_MODE', \n",
    "            'BASEMENTAREA_MODE','YEARS_BEGINEXPLUATATION_MODE', 'YEARS_BUILD_MODE', 'COMMONAREA_MODE','ELEVATORS_MODE', \n",
    "            'ENTRANCES_MODE', 'FLOORSMAX_MODE', 'FLOORSMIN_MODE','LANDAREA_MODE', 'LIVINGAPARTMENTS_MODE', 'LIVINGAREA_MODE',\n",
    "            'NONLIVINGAPARTMENTS_MODE', 'NONLIVINGAREA_MODE', 'APARTMENTS_MEDI','BASEMENTAREA_MEDI', \n",
    "            'YEARS_BEGINEXPLUATATION_MEDI', 'YEARS_BUILD_MEDI','COMMONAREA_MEDI', 'ELEVATORS_MEDI', 'ENTRANCES_MEDI',\n",
    "            'FLOORSMAX_MEDI','FLOORSMIN_MEDI', 'LANDAREA_MEDI', 'LIVINGAPARTMENTS_MEDI','LIVINGAREA_MEDI', \n",
    "            'NONLIVINGAPARTMENTS_MEDI', 'NONLIVINGAREA_MEDI','FONDKAPREMONT_MODE', 'HOUSETYPE_MODE', 'TOTALAREA_MODE',\n",
    "            'WALLSMATERIAL_MODE', 'EMERGENCYSTATE_MODE','SK_ID_CURR','FLAG_MOBIL','REGION_RATING_CLIENT_W_CITY']\n",
    "\n",
    "df.drop(columns=drop_col,inplace=True)\n",
    "\n",
    "# preprocessing outside of pipeline\n",
    "#df['DAYS_LAST_PHONE_CHANGE']=df['DAYS_LAST_PHONE_CHANGE'].fillna(1)\n",
    "#df['CNT_FAM_MEMBERS'] = df['CNT_FAM_MEMBERS'].fillna(df['CNT_CHILDREN']+1)\n",
    "#df['OCCUPATION_TYPE'] = df['OCCUPATION_TYPE'].fillna(\"Others\")\n",
    "df['DAYS_EMPLOYED'] = df['DAYS_EMPLOYED'].replace({365243:0})\n",
    "#df['NAME_TYPE_SUITE'] = df['NAME_TYPE_SUITE'].fillna(\"Missing\")\n",
    "\n",
    "df.shape"
   ]
  },
  {
   "cell_type": "code",
   "execution_count": 3,
   "id": "b096e229",
   "metadata": {},
   "outputs": [],
   "source": [
    "num_features1 = ['CNT_CHILDREN','AMT_INCOME_TOTAL','AMT_CREDIT','AMT_ANNUITY','AMT_GOODS_PRICE','REGION_POPULATION_RELATIVE',\n",
    "                'DAYS_BIRTH','DAYS_EMPLOYED','DAYS_REGISTRATION','DAYS_ID_PUBLISH','CNT_FAM_MEMBERS','REGION_RATING_CLIENT',\n",
    "                'EXT_SOURCE_2','DAYS_LAST_PHONE_CHANGE','OBS_30_CNT_SOCIAL_CIRCLE',\n",
    "                'DEF_30_CNT_SOCIAL_CIRCLE','OBS_60_CNT_SOCIAL_CIRCLE','DEF_60_CNT_SOCIAL_CIRCLE',\n",
    "                'document','address'] # no missing indicator\n",
    "num_features2 = ['EXT_SOURCE_3','AMT_REQ_CREDIT_BUREAU_HOUR','AMT_REQ_CREDIT_BUREAU_DAY','AMT_REQ_CREDIT_BUREAU_WEEK',\n",
    "                 'AMT_REQ_CREDIT_BUREAU_MON','AMT_REQ_CREDIT_BUREAU_QRT','AMT_REQ_CREDIT_BUREAU_YEAR'] # add missing indicator\n",
    "cat_features = ['NAME_CONTRACT_TYPE','CODE_GENDER','FLAG_OWN_CAR','FLAG_OWN_REALTY','NAME_TYPE_SUITE','NAME_INCOME_TYPE',\n",
    "                'NAME_EDUCATION_TYPE','NAME_FAMILY_STATUS','NAME_HOUSING_TYPE','OCCUPATION_TYPE','WEEKDAY_APPR_PROCESS_START',\n",
    "                'HOUR_APPR_PROCESS_START','ORGANIZATION_TYPE']\n",
    "# binary_features = ['FLAG_EMP_PHONE','FLAG_WORK_PHONE','FLAG_CONT_MOBILE','FLAG_PHONE','FLAG_EMAIL',\n",
    "#                    'REG_REGION_NOT_LIVE_REGION','REG_REGION_NOT_WORK_REGION','LIVE_REGION_NOT_WORK_REGION',\n",
    "#                    'REG_CITY_NOT_LIVE_CITY', 'REG_CITY_NOT_WORK_CITY','LIVE_CITY_NOT_WORK_CITY','FLAG_DOCUMENT_2', \n",
    "#                    'FLAG_DOCUMENT_3','FLAG_DOCUMENT_4', 'FLAG_DOCUMENT_5', 'FLAG_DOCUMENT_6','FLAG_DOCUMENT_7',\n",
    "#                    'FLAG_DOCUMENT_8', 'FLAG_DOCUMENT_9','FLAG_DOCUMENT_10', 'FLAG_DOCUMENT_11', 'FLAG_DOCUMENT_12',\n",
    "#                    'FLAG_DOCUMENT_13', 'FLAG_DOCUMENT_14', 'FLAG_DOCUMENT_15','FLAG_DOCUMENT_16', 'FLAG_DOCUMENT_17',\n",
    "#                    'FLAG_DOCUMENT_18','FLAG_DOCUMENT_19', 'FLAG_DOCUMENT_20', 'FLAG_DOCUMENT_21']\n",
    "binary_features = ['FLAG_EMP_PHONE','FLAG_WORK_PHONE','FLAG_CONT_MOBILE','FLAG_PHONE','FLAG_EMAIL']"
   ]
  },
  {
   "cell_type": "code",
   "execution_count": 4,
   "id": "ac654c91",
   "metadata": {},
   "outputs": [],
   "source": [
    "X_train, X_test, y_train, y_test = train_test_split(df[num_features1+num_features2+cat_features+binary_features], df['TARGET'],\n",
    "                                                    stratify=df['TARGET'], test_size=0.2,random_state=42)"
   ]
  },
  {
   "cell_type": "code",
   "execution_count": 5,
   "id": "1938628c",
   "metadata": {},
   "outputs": [],
   "source": [
    "# for tree based model, no need to scale numerical variable and use ordinal encoder for categorical variable\n",
    "numeric_transformer1 = Pipeline(\n",
    "    steps=[#(\"imputer\",SimpleImputer(strategy = 'median'))\n",
    "        (\"pass\",\"passthrough\")\n",
    "          ]\n",
    ")\n",
    "numeric_transformer2 = Pipeline(\n",
    "    steps=[#(\"imputer\",SimpleImputer(strategy = 'median', add_indicator=True))\n",
    "        (\"pass\",\"passthrough\")\n",
    "          ]\n",
    ")\n",
    "categorical_transformer = Pipeline(\n",
    "    steps=[(\"encoder\", OrdinalEncoder(handle_unknown=\"use_encoded_value\", max_categories=10, unknown_value=-1))\n",
    "          ]\n",
    ")\n",
    "binary_transformer = Pipeline(\n",
    "    steps=[\n",
    "        ('pass','passthrough')\n",
    "    ]\n",
    ")\n",
    "preprocessor = ColumnTransformer(\n",
    "    transformers=[\n",
    "        (\"num1\", numeric_transformer1, num_features1),\n",
    "        (\"num2\", numeric_transformer2, num_features2),\n",
    "        (\"cat\", categorical_transformer, cat_features),\n",
    "        ('binary',binary_transformer,binary_features)],\n",
    "    #remainder='passthrough'\n",
    ")"
   ]
  },
  {
   "cell_type": "markdown",
   "id": "c7ab6393",
   "metadata": {},
   "source": [
    "### RANDOM FOREST"
   ]
  },
  {
   "cell_type": "markdown",
   "id": "1ad313a7",
   "metadata": {},
   "source": [
    "RandomizedSearchCV"
   ]
  },
  {
   "cell_type": "code",
   "execution_count": 57,
   "id": "6fb43ef7",
   "metadata": {},
   "outputs": [
    {
     "name": "stdout",
     "output_type": "stream",
     "text": [
      "Best parameter: {'classifier__ccp_alpha': 37.454011884736246, 'classifier__max_depth': 4, 'classifier__min_samples_leaf': 3, 'classifier__min_samples_split': 3}\n",
      "Best CV score: 0.08072908198907737\n"
     ]
    }
   ],
   "source": [
    "pipe = Pipeline(\n",
    "    steps=[(\"preprocessor\",preprocessor),\n",
    "           ('classifier', RandomForestClassifier(random_state=42,n_jobs=-1,class_weight='balanced'))]\n",
    ")\n",
    "param = { \"classifier__max_depth\":randint(2,7),\n",
    "          \"classifier__min_samples_split\":randint(2,5),\n",
    "          \"classifier__min_samples_leaf\":randint(2,5),\n",
    "          \"classifier__ccp_alpha\": uniform(0,100)\n",
    "        }\n",
    "cv = StratifiedKFold(n_splits=5, shuffle=True, random_state=42)\n",
    "\n",
    "rf_cv1 = RandomizedSearchCV(pipe, param_distributions=param, cv=cv, scoring=\"average_precision\",random_state=42)\n",
    "rf_cv1.fit(X_train,y_train)\n",
    "\n",
    "print(\"Best parameter:\", rf_cv1.best_params_)\n",
    "print(\"Best CV score:\", rf_cv1.cv_results_['mean_test_score'].max())"
   ]
  },
  {
   "cell_type": "markdown",
   "id": "869e60d6",
   "metadata": {},
   "source": [
    "RandomizedSearchCV, Undersampling"
   ]
  },
  {
   "cell_type": "code",
   "execution_count": 156,
   "id": "c8688ae9",
   "metadata": {},
   "outputs": [
    {
     "name": "stdout",
     "output_type": "stream",
     "text": [
      "Best parameter: {'classifier__ccp_alpha': 37.454011884736246, 'classifier__max_depth': 6, 'classifier__min_samples_leaf': 4, 'classifier__min_samples_split': 4}\n",
      "Best CV score: 0.08072908198907737\n"
     ]
    }
   ],
   "source": [
    "# undersampling\n",
    "pipe = Pipeline(\n",
    "    steps=[(\"undersampler\", RandomUnderSampler()),\n",
    "           (\"preprocessor\", preprocessor),\n",
    "           ('classifier', RandomForestClassifier(random_state=42,n_jobs=-1,class_weight='balanced'))\n",
    "            ]\n",
    ")\n",
    "param = { \"classifier__max_depth\":randint(2,7),\n",
    "          \"classifier__min_samples_split\":randint(2,5),\n",
    "          \"classifier__min_samples_leaf\":randint(2,5),\n",
    "          \"classifier__ccp_alpha\": uniform(0,100)\n",
    "        }\n",
    "cv = StratifiedKFold(n_splits=5, shuffle=True, random_state=42)\n",
    "\n",
    "rf_cv1 = RandomizedSearchCV(pipe, param_distributions=param, cv=cv, scoring=\"average_precision\",random_state=42)\n",
    "rf_cv1.fit(X_train,y_train)\n",
    "\n",
    "print(\"Best parameter:\", rf_cv1.best_params_)\n",
    "print(\"Best CV score:\", rf_cv1.cv_results_['mean_test_score'].max())"
   ]
  },
  {
   "cell_type": "markdown",
   "id": "21ce7920",
   "metadata": {},
   "source": [
    "HyperOpt, SMOTE"
   ]
  },
  {
   "cell_type": "code",
   "execution_count": 17,
   "id": "618f4d9e",
   "metadata": {},
   "outputs": [
    {
     "name": "stdout",
     "output_type": "stream",
     "text": [
      "100%|███████████████████████████████████████████████| 10/10 [05:01<00:00, 30.16s/trial, best loss: -0.0807284256737531]\n"
     ]
    }
   ],
   "source": [
    "def objective(param):\n",
    "    pipe = Pipeline(steps=[\n",
    "           (\"preprocessor\",preprocessor),\n",
    "           (\"smote\",SMOTE(random_state=42)),\n",
    "           ('classifier', RandomForestClassifier(random_state=42,n_jobs=-1,class_weight='balanced'))])\n",
    "    pipe.set_params(**param) \n",
    "    \n",
    "    XX_train, XX_test, yy_train, yy_test = train_test_split(X_train,y_train,stratify=y_train, test_size=0.2)\n",
    "    \n",
    "    pipe.fit(XX_train,yy_train)\n",
    "    yy_pred = pipe.predict_proba(XX_test)\n",
    "    score = average_precision_score(yy_test,yy_pred[:,1])\n",
    "\n",
    "    return {\"loss\": -score,\n",
    "            \"status\": STATUS_OK}\n",
    "\n",
    "# Define parameter space using hyperopt random variables\n",
    "param = {'preprocessor__num__imputer__strategy':hp.choice('strategy',['mean','median']),\n",
    "         'classifier__max_depth': scope.int(hp.quniform('max_depth', 2,10,2)),\n",
    "         'classifier__min_samples_leaf': scope.int(hp.uniform('min_samples_leaf', 1,10)),\n",
    "         'classifier__min_samples_split' : scope.int(hp.uniform('min_samples_split', 2,10)),\n",
    "         'classifier__ccp_alpha':hp.uniform('ccp_alpha',0,100)\n",
    "        }\n",
    "\n",
    "# Set up trials for tracking\n",
    "trials = Trials()\n",
    "\n",
    "# Pass objective fn and params to fmin() to get results\n",
    "result = fmin(\n",
    "    fn=objective,\n",
    "    space=param,\n",
    "    algo=tpe.suggest,\n",
    "    trials=trials,\n",
    "    max_evals=10\n",
    ")"
   ]
  },
  {
   "cell_type": "markdown",
   "id": "739b2d1f",
   "metadata": {},
   "source": [
    "HyperOpt, Balanced RF"
   ]
  },
  {
   "cell_type": "code",
   "execution_count": 231,
   "id": "0d071107",
   "metadata": {},
   "outputs": [
    {
     "name": "stdout",
     "output_type": "stream",
     "text": [
      "100%|███████████████████████████████████████████████| 10/10 [02:40<00:00, 16.05s/trial, best loss: -0.0807284256737531]\n"
     ]
    }
   ],
   "source": [
    "# A balanced random forest randomly under-samples each bootstrap sample to balance it.\n",
    "def objective(param):\n",
    "    pipe = Pipeline(steps=[(\"preprocessor\",preprocessor),\n",
    "           ('classifier', BalancedRandomForestClassifier(sampling_strategy = 'majority',random_state=42,n_jobs=-1,\n",
    "                                                         class_weight='balanced',replacement=False))])\n",
    "    pipe.set_params(**param) \n",
    "    \n",
    "    XX_train, XX_test, yy_train, yy_test = train_test_split(X_train,y_train,stratify=y_train, test_size=0.2)\n",
    "    \n",
    "    pipe.fit(XX_train,yy_train)\n",
    "    yy_pred = pipe.predict_proba(XX_test)\n",
    "    score = average_precision_score(yy_test,yy_pred[:,1])\n",
    "\n",
    "    return {\"loss\": -score,\n",
    "            \"status\": STATUS_OK}\n",
    "\n",
    "# Define parameter space using hyperopt random variables\n",
    "param = {'preprocessor__num__imputer__strategy':hp.choice('strategy',['mean','median']),\n",
    "         'classifier__max_depth': scope.int(hp.quniform('max_depth', 2,10,2)),\n",
    "         'classifier__min_samples_leaf': scope.int(hp.uniform('min_samples_leaf', 1,10)),\n",
    "         'classifier__min_samples_split' : scope.int(hp.uniform('min_samples_split', 2,10)),\n",
    "         'classifier__ccp_alpha':hp.uniform('ccp_alpha',0,200)\n",
    "        }\n",
    "\n",
    "# Set up trials for tracking\n",
    "trials = Trials()\n",
    "\n",
    "# Pass objective fn and params to fmin() to get results\n",
    "result = fmin(\n",
    "    fn=objective,\n",
    "    space=param,\n",
    "    algo=tpe.suggest,\n",
    "    trials=trials,\n",
    "    max_evals=10\n",
    ")"
   ]
  },
  {
   "cell_type": "code",
   "execution_count": 18,
   "id": "6da92a44",
   "metadata": {},
   "outputs": [
    {
     "data": {
      "text/plain": [
       "{'ccp_alpha': 98.83414154382557,\n",
       " 'max_depth': 10.0,\n",
       " 'min_samples_leaf': 7.909196015358564,\n",
       " 'min_samples_split': 2.5980863289889626,\n",
       " 'strategy': 1}"
      ]
     },
     "execution_count": 18,
     "metadata": {},
     "output_type": "execute_result"
    }
   ],
   "source": [
    "result"
   ]
  },
  {
   "cell_type": "code",
   "execution_count": null,
   "id": "39d79c83",
   "metadata": {},
   "outputs": [],
   "source": []
  },
  {
   "cell_type": "markdown",
   "id": "09454f68",
   "metadata": {},
   "source": [
    "### XGBOOST"
   ]
  },
  {
   "cell_type": "markdown",
   "id": "72ee304d",
   "metadata": {},
   "source": [
    "SMOTE"
   ]
  },
  {
   "cell_type": "code",
   "execution_count": 25,
   "id": "6bf09e5a",
   "metadata": {},
   "outputs": [
    {
     "name": "stdout",
     "output_type": "stream",
     "text": [
      "100%|███████████████████████████████████████████████| 20/20 [20:57<00:00, 62.90s/trial, best loss: -0.2279901603974212]\n"
     ]
    }
   ],
   "source": [
    "def objective(param):\n",
    "    XX_train, XX_test, yy_train, yy_test = train_test_split(X_train,y_train,stratify=y_train, test_size=0.2)\n",
    "    \n",
    "    pipe = Pipeline(steps=[#(\"undersampler\", RandomUnderSampler()),\n",
    "                           (\"preprocessor\", preprocessor),\n",
    "                           (\"smote\",SMOTE(random_state=42)),\n",
    "                           ('classifier', XGBClassifier(scale_pos_weight=(y_train==0).sum()/(y_train==1).sum()))])\n",
    "    pipe.set_params(**param) \n",
    "    \n",
    "    pipe.fit(XX_train,yy_train)\n",
    "    yy_pred = pipe.predict_proba(XX_test)\n",
    "    score = average_precision_score(yy_test,yy_pred[:,1])\n",
    "#     yy_pred = pipe.predict(XX_test)\n",
    "#     score = accuracy_score(yy_test,yy_pred)\n",
    "    return {\"loss\": -score,\n",
    "            \"status\": STATUS_OK}\n",
    "\n",
    "# Define parameter space using hyperopt random variables\n",
    "param = {'preprocessor__num__imputer__strategy':hp.choice('strategy',['mean','median']),\n",
    "         'classifier__eta': hp.uniform('eta',0,1),\n",
    "         'classifier__max_depth': scope.int(hp.quniform('max_depth', 2,6,2)),\n",
    "         'classifier__min_child_weight': hp.uniform('min_child_weight', 1,10),\n",
    "         'classifier__lambda' : hp.uniform('lambda', 1,10),\n",
    "         'classifier__subsample':hp.uniform('subsample',0,1),\n",
    "         'classifier__gamma':hp.uniform('gamma',0,10),\n",
    "         'classifier__scale_pos_weight':hp.choice('weight',[1])\n",
    "}\n",
    "\n",
    "# Set up trials for tracking\n",
    "trials = Trials()\n",
    "\n",
    "# Pass objective fn and params to fmin() to get results\n",
    "result = fmin(\n",
    "    fn=objective,\n",
    "    space=param,\n",
    "    algo=tpe.suggest,\n",
    "    trials=trials,\n",
    "    max_evals=20\n",
    ")"
   ]
  },
  {
   "cell_type": "markdown",
   "id": "6e3bf919",
   "metadata": {},
   "source": [
    "Undersampling"
   ]
  },
  {
   "cell_type": "code",
   "execution_count": 257,
   "id": "f99e723a",
   "metadata": {},
   "outputs": [
    {
     "name": "stdout",
     "output_type": "stream",
     "text": [
      "100%|██████████████████████████████████████████████| 64/64 [21:51<00:00, 20.49s/trial, best loss: -0.23836420359096233]\n"
     ]
    }
   ],
   "source": [
    "def objective(param):\n",
    "    XX_train, XX_test, yy_train, yy_test = train_test_split(X_train,y_train,stratify=y_train, test_size=0.2)\n",
    "    \n",
    "    pipe = Pipeline(steps=[#(\"undersampler\", RandomUnderSampler()),\n",
    "                           (\"preprocessor\", preprocessor),\n",
    "                           ('classifier', XGBClassifier(scale_pos_weight=(yy_train==0).sum()/(yy_train==1).sum()))])\n",
    "    pipe.set_params(**param) \n",
    "    \n",
    "    pipe.fit(XX_train,yy_train)\n",
    "    yy_pred = pipe.predict_proba(XX_test)\n",
    "    score = average_precision_score(yy_test,yy_pred[:,1])\n",
    "#     yy_pred = pipe.predict(XX_test)\n",
    "#     score = accuracy_score(yy_test,yy_pred)\n",
    "    return {\"loss\": -score,\n",
    "            \"status\": STATUS_OK}\n",
    "\n",
    "# Define parameter space using hyperopt random variables\n",
    "param = {#'preprocessor__num__imputer__strategy':hp.choice('strategy',['mean','median']),\n",
    "         'classifier__eta': hp.uniform('eta',0,1),\n",
    "         'classifier__max_depth': scope.int(hp.quniform('max_depth', 2,6,2)),\n",
    "         'classifier__min_child_weight': hp.uniform('min_child_weight', 1,10),\n",
    "         'classifier__lambda' : hp.uniform('lambda', 1,10),\n",
    "         'classifier__subsample':hp.uniform('subsample',0,1),\n",
    "         'classifier__gamma':hp.uniform('gamma',0,10),\n",
    "         #'classifier__scale_pos_weight':hp.choice('weight',[1])\n",
    "}\n",
    "\n",
    "# Set up trials for tracking\n",
    "trials = Trials()\n",
    "\n",
    "# Pass objective fn and params to fmin() to get results\n",
    "result = fmin(\n",
    "    fn=objective,\n",
    "    space=param,\n",
    "    algo=tpe.suggest,\n",
    "    trials=trials,\n",
    "    max_evals=64\n",
    ")"
   ]
  },
  {
   "cell_type": "markdown",
   "id": "fd0ec4a1",
   "metadata": {},
   "source": [
    "MLFlow tracking"
   ]
  },
  {
   "cell_type": "code",
   "execution_count": 26,
   "id": "a830100a",
   "metadata": {},
   "outputs": [
    {
     "name": "stdout",
     "output_type": "stream",
     "text": [
      "100%|████████████████████████████████████████████████| 2/2 [00:13<00:00,  6.56s/trial, best loss: -0.12028085166385541]\n"
     ]
    }
   ],
   "source": [
    "def objective(param):\n",
    "\n",
    "    with mlflow.start_run(nested=True): \n",
    "        mlflow.log_params(param)\n",
    "        XX_train, XX_test, yy_train, yy_test = train_test_split(X_train,y_train,stratify=y_train, test_size=0.2)\n",
    "        weight_imbalance = (yy_train==0).sum()/(yy_train==1).sum()\n",
    "    \n",
    "        pipe = Pipeline(steps=[(\"undersampler\", RandomUnderSampler()),\n",
    "                           (\"preprocessor\", preprocessor),\n",
    "                           ('classifier', XGBClassifier(scale_pos_weight = weight_imbalance))])\n",
    "        pipe.set_params(**param) \n",
    "    \n",
    "        pipe.fit(XX_train,yy_train)\n",
    "        yy_pred_proba = pipe.predict_proba(XX_test)\n",
    "        yy_pred = pipe.predict(XX_test)\n",
    "        ap = average_precision_score(yy_test, yy_pred_proba[:, 1])\n",
    "        roc = roc_auc_score(yy_test, yy_pred_proba[:, 1])\n",
    "        acc = accuracy_score(yy_test, yy_pred)\n",
    "        logloss = log_loss(yy_test, yy_pred_proba[:, 1])\n",
    "        mlflow.log_metric(\"val_PRC_AUC\", ap)\n",
    "        mlflow.log_metric(\"val_ROC_AUC\", roc)\n",
    "        mlflow.log_metric(\"val_accuracy\", acc)\n",
    "        mlflow.log_metric(\"val_log_loss\", logloss)\n",
    "    return {\"loss\": -ap,\n",
    "                \"status\": STATUS_OK}\n",
    "\n",
    "# Define parameter space using hyperopt random variables\n",
    "param = {#'preprocessor__num__imputer__strategy':hp.choice('strategy',['mean','median']),\n",
    "         'classifier__eta': hp.uniform('eta',0,1),\n",
    "         'classifier__max_depth': scope.int(hp.quniform('max_depth', 2,10,2)),\n",
    "         'classifier__min_child_weight': hp.uniform('min_child_weight', 1,10),\n",
    "         'classifier__lambda' : hp.uniform('lambda', 1,10),\n",
    "         'classifier__subsample':hp.uniform('subsample',0,1),\n",
    "         'classifier__gamma':hp.uniform('gamma',0,10),\n",
    "         #'classifier__scale_pos_weight':hp.choice('scale_pos_weight',[1]),\n",
    "}\n",
    "\n",
    "\n",
    "\n",
    "# start a client\n",
    "client = mlflow.tracking.MlflowClient()\n",
    "\n",
    "# start an experiment\n",
    "try:\n",
    "    client.create_experiment(\"loan\")\n",
    "except:\n",
    "    experiment = client.get_experiment_by_name(\"loan\")\n",
    "    \n",
    "# set a global active experiment across parent and child runs\n",
    "mlflow.set_experiment(experiment_name='loan')\n",
    "\n",
    "# start a run\n",
    "run = client.create_run(experiment.experiment_id)\n",
    "with mlflow.start_run(run_id=run.info.run_id):\n",
    "    result = fmin(fn=objective,\n",
    "        space=param,\n",
    "        algo=tpe.suggest,\n",
    "        trials=Trials(),\n",
    "        max_evals=2)\n",
    "    result = {k:float(v) for k,v in result.items()}\n",
    "    mlflow.log_params(space_eval(param,result))\n",
    "    mlflow.log_dict(result,\"best_params.json\")\n",
    "    mlflow.set_tag(\"model\",\"XGBoost\")\n",
    "    \n",
    "    # search experiments to log the best metrics\n",
    "    experiment_id = experiment.experiment_id\n",
    "    run_id = run.info.run_id\n",
    "    runs = client.search_runs(\n",
    "            [experiment_id], \"tags.mlflow.parentRunId = '{run_id}' \".format(run_id=run.info.run_id)\n",
    "        )\n",
    "    _inf = np.finfo(np.float64).min\n",
    "    best_val_PRC_AUC = _inf\n",
    "    best_val_ROC_AUC = _inf\n",
    "    best_val_accuracy = _inf\n",
    "    best_val_log_loss = _inf\n",
    "    for r in runs:\n",
    "        if r.data.metrics[\"val_PRC_AUC\"] > best_val_PRC_AUC:\n",
    "            best_val_ROC_AUC = r.data.metrics[\"val_ROC_AUC\"]\n",
    "            best_val_accuracy = r.data.metrics[\"val_accuracy\"]\n",
    "            best_val_log_loss = r.data.metrics[\"val_log_loss\"]\n",
    "            best_val_PRC_AUC = r.data.metrics[\"val_PRC_AUC\"]\n",
    "    mlflow.log_metrics(\n",
    "                {\n",
    "                    \"val_ROC_AUC\": best_val_ROC_AUC,\n",
    "                    \"val_PRC_AUC\": best_val_PRC_AUC,\n",
    "                    \"val_log_loss\": best_val_log_loss,\n",
    "                    \"val_accuracy\": best_val_accuracy\n",
    "                }\n",
    "            )"
   ]
  },
  {
   "cell_type": "code",
   "execution_count": 258,
   "id": "72bd12c7",
   "metadata": {},
   "outputs": [
    {
     "data": {
      "text/plain": [
       "{'eta': 0.28715047020268525,\n",
       " 'gamma': 2.6923449065374774,\n",
       " 'lambda': 2.977695707610445,\n",
       " 'max_depth': 2.0,\n",
       " 'min_child_weight': 3.788857718051868,\n",
       " 'subsample': 0.9846407705580316}"
      ]
     },
     "execution_count": 258,
     "metadata": {},
     "output_type": "execute_result"
    }
   ],
   "source": [
    "result"
   ]
  },
  {
   "cell_type": "code",
   "execution_count": null,
   "id": "9491dbe8",
   "metadata": {},
   "outputs": [],
   "source": []
  },
  {
   "cell_type": "markdown",
   "id": "c1d731ae",
   "metadata": {},
   "source": [
    "### HISTGRADIENTBOOSTING"
   ]
  },
  {
   "cell_type": "code",
   "execution_count": 10,
   "id": "cf2bf4cd",
   "metadata": {},
   "outputs": [
    {
     "name": "stdout",
     "output_type": "stream",
     "text": [
      "100%|████████████████████████████████████████████████| 10/10 [00:15<00:00,  1.58s/trial, best loss: 0.5954543173799873]\n"
     ]
    }
   ],
   "source": [
    "def objective(param):\n",
    "    XX_train, XX_test, yy_train, yy_test = train_test_split(X_train,y_train,stratify=y_train, test_size=0.2)\n",
    "    \n",
    "    pipe = Pipeline(steps=[#(\"undersampler\", RandomUnderSampler()),\n",
    "                           (\"preprocessor\", preprocessor),\n",
    "                           ('classifier', HistGradientBoostingClassifier(class_weight='balanced',\n",
    "                                                                         #categorical_features=range(27,45)\n",
    "                                                                        ))])\n",
    "    pipe.set_params(**param) \n",
    "    \n",
    "    pipe.fit(XX_train,yy_train)\n",
    "    yy_pred = pipe.predict_proba(XX_test)\n",
    "#    loss = log_loss(yy_test,yy_pred[:,1])\n",
    "    score = average_precision_score(yy_test,yy_pred[:,1])\n",
    "#     yy_pred = pipe.predict(XX_test)\n",
    "#     score = accuracy_score(yy_test,yy_pred)\n",
    "    return {\"loss\": -score,\n",
    "            \"status\": STATUS_OK}\n",
    "\n",
    "# Define parameter space using hyperopt random variables\n",
    "param = {#'preprocessor__num__imputer__strategy':hp.choice('strategy',['mean','median']),\n",
    "         'classifier__learning_rate': hp.uniform('eta',0,1),\n",
    "         'classifier__max_depth': scope.int(hp.quniform('max_depth', 2,10,2)),\n",
    "         'classifier__min_samples_leaf': scope.int(hp.uniform('min_samples_leaf', 5,200)),\n",
    "         'classifier__l2_regularization' : hp.uniform('lambda', 1,10),\n",
    "         'classifier__max_leaf_nodes':scope.int(hp.uniform('max_leaf_nodes',5,200))\n",
    "         #'classifier__scale_pos_weight':hp.choice('weight',[1])\n",
    "}\n",
    "\n",
    "trials = Trials()\n",
    "\n",
    "result = fmin(\n",
    "        fn=objective,\n",
    "        space=param,\n",
    "        algo=tpe.suggest,\n",
    "        trials=trials,\n",
    "        max_evals=10\n",
    "    )\n"
   ]
  },
  {
   "cell_type": "markdown",
   "id": "a7aae956",
   "metadata": {},
   "source": [
    "Undersampling"
   ]
  },
  {
   "cell_type": "code",
   "execution_count": 240,
   "id": "0fdc766c",
   "metadata": {},
   "outputs": [
    {
     "name": "stdout",
     "output_type": "stream",
     "text": [
      "100%|██████████████████████████████████████████████| 64/64 [01:33<00:00,  1.47s/trial, best loss: -0.23590470837446603]\n"
     ]
    }
   ],
   "source": [
    "def objective(param):\n",
    "    XX_train, XX_test, yy_train, yy_test = train_test_split(X_train,y_train,stratify=y_train, test_size=0.2)\n",
    "    \n",
    "    pipe = Pipeline(steps=[(\"undersampler\", RandomUnderSampler()),\n",
    "                           (\"preprocessor\", preprocessor),\n",
    "                           ('classifier', HistGradientBoostingClassifier(class_weight='balanced',\n",
    "                                                                         #categorical_features=range(27,45)\n",
    "                                                                        ))])\n",
    "    pipe.set_params(**param) \n",
    "    \n",
    "    pipe.fit(XX_train,yy_train)\n",
    "    yy_pred = pipe.predict_proba(XX_test)\n",
    "    score = average_precision_score(yy_test,yy_pred[:,1])\n",
    "#     yy_pred = pipe.predict(XX_test)\n",
    "#     score = accuracy_score(yy_test,yy_pred)\n",
    "    return {\"loss\": -score,\n",
    "            \"status\": STATUS_OK}\n",
    "\n",
    "# Define parameter space using hyperopt random variables\n",
    "param = {#'preprocessor__num__imputer__strategy':hp.choice('strategy',['mean','median']),\n",
    "         'classifier__learning_rate': hp.uniform('eta',0,1),\n",
    "         'classifier__max_depth': scope.int(hp.quniform('max_depth', 2,10,2)),\n",
    "         'classifier__min_samples_leaf': scope.int(hp.uniform('min_samples_leaf', 5,200)),\n",
    "         'classifier__l2_regularization' : hp.uniform('lambda', 1,10),\n",
    "         'classifier__max_leaf_nodes':scope.int(hp.uniform('max_leaf_nodes',5,200)),\n",
    "         'classifier__class_weight':hp.choice('weight',[None])\n",
    "}\n",
    "\n",
    "# Set up trials for tracking\n",
    "trials = Trials()\n",
    "\n",
    "# Pass objective fn and params to fmin() to get results\n",
    "result = fmin(\n",
    "    fn=objective,\n",
    "    space=param,\n",
    "    algo=tpe.suggest,\n",
    "    trials=trials,\n",
    "    max_evals=64\n",
    ")"
   ]
  },
  {
   "cell_type": "markdown",
   "id": "5bc8d883",
   "metadata": {},
   "source": [
    "MLflow tracking"
   ]
  },
  {
   "cell_type": "code",
   "execution_count": 7,
   "id": "5769ef03",
   "metadata": {},
   "outputs": [
    {
     "name": "stdout",
     "output_type": "stream",
     "text": [
      "100%|████████████████████████████████████████████████| 2/2 [00:03<00:00,  1.56s/trial, best loss: -0.20806787049267356]\n"
     ]
    }
   ],
   "source": [
    "def objective(param):\n",
    "\n",
    "    with mlflow.start_run(nested=True): \n",
    "        mlflow.log_params(param)\n",
    "        XX_train, XX_test, yy_train, yy_test = train_test_split(X_train,y_train,stratify=y_train, test_size=0.2)\n",
    "    \n",
    "        pipe = Pipeline(steps=[(\"undersampler\", RandomUnderSampler()),\n",
    "                           (\"preprocessor\", preprocessor),\n",
    "                           ('classifier', HistGradientBoostingClassifier())])\n",
    "        pipe.set_params(**param) \n",
    "    \n",
    "        pipe.fit(XX_train,yy_train)\n",
    "        yy_pred_proba = pipe.predict_proba(XX_test)\n",
    "        yy_pred = pipe.predict(XX_test)\n",
    "        ap = average_precision_score(yy_test, yy_pred_proba[:, 1])\n",
    "        roc = roc_auc_score(yy_test, yy_pred_proba[:, 1])\n",
    "        acc = accuracy_score(yy_test, yy_pred)\n",
    "        logloss = log_loss(yy_test, yy_pred_proba[:, 1])\n",
    "        mlflow.log_metric(\"val_PRC_AUC\", ap)\n",
    "        mlflow.log_metric(\"val_ROC_AUC\", roc)\n",
    "        mlflow.log_metric(\"val_accuracy\", acc)\n",
    "        mlflow.log_metric(\"val_log_loss\", logloss)\n",
    "    return {\"loss\": -ap,\n",
    "                \"status\": STATUS_OK}\n",
    "\n",
    "# Define parameter space using hyperopt random variables\n",
    "param = {#'preprocessor__num__imputer__strategy':hp.choice('strategy',['mean','median']),\n",
    "         'classifier__learning_rate': hp.uniform('learning_rate',0,1),\n",
    "         'classifier__max_depth': scope.int(hp.quniform('max_depth', 2,10,2)),\n",
    "         'classifier__min_samples_leaf': scope.int(hp.uniform('min_samples_leaf', 5,200)),\n",
    "         'classifier__l2_regularization' : hp.uniform('l2_regularization', 1,10),\n",
    "         'classifier__max_leaf_nodes':scope.int(hp.uniform('max_leaf_nodes',5,200)),\n",
    "         'classifier__class_weight':hp.choice('class_weight',[\"balanced\"])\n",
    "}\n",
    "\n",
    "\n",
    "\n",
    "# start a client\n",
    "client = mlflow.tracking.MlflowClient()\n",
    "\n",
    "# start an experiment\n",
    "try:\n",
    "    client.create_experiment(\"loan\")\n",
    "except:\n",
    "    experiment = client.get_experiment_by_name(\"loan\")\n",
    "    \n",
    "# set a global active experiment across parent and child runs\n",
    "mlflow.set_experiment(experiment_name='loan')\n",
    "\n",
    "# start a run\n",
    "run = client.create_run(experiment.experiment_id)\n",
    "with mlflow.start_run(run_id=run.info.run_id):\n",
    "    result = fmin(fn=objective,\n",
    "        space=param,\n",
    "        algo=tpe.suggest,\n",
    "        trials=Trials(),\n",
    "        max_evals=2)\n",
    "    result = {k:float(v) for k,v in result.items()}\n",
    "    mlflow.log_params(space_eval(param,result))\n",
    "    mlflow.log_dict(result,\"best_params.json\")\n",
    "    mlflow.set_tag(\"model\",\"HistGradientBoosting\")\n",
    "    \n",
    "    # search experiments to log the best metrics\n",
    "    experiment_id = experiment.experiment_id\n",
    "    run_id = run.info.run_id\n",
    "    runs = client.search_runs(\n",
    "            [experiment_id], \"tags.mlflow.parentRunId = '{run_id}' \".format(run_id=run.info.run_id)\n",
    "        )\n",
    "    _inf = np.finfo(np.float64).min\n",
    "    best_val_PRC_AUC = _inf\n",
    "    best_val_ROC_AUC = _inf\n",
    "    best_val_accuracy = _inf\n",
    "    best_val_log_loss = _inf\n",
    "    for r in runs:\n",
    "        if r.data.metrics[\"val_PRC_AUC\"] > best_val_PRC_AUC:\n",
    "            best_val_ROC_AUC = r.data.metrics[\"val_ROC_AUC\"]\n",
    "            best_val_accuracy = r.data.metrics[\"val_accuracy\"]\n",
    "            best_val_log_loss = r.data.metrics[\"val_log_loss\"]\n",
    "            best_val_PRC_AUC = r.data.metrics[\"val_PRC_AUC\"]\n",
    "    mlflow.log_metrics(\n",
    "                {\n",
    "                    \"val_ROC_AUC\": best_val_ROC_AUC,\n",
    "                    \"val_PRC_AUC\": best_val_PRC_AUC,\n",
    "                    \"val_log_loss\": best_val_log_loss,\n",
    "                    \"val_accuracy\": best_val_accuracy\n",
    "                }\n",
    "            )"
   ]
  },
  {
   "cell_type": "code",
   "execution_count": 40,
   "id": "30b467be",
   "metadata": {},
   "outputs": [
    {
     "data": {
      "text/plain": [
       "{'class_weight': 0.0,\n",
       " 'l2_regularization': 8.008941566201596,\n",
       " 'learning_rate': 0.29305364694969455,\n",
       " 'max_depth': 4.0,\n",
       " 'max_leaf_nodes': 74.57094257536562,\n",
       " 'min_samples_leaf': 100.68769976033155}"
      ]
     },
     "execution_count": 40,
     "metadata": {},
     "output_type": "execute_result"
    }
   ],
   "source": [
    "result"
   ]
  },
  {
   "cell_type": "code",
   "execution_count": null,
   "id": "0f5c53bd",
   "metadata": {},
   "outputs": [],
   "source": []
  },
  {
   "cell_type": "markdown",
   "id": "ac1a125f",
   "metadata": {},
   "source": [
    "### LIGHTGBM"
   ]
  },
  {
   "cell_type": "code",
   "execution_count": 39,
   "id": "f4fe8c7d",
   "metadata": {},
   "outputs": [
    {
     "name": "stdout",
     "output_type": "stream",
     "text": [
      "100%|████████████████████████████████████████████| 128/128 [11:50<00:00,  5.55s/trial, best loss: -0.24222172208766407]\n"
     ]
    }
   ],
   "source": [
    "def objective(param):\n",
    "\n",
    "    with mlflow.start_run(nested=True): \n",
    "        mlflow.log_params(param)\n",
    "        XX_train, XX_test, yy_train, yy_test = train_test_split(X_train,y_train,stratify=y_train, test_size=0.2)\n",
    "    \n",
    "        pipe = Pipeline(steps=[#(\"undersampler\", RandomUnderSampler()),\n",
    "                           (\"preprocessor\", preprocessor),\n",
    "                           ('classifier', LGBMClassifier(verbosity=-1))])\n",
    "        pipe.set_params(**param) \n",
    "    \n",
    "        pipe.fit(XX_train,yy_train)\n",
    "        yy_pred_proba = pipe.predict_proba(XX_test)\n",
    "        yy_pred = pipe.predict(XX_test)\n",
    "        ap = average_precision_score(yy_test, yy_pred_proba[:, 1])\n",
    "        roc = roc_auc_score(yy_test, yy_pred_proba[:, 1])\n",
    "        acc = accuracy_score(yy_test, yy_pred)\n",
    "        logloss = log_loss(yy_test, yy_pred_proba[:, 1])\n",
    "        mlflow.log_metric(\"val_PRC_AUC\", ap)\n",
    "        mlflow.log_metric(\"val_ROC_AUC\", roc)\n",
    "        mlflow.log_metric(\"val_accuracy\", acc)\n",
    "        mlflow.log_metric(\"val_log_loss\", logloss)\n",
    "    return {\"loss\": -ap,\n",
    "                \"status\": STATUS_OK}\n",
    "\n",
    "# Define parameter space using hyperopt random variables\n",
    "param = {#'preprocessor__num__imputer__strategy':hp.choice('strategy',['mean','median']),\n",
    "         'classifier__learning_rate': hp.uniform('learning_rate',0,1),\n",
    "         'classifier__max_depth': scope.int(hp.uniform('max_depth', 2,10)),\n",
    "         'classifier__min_data_in_leaf': scope.int(hp.uniform('min_data_in_leaf', 10,200)),\n",
    "         'classifier__lambda_l2' : hp.uniform('lambda_l2', 1,10),\n",
    "         'classifier__num_leaves':scope.int(hp.uniform('num_leaves',10,200)),\n",
    "         'classifier__feature_fraction':hp.uniform('feature_fraction',0,1),\n",
    "         'classifier__is_unbalance':hp.choice('is_unbalance',[False]),\n",
    "}\n",
    "\n",
    "\n",
    "\n",
    "# start a client\n",
    "client = mlflow.tracking.MlflowClient()\n",
    "\n",
    "# start an experiment\n",
    "try:\n",
    "    client.create_experiment(\"loan\")\n",
    "except:\n",
    "    experiment = client.get_experiment_by_name(\"loan\")\n",
    "    \n",
    "# set a global active experiment across parent and child runs\n",
    "mlflow.set_experiment(experiment_name='loan')\n",
    "\n",
    "# start a run\n",
    "run = client.create_run(experiment.experiment_id)\n",
    "with mlflow.start_run(run_id=run.info.run_id):\n",
    "    result = fmin(fn=objective,\n",
    "        space=param,\n",
    "        algo=tpe.suggest,\n",
    "        trials=Trials(),\n",
    "        max_evals=128)\n",
    "    result = {k:float(v) for k,v in result.items()}\n",
    "    mlflow.log_params(space_eval(param,result))\n",
    "    mlflow.log_dict(result,\"best_params.json\")\n",
    "    mlflow.set_tag(\"model\",\"LightGBM\")\n",
    "    \n",
    "    # search experiments to log the best metrics\n",
    "    experiment_id = experiment.experiment_id\n",
    "    run_id = run.info.run_id\n",
    "    runs = client.search_runs(\n",
    "            [experiment_id], \"tags.mlflow.parentRunId = '{run_id}' \".format(run_id=run.info.run_id)\n",
    "        )\n",
    "    _inf = np.finfo(np.float64).min\n",
    "    best_val_PRC_AUC = _inf\n",
    "    best_val_ROC_AUC = _inf\n",
    "    best_val_accuracy = _inf\n",
    "    best_val_log_loss = _inf\n",
    "    for r in runs:\n",
    "        if r.data.metrics[\"val_PRC_AUC\"] > best_val_PRC_AUC:\n",
    "            best_val_ROC_AUC = r.data.metrics[\"val_ROC_AUC\"]\n",
    "            best_val_accuracy = r.data.metrics[\"val_accuracy\"]\n",
    "            best_val_log_loss = r.data.metrics[\"val_log_loss\"]\n",
    "            best_val_PRC_AUC = r.data.metrics[\"val_PRC_AUC\"]\n",
    "    mlflow.log_metrics(\n",
    "                {\n",
    "                    \"val_ROC_AUC\": best_val_ROC_AUC,\n",
    "                    \"val_PRC_AUC\": best_val_PRC_AUC,\n",
    "                    \"val_log_loss\": best_val_log_loss,\n",
    "                    \"val_accuracy\": best_val_accuracy\n",
    "                }\n",
    "            )"
   ]
  },
  {
   "cell_type": "code",
   "execution_count": null,
   "id": "dbaf1f09",
   "metadata": {},
   "outputs": [],
   "source": []
  },
  {
   "cell_type": "code",
   "execution_count": null,
   "id": "3f21ca96",
   "metadata": {},
   "outputs": [],
   "source": []
  },
  {
   "cell_type": "markdown",
   "id": "35c849a6",
   "metadata": {},
   "source": [
    "### EVALUATION"
   ]
  },
  {
   "cell_type": "code",
   "execution_count": 19,
   "id": "080b7347",
   "metadata": {},
   "outputs": [
    {
     "data": {
      "text/html": [
       "<style>#sk-container-id-1 {color: black;}#sk-container-id-1 pre{padding: 0;}#sk-container-id-1 div.sk-toggleable {background-color: white;}#sk-container-id-1 label.sk-toggleable__label {cursor: pointer;display: block;width: 100%;margin-bottom: 0;padding: 0.3em;box-sizing: border-box;text-align: center;}#sk-container-id-1 label.sk-toggleable__label-arrow:before {content: \"▸\";float: left;margin-right: 0.25em;color: #696969;}#sk-container-id-1 label.sk-toggleable__label-arrow:hover:before {color: black;}#sk-container-id-1 div.sk-estimator:hover label.sk-toggleable__label-arrow:before {color: black;}#sk-container-id-1 div.sk-toggleable__content {max-height: 0;max-width: 0;overflow: hidden;text-align: left;background-color: #f0f8ff;}#sk-container-id-1 div.sk-toggleable__content pre {margin: 0.2em;color: black;border-radius: 0.25em;background-color: #f0f8ff;}#sk-container-id-1 input.sk-toggleable__control:checked~div.sk-toggleable__content {max-height: 200px;max-width: 100%;overflow: auto;}#sk-container-id-1 input.sk-toggleable__control:checked~label.sk-toggleable__label-arrow:before {content: \"▾\";}#sk-container-id-1 div.sk-estimator input.sk-toggleable__control:checked~label.sk-toggleable__label {background-color: #d4ebff;}#sk-container-id-1 div.sk-label input.sk-toggleable__control:checked~label.sk-toggleable__label {background-color: #d4ebff;}#sk-container-id-1 input.sk-hidden--visually {border: 0;clip: rect(1px 1px 1px 1px);clip: rect(1px, 1px, 1px, 1px);height: 1px;margin: -1px;overflow: hidden;padding: 0;position: absolute;width: 1px;}#sk-container-id-1 div.sk-estimator {font-family: monospace;background-color: #f0f8ff;border: 1px dotted black;border-radius: 0.25em;box-sizing: border-box;margin-bottom: 0.5em;}#sk-container-id-1 div.sk-estimator:hover {background-color: #d4ebff;}#sk-container-id-1 div.sk-parallel-item::after {content: \"\";width: 100%;border-bottom: 1px solid gray;flex-grow: 1;}#sk-container-id-1 div.sk-label:hover label.sk-toggleable__label {background-color: #d4ebff;}#sk-container-id-1 div.sk-serial::before {content: \"\";position: absolute;border-left: 1px solid gray;box-sizing: border-box;top: 0;bottom: 0;left: 50%;z-index: 0;}#sk-container-id-1 div.sk-serial {display: flex;flex-direction: column;align-items: center;background-color: white;padding-right: 0.2em;padding-left: 0.2em;position: relative;}#sk-container-id-1 div.sk-item {position: relative;z-index: 1;}#sk-container-id-1 div.sk-parallel {display: flex;align-items: stretch;justify-content: center;background-color: white;position: relative;}#sk-container-id-1 div.sk-item::before, #sk-container-id-1 div.sk-parallel-item::before {content: \"\";position: absolute;border-left: 1px solid gray;box-sizing: border-box;top: 0;bottom: 0;left: 50%;z-index: -1;}#sk-container-id-1 div.sk-parallel-item {display: flex;flex-direction: column;z-index: 1;position: relative;background-color: white;}#sk-container-id-1 div.sk-parallel-item:first-child::after {align-self: flex-end;width: 50%;}#sk-container-id-1 div.sk-parallel-item:last-child::after {align-self: flex-start;width: 50%;}#sk-container-id-1 div.sk-parallel-item:only-child::after {width: 0;}#sk-container-id-1 div.sk-dashed-wrapped {border: 1px dashed gray;margin: 0 0.4em 0.5em 0.4em;box-sizing: border-box;padding-bottom: 0.4em;background-color: white;}#sk-container-id-1 div.sk-label label {font-family: monospace;font-weight: bold;display: inline-block;line-height: 1.2em;}#sk-container-id-1 div.sk-label-container {text-align: center;}#sk-container-id-1 div.sk-container {/* jupyter's `normalize.less` sets `[hidden] { display: none; }` but bootstrap.min.css set `[hidden] { display: none !important; }` so we also need the `!important` here to be able to override the default hidden behavior on the sphinx rendered scikit-learn.org. See: https://github.com/scikit-learn/scikit-learn/issues/21755 */display: inline-block !important;position: relative;}#sk-container-id-1 div.sk-text-repr-fallback {display: none;}</style><div id=\"sk-container-id-1\" class=\"sk-top-container\"><div class=\"sk-text-repr-fallback\"><pre>Pipeline(steps=[(&#x27;preprocessor&#x27;,\n",
       "                 ColumnTransformer(transformers=[(&#x27;num&#x27;,\n",
       "                                                  Pipeline(steps=[(&#x27;imputer&#x27;,\n",
       "                                                                   SimpleImputer(add_indicator=True,\n",
       "                                                                                 strategy=&#x27;median&#x27;))]),\n",
       "                                                  [&#x27;CNT_CHILDREN&#x27;,\n",
       "                                                   &#x27;AMT_INCOME_TOTAL&#x27;,\n",
       "                                                   &#x27;AMT_CREDIT&#x27;, &#x27;AMT_ANNUITY&#x27;,\n",
       "                                                   &#x27;AMT_GOODS_PRICE&#x27;,\n",
       "                                                   &#x27;REGION_POPULATION_RELATIVE&#x27;,\n",
       "                                                   &#x27;DAYS_BIRTH&#x27;,\n",
       "                                                   &#x27;DAYS_EMPLOYED&#x27;,\n",
       "                                                   &#x27;DAYS_REGISTRATION&#x27;,\n",
       "                                                   &#x27;DAYS_ID_PUBLISH&#x27;,\n",
       "                                                   &#x27;CNT_FAM_MEMBERS&#x27;,\n",
       "                                                   &#x27;RE...\n",
       "                                                   &#x27;FLAG_DOCUMENT_11&#x27;,\n",
       "                                                   &#x27;FLAG_DOCUMENT_12&#x27;,\n",
       "                                                   &#x27;FLAG_DOCUMENT_13&#x27;,\n",
       "                                                   &#x27;FLAG_DOCUMENT_14&#x27;,\n",
       "                                                   &#x27;FLAG_DOCUMENT_15&#x27;,\n",
       "                                                   &#x27;FLAG_DOCUMENT_16&#x27;,\n",
       "                                                   &#x27;FLAG_DOCUMENT_17&#x27;,\n",
       "                                                   &#x27;FLAG_DOCUMENT_18&#x27;,\n",
       "                                                   &#x27;FLAG_DOCUMENT_19&#x27;, ...])])),\n",
       "                (&#x27;smote&#x27;, SMOTE(random_state=42)),\n",
       "                (&#x27;classifier&#x27;,\n",
       "                 RandomForestClassifier(ccp_alpha=98.83414154382557,\n",
       "                                        class_weight=&#x27;balanced&#x27;, max_depth=10,\n",
       "                                        min_samples_leaf=7, n_jobs=-1,\n",
       "                                        random_state=42))])</pre><b>In a Jupyter environment, please rerun this cell to show the HTML representation or trust the notebook. <br />On GitHub, the HTML representation is unable to render, please try loading this page with nbviewer.org.</b></div><div class=\"sk-container\" hidden><div class=\"sk-item sk-dashed-wrapped\"><div class=\"sk-label-container\"><div class=\"sk-label sk-toggleable\"><input class=\"sk-toggleable__control sk-hidden--visually\" id=\"sk-estimator-id-1\" type=\"checkbox\" ><label for=\"sk-estimator-id-1\" class=\"sk-toggleable__label sk-toggleable__label-arrow\">Pipeline</label><div class=\"sk-toggleable__content\"><pre>Pipeline(steps=[(&#x27;preprocessor&#x27;,\n",
       "                 ColumnTransformer(transformers=[(&#x27;num&#x27;,\n",
       "                                                  Pipeline(steps=[(&#x27;imputer&#x27;,\n",
       "                                                                   SimpleImputer(add_indicator=True,\n",
       "                                                                                 strategy=&#x27;median&#x27;))]),\n",
       "                                                  [&#x27;CNT_CHILDREN&#x27;,\n",
       "                                                   &#x27;AMT_INCOME_TOTAL&#x27;,\n",
       "                                                   &#x27;AMT_CREDIT&#x27;, &#x27;AMT_ANNUITY&#x27;,\n",
       "                                                   &#x27;AMT_GOODS_PRICE&#x27;,\n",
       "                                                   &#x27;REGION_POPULATION_RELATIVE&#x27;,\n",
       "                                                   &#x27;DAYS_BIRTH&#x27;,\n",
       "                                                   &#x27;DAYS_EMPLOYED&#x27;,\n",
       "                                                   &#x27;DAYS_REGISTRATION&#x27;,\n",
       "                                                   &#x27;DAYS_ID_PUBLISH&#x27;,\n",
       "                                                   &#x27;CNT_FAM_MEMBERS&#x27;,\n",
       "                                                   &#x27;RE...\n",
       "                                                   &#x27;FLAG_DOCUMENT_11&#x27;,\n",
       "                                                   &#x27;FLAG_DOCUMENT_12&#x27;,\n",
       "                                                   &#x27;FLAG_DOCUMENT_13&#x27;,\n",
       "                                                   &#x27;FLAG_DOCUMENT_14&#x27;,\n",
       "                                                   &#x27;FLAG_DOCUMENT_15&#x27;,\n",
       "                                                   &#x27;FLAG_DOCUMENT_16&#x27;,\n",
       "                                                   &#x27;FLAG_DOCUMENT_17&#x27;,\n",
       "                                                   &#x27;FLAG_DOCUMENT_18&#x27;,\n",
       "                                                   &#x27;FLAG_DOCUMENT_19&#x27;, ...])])),\n",
       "                (&#x27;smote&#x27;, SMOTE(random_state=42)),\n",
       "                (&#x27;classifier&#x27;,\n",
       "                 RandomForestClassifier(ccp_alpha=98.83414154382557,\n",
       "                                        class_weight=&#x27;balanced&#x27;, max_depth=10,\n",
       "                                        min_samples_leaf=7, n_jobs=-1,\n",
       "                                        random_state=42))])</pre></div></div></div><div class=\"sk-serial\"><div class=\"sk-item sk-dashed-wrapped\"><div class=\"sk-label-container\"><div class=\"sk-label sk-toggleable\"><input class=\"sk-toggleable__control sk-hidden--visually\" id=\"sk-estimator-id-2\" type=\"checkbox\" ><label for=\"sk-estimator-id-2\" class=\"sk-toggleable__label sk-toggleable__label-arrow\">preprocessor: ColumnTransformer</label><div class=\"sk-toggleable__content\"><pre>ColumnTransformer(transformers=[(&#x27;num&#x27;,\n",
       "                                 Pipeline(steps=[(&#x27;imputer&#x27;,\n",
       "                                                  SimpleImputer(add_indicator=True,\n",
       "                                                                strategy=&#x27;median&#x27;))]),\n",
       "                                 [&#x27;CNT_CHILDREN&#x27;, &#x27;AMT_INCOME_TOTAL&#x27;,\n",
       "                                  &#x27;AMT_CREDIT&#x27;, &#x27;AMT_ANNUITY&#x27;,\n",
       "                                  &#x27;AMT_GOODS_PRICE&#x27;,\n",
       "                                  &#x27;REGION_POPULATION_RELATIVE&#x27;, &#x27;DAYS_BIRTH&#x27;,\n",
       "                                  &#x27;DAYS_EMPLOYED&#x27;, &#x27;DAYS_REGISTRATION&#x27;,\n",
       "                                  &#x27;DAYS_ID_PUBLISH&#x27;, &#x27;CNT_FAM_MEMBERS&#x27;,\n",
       "                                  &#x27;REGION_RATING_CLIENT&#x27;,\n",
       "                                  &#x27;REGION_RATI...\n",
       "                                  &#x27;LIVE_CITY_NOT_WORK_CITY&#x27;, &#x27;FLAG_DOCUMENT_2&#x27;,\n",
       "                                  &#x27;FLAG_DOCUMENT_3&#x27;, &#x27;FLAG_DOCUMENT_4&#x27;,\n",
       "                                  &#x27;FLAG_DOCUMENT_5&#x27;, &#x27;FLAG_DOCUMENT_6&#x27;,\n",
       "                                  &#x27;FLAG_DOCUMENT_7&#x27;, &#x27;FLAG_DOCUMENT_8&#x27;,\n",
       "                                  &#x27;FLAG_DOCUMENT_9&#x27;, &#x27;FLAG_DOCUMENT_10&#x27;,\n",
       "                                  &#x27;FLAG_DOCUMENT_11&#x27;, &#x27;FLAG_DOCUMENT_12&#x27;,\n",
       "                                  &#x27;FLAG_DOCUMENT_13&#x27;, &#x27;FLAG_DOCUMENT_14&#x27;,\n",
       "                                  &#x27;FLAG_DOCUMENT_15&#x27;, &#x27;FLAG_DOCUMENT_16&#x27;,\n",
       "                                  &#x27;FLAG_DOCUMENT_17&#x27;, &#x27;FLAG_DOCUMENT_18&#x27;,\n",
       "                                  &#x27;FLAG_DOCUMENT_19&#x27;, ...])])</pre></div></div></div><div class=\"sk-parallel\"><div class=\"sk-parallel-item\"><div class=\"sk-item\"><div class=\"sk-label-container\"><div class=\"sk-label sk-toggleable\"><input class=\"sk-toggleable__control sk-hidden--visually\" id=\"sk-estimator-id-3\" type=\"checkbox\" ><label for=\"sk-estimator-id-3\" class=\"sk-toggleable__label sk-toggleable__label-arrow\">num</label><div class=\"sk-toggleable__content\"><pre>[&#x27;CNT_CHILDREN&#x27;, &#x27;AMT_INCOME_TOTAL&#x27;, &#x27;AMT_CREDIT&#x27;, &#x27;AMT_ANNUITY&#x27;, &#x27;AMT_GOODS_PRICE&#x27;, &#x27;REGION_POPULATION_RELATIVE&#x27;, &#x27;DAYS_BIRTH&#x27;, &#x27;DAYS_EMPLOYED&#x27;, &#x27;DAYS_REGISTRATION&#x27;, &#x27;DAYS_ID_PUBLISH&#x27;, &#x27;CNT_FAM_MEMBERS&#x27;, &#x27;REGION_RATING_CLIENT&#x27;, &#x27;REGION_RATING_CLIENT_W_CITY&#x27;, &#x27;EXT_SOURCE_2&#x27;, &#x27;EXT_SOURCE_3&#x27;, &#x27;DAYS_LAST_PHONE_CHANGE&#x27;, &#x27;OBS_30_CNT_SOCIAL_CIRCLE&#x27;, &#x27;DEF_30_CNT_SOCIAL_CIRCLE&#x27;, &#x27;OBS_60_CNT_SOCIAL_CIRCLE&#x27;, &#x27;DEF_60_CNT_SOCIAL_CIRCLE&#x27;, &#x27;AMT_REQ_CREDIT_BUREAU_HOUR&#x27;, &#x27;AMT_REQ_CREDIT_BUREAU_DAY&#x27;, &#x27;AMT_REQ_CREDIT_BUREAU_WEEK&#x27;, &#x27;AMT_REQ_CREDIT_BUREAU_MON&#x27;, &#x27;AMT_REQ_CREDIT_BUREAU_QRT&#x27;, &#x27;AMT_REQ_CREDIT_BUREAU_YEAR&#x27;]</pre></div></div></div><div class=\"sk-serial\"><div class=\"sk-item\"><div class=\"sk-serial\"><div class=\"sk-item\"><div class=\"sk-estimator sk-toggleable\"><input class=\"sk-toggleable__control sk-hidden--visually\" id=\"sk-estimator-id-4\" type=\"checkbox\" ><label for=\"sk-estimator-id-4\" class=\"sk-toggleable__label sk-toggleable__label-arrow\">SimpleImputer</label><div class=\"sk-toggleable__content\"><pre>SimpleImputer(add_indicator=True, strategy=&#x27;median&#x27;)</pre></div></div></div></div></div></div></div></div><div class=\"sk-parallel-item\"><div class=\"sk-item\"><div class=\"sk-label-container\"><div class=\"sk-label sk-toggleable\"><input class=\"sk-toggleable__control sk-hidden--visually\" id=\"sk-estimator-id-5\" type=\"checkbox\" ><label for=\"sk-estimator-id-5\" class=\"sk-toggleable__label sk-toggleable__label-arrow\">cat</label><div class=\"sk-toggleable__content\"><pre>[&#x27;NAME_CONTRACT_TYPE&#x27;, &#x27;CODE_GENDER&#x27;, &#x27;FLAG_OWN_CAR&#x27;, &#x27;FLAG_OWN_REALTY&#x27;, &#x27;NAME_TYPE_SUITE&#x27;, &#x27;NAME_INCOME_TYPE&#x27;, &#x27;NAME_EDUCATION_TYPE&#x27;, &#x27;NAME_FAMILY_STATUS&#x27;, &#x27;NAME_HOUSING_TYPE&#x27;, &#x27;OCCUPATION_TYPE&#x27;, &#x27;WEEKDAY_APPR_PROCESS_START&#x27;, &#x27;HOUR_APPR_PROCESS_START&#x27;, &#x27;ORGANIZATION_TYPE&#x27;]</pre></div></div></div><div class=\"sk-serial\"><div class=\"sk-item\"><div class=\"sk-serial\"><div class=\"sk-item\"><div class=\"sk-estimator sk-toggleable\"><input class=\"sk-toggleable__control sk-hidden--visually\" id=\"sk-estimator-id-6\" type=\"checkbox\" ><label for=\"sk-estimator-id-6\" class=\"sk-toggleable__label sk-toggleable__label-arrow\">OrdinalEncoder</label><div class=\"sk-toggleable__content\"><pre>OrdinalEncoder(handle_unknown=&#x27;use_encoded_value&#x27;, max_categories=10,\n",
       "               unknown_value=-1)</pre></div></div></div></div></div></div></div></div><div class=\"sk-parallel-item\"><div class=\"sk-item\"><div class=\"sk-label-container\"><div class=\"sk-label sk-toggleable\"><input class=\"sk-toggleable__control sk-hidden--visually\" id=\"sk-estimator-id-7\" type=\"checkbox\" ><label for=\"sk-estimator-id-7\" class=\"sk-toggleable__label sk-toggleable__label-arrow\">binary</label><div class=\"sk-toggleable__content\"><pre>[&#x27;FLAG_MOBIL&#x27;, &#x27;FLAG_EMP_PHONE&#x27;, &#x27;FLAG_WORK_PHONE&#x27;, &#x27;FLAG_CONT_MOBILE&#x27;, &#x27;FLAG_PHONE&#x27;, &#x27;FLAG_EMAIL&#x27;, &#x27;REG_REGION_NOT_LIVE_REGION&#x27;, &#x27;REG_REGION_NOT_WORK_REGION&#x27;, &#x27;LIVE_REGION_NOT_WORK_REGION&#x27;, &#x27;REG_CITY_NOT_LIVE_CITY&#x27;, &#x27;REG_CITY_NOT_WORK_CITY&#x27;, &#x27;LIVE_CITY_NOT_WORK_CITY&#x27;, &#x27;FLAG_DOCUMENT_2&#x27;, &#x27;FLAG_DOCUMENT_3&#x27;, &#x27;FLAG_DOCUMENT_4&#x27;, &#x27;FLAG_DOCUMENT_5&#x27;, &#x27;FLAG_DOCUMENT_6&#x27;, &#x27;FLAG_DOCUMENT_7&#x27;, &#x27;FLAG_DOCUMENT_8&#x27;, &#x27;FLAG_DOCUMENT_9&#x27;, &#x27;FLAG_DOCUMENT_10&#x27;, &#x27;FLAG_DOCUMENT_11&#x27;, &#x27;FLAG_DOCUMENT_12&#x27;, &#x27;FLAG_DOCUMENT_13&#x27;, &#x27;FLAG_DOCUMENT_14&#x27;, &#x27;FLAG_DOCUMENT_15&#x27;, &#x27;FLAG_DOCUMENT_16&#x27;, &#x27;FLAG_DOCUMENT_17&#x27;, &#x27;FLAG_DOCUMENT_18&#x27;, &#x27;FLAG_DOCUMENT_19&#x27;, &#x27;FLAG_DOCUMENT_20&#x27;, &#x27;FLAG_DOCUMENT_21&#x27;]</pre></div></div></div><div class=\"sk-serial\"><div class=\"sk-item\"><div class=\"sk-serial\"><div class=\"sk-item\"><div class=\"sk-estimator sk-toggleable\"><input class=\"sk-toggleable__control sk-hidden--visually\" id=\"sk-estimator-id-8\" type=\"checkbox\" ><label for=\"sk-estimator-id-8\" class=\"sk-toggleable__label sk-toggleable__label-arrow\">passthrough</label><div class=\"sk-toggleable__content\"><pre>passthrough</pre></div></div></div></div></div></div></div></div></div></div><div class=\"sk-item\"><div class=\"sk-estimator sk-toggleable\"><input class=\"sk-toggleable__control sk-hidden--visually\" id=\"sk-estimator-id-9\" type=\"checkbox\" ><label for=\"sk-estimator-id-9\" class=\"sk-toggleable__label sk-toggleable__label-arrow\">SMOTE</label><div class=\"sk-toggleable__content\"><pre>SMOTE(random_state=42)</pre></div></div></div><div class=\"sk-item\"><div class=\"sk-estimator sk-toggleable\"><input class=\"sk-toggleable__control sk-hidden--visually\" id=\"sk-estimator-id-10\" type=\"checkbox\" ><label for=\"sk-estimator-id-10\" class=\"sk-toggleable__label sk-toggleable__label-arrow\">RandomForestClassifier</label><div class=\"sk-toggleable__content\"><pre>RandomForestClassifier(ccp_alpha=98.83414154382557, class_weight=&#x27;balanced&#x27;,\n",
       "                       max_depth=10, min_samples_leaf=7, n_jobs=-1,\n",
       "                       random_state=42)</pre></div></div></div></div></div></div></div>"
      ],
      "text/plain": [
       "Pipeline(steps=[('preprocessor',\n",
       "                 ColumnTransformer(transformers=[('num',\n",
       "                                                  Pipeline(steps=[('imputer',\n",
       "                                                                   SimpleImputer(add_indicator=True,\n",
       "                                                                                 strategy='median'))]),\n",
       "                                                  ['CNT_CHILDREN',\n",
       "                                                   'AMT_INCOME_TOTAL',\n",
       "                                                   'AMT_CREDIT', 'AMT_ANNUITY',\n",
       "                                                   'AMT_GOODS_PRICE',\n",
       "                                                   'REGION_POPULATION_RELATIVE',\n",
       "                                                   'DAYS_BIRTH',\n",
       "                                                   'DAYS_EMPLOYED',\n",
       "                                                   'DAYS_REGISTRATION',\n",
       "                                                   'DAYS_ID_PUBLISH',\n",
       "                                                   'CNT_FAM_MEMBERS',\n",
       "                                                   'RE...\n",
       "                                                   'FLAG_DOCUMENT_11',\n",
       "                                                   'FLAG_DOCUMENT_12',\n",
       "                                                   'FLAG_DOCUMENT_13',\n",
       "                                                   'FLAG_DOCUMENT_14',\n",
       "                                                   'FLAG_DOCUMENT_15',\n",
       "                                                   'FLAG_DOCUMENT_16',\n",
       "                                                   'FLAG_DOCUMENT_17',\n",
       "                                                   'FLAG_DOCUMENT_18',\n",
       "                                                   'FLAG_DOCUMENT_19', ...])])),\n",
       "                ('smote', SMOTE(random_state=42)),\n",
       "                ('classifier',\n",
       "                 RandomForestClassifier(ccp_alpha=98.83414154382557,\n",
       "                                        class_weight='balanced', max_depth=10,\n",
       "                                        min_samples_leaf=7, n_jobs=-1,\n",
       "                                        random_state=42))])"
      ]
     },
     "execution_count": 19,
     "metadata": {},
     "output_type": "execute_result"
    }
   ],
   "source": [
    "pipe = Pipeline(steps=[(\"preprocessor\",preprocessor),\n",
    "                       (\"smote\",SMOTE(random_state=42)),\n",
    "                      ('classifier', RandomForestClassifier(random_state=42,n_jobs=-1,\n",
    "                                                         class_weight='balanced'))])\n",
    "pipe.set_params(**space_eval(param,result)) "
   ]
  },
  {
   "cell_type": "code",
   "execution_count": 260,
   "id": "a61d9d94",
   "metadata": {},
   "outputs": [
    {
     "data": {
      "text/html": [
       "<style>#sk-container-id-17 {color: black;}#sk-container-id-17 pre{padding: 0;}#sk-container-id-17 div.sk-toggleable {background-color: white;}#sk-container-id-17 label.sk-toggleable__label {cursor: pointer;display: block;width: 100%;margin-bottom: 0;padding: 0.3em;box-sizing: border-box;text-align: center;}#sk-container-id-17 label.sk-toggleable__label-arrow:before {content: \"▸\";float: left;margin-right: 0.25em;color: #696969;}#sk-container-id-17 label.sk-toggleable__label-arrow:hover:before {color: black;}#sk-container-id-17 div.sk-estimator:hover label.sk-toggleable__label-arrow:before {color: black;}#sk-container-id-17 div.sk-toggleable__content {max-height: 0;max-width: 0;overflow: hidden;text-align: left;background-color: #f0f8ff;}#sk-container-id-17 div.sk-toggleable__content pre {margin: 0.2em;color: black;border-radius: 0.25em;background-color: #f0f8ff;}#sk-container-id-17 input.sk-toggleable__control:checked~div.sk-toggleable__content {max-height: 200px;max-width: 100%;overflow: auto;}#sk-container-id-17 input.sk-toggleable__control:checked~label.sk-toggleable__label-arrow:before {content: \"▾\";}#sk-container-id-17 div.sk-estimator input.sk-toggleable__control:checked~label.sk-toggleable__label {background-color: #d4ebff;}#sk-container-id-17 div.sk-label input.sk-toggleable__control:checked~label.sk-toggleable__label {background-color: #d4ebff;}#sk-container-id-17 input.sk-hidden--visually {border: 0;clip: rect(1px 1px 1px 1px);clip: rect(1px, 1px, 1px, 1px);height: 1px;margin: -1px;overflow: hidden;padding: 0;position: absolute;width: 1px;}#sk-container-id-17 div.sk-estimator {font-family: monospace;background-color: #f0f8ff;border: 1px dotted black;border-radius: 0.25em;box-sizing: border-box;margin-bottom: 0.5em;}#sk-container-id-17 div.sk-estimator:hover {background-color: #d4ebff;}#sk-container-id-17 div.sk-parallel-item::after {content: \"\";width: 100%;border-bottom: 1px solid gray;flex-grow: 1;}#sk-container-id-17 div.sk-label:hover label.sk-toggleable__label {background-color: #d4ebff;}#sk-container-id-17 div.sk-serial::before {content: \"\";position: absolute;border-left: 1px solid gray;box-sizing: border-box;top: 0;bottom: 0;left: 50%;z-index: 0;}#sk-container-id-17 div.sk-serial {display: flex;flex-direction: column;align-items: center;background-color: white;padding-right: 0.2em;padding-left: 0.2em;position: relative;}#sk-container-id-17 div.sk-item {position: relative;z-index: 1;}#sk-container-id-17 div.sk-parallel {display: flex;align-items: stretch;justify-content: center;background-color: white;position: relative;}#sk-container-id-17 div.sk-item::before, #sk-container-id-17 div.sk-parallel-item::before {content: \"\";position: absolute;border-left: 1px solid gray;box-sizing: border-box;top: 0;bottom: 0;left: 50%;z-index: -1;}#sk-container-id-17 div.sk-parallel-item {display: flex;flex-direction: column;z-index: 1;position: relative;background-color: white;}#sk-container-id-17 div.sk-parallel-item:first-child::after {align-self: flex-end;width: 50%;}#sk-container-id-17 div.sk-parallel-item:last-child::after {align-self: flex-start;width: 50%;}#sk-container-id-17 div.sk-parallel-item:only-child::after {width: 0;}#sk-container-id-17 div.sk-dashed-wrapped {border: 1px dashed gray;margin: 0 0.4em 0.5em 0.4em;box-sizing: border-box;padding-bottom: 0.4em;background-color: white;}#sk-container-id-17 div.sk-label label {font-family: monospace;font-weight: bold;display: inline-block;line-height: 1.2em;}#sk-container-id-17 div.sk-label-container {text-align: center;}#sk-container-id-17 div.sk-container {/* jupyter's `normalize.less` sets `[hidden] { display: none; }` but bootstrap.min.css set `[hidden] { display: none !important; }` so we also need the `!important` here to be able to override the default hidden behavior on the sphinx rendered scikit-learn.org. See: https://github.com/scikit-learn/scikit-learn/issues/21755 */display: inline-block !important;position: relative;}#sk-container-id-17 div.sk-text-repr-fallback {display: none;}</style><div id=\"sk-container-id-17\" class=\"sk-top-container\"><div class=\"sk-text-repr-fallback\"><pre>Pipeline(steps=[(&#x27;preprocessor&#x27;,\n",
       "                 ColumnTransformer(transformers=[(&#x27;num1&#x27;,\n",
       "                                                  Pipeline(steps=[(&#x27;pass&#x27;,\n",
       "                                                                   &#x27;passthrough&#x27;)]),\n",
       "                                                  [&#x27;CNT_CHILDREN&#x27;,\n",
       "                                                   &#x27;AMT_INCOME_TOTAL&#x27;,\n",
       "                                                   &#x27;AMT_CREDIT&#x27;, &#x27;AMT_ANNUITY&#x27;,\n",
       "                                                   &#x27;AMT_GOODS_PRICE&#x27;,\n",
       "                                                   &#x27;REGION_POPULATION_RELATIVE&#x27;,\n",
       "                                                   &#x27;DAYS_BIRTH&#x27;,\n",
       "                                                   &#x27;DAYS_EMPLOYED&#x27;,\n",
       "                                                   &#x27;DAYS_REGISTRATION&#x27;,\n",
       "                                                   &#x27;DAYS_ID_PUBLISH&#x27;,\n",
       "                                                   &#x27;CNT_FAM_MEMBERS&#x27;,\n",
       "                                                   &#x27;REGION_RATING_CLIENT&#x27;,\n",
       "                                                   &#x27;EXT_SOURCE_2&#x27;,\n",
       "                                                   &#x27;DAYS...\n",
       "                               gpu_id=None, grow_policy=None,\n",
       "                               importance_type=None,\n",
       "                               interaction_constraints=None,\n",
       "                               lambda=2.977695707610445, learning_rate=None,\n",
       "                               max_bin=None, max_cat_threshold=None,\n",
       "                               max_cat_to_onehot=None, max_delta_step=None,\n",
       "                               max_depth=2, max_leaves=None,\n",
       "                               min_child_weight=3.788857718051868, missing=nan,\n",
       "                               monotone_constraints=None, n_estimators=100,\n",
       "                               n_jobs=None, num_parallel_tree=None, ...))])</pre><b>In a Jupyter environment, please rerun this cell to show the HTML representation or trust the notebook. <br />On GitHub, the HTML representation is unable to render, please try loading this page with nbviewer.org.</b></div><div class=\"sk-container\" hidden><div class=\"sk-item sk-dashed-wrapped\"><div class=\"sk-label-container\"><div class=\"sk-label sk-toggleable\"><input class=\"sk-toggleable__control sk-hidden--visually\" id=\"sk-estimator-id-189\" type=\"checkbox\" ><label for=\"sk-estimator-id-189\" class=\"sk-toggleable__label sk-toggleable__label-arrow\">Pipeline</label><div class=\"sk-toggleable__content\"><pre>Pipeline(steps=[(&#x27;preprocessor&#x27;,\n",
       "                 ColumnTransformer(transformers=[(&#x27;num1&#x27;,\n",
       "                                                  Pipeline(steps=[(&#x27;pass&#x27;,\n",
       "                                                                   &#x27;passthrough&#x27;)]),\n",
       "                                                  [&#x27;CNT_CHILDREN&#x27;,\n",
       "                                                   &#x27;AMT_INCOME_TOTAL&#x27;,\n",
       "                                                   &#x27;AMT_CREDIT&#x27;, &#x27;AMT_ANNUITY&#x27;,\n",
       "                                                   &#x27;AMT_GOODS_PRICE&#x27;,\n",
       "                                                   &#x27;REGION_POPULATION_RELATIVE&#x27;,\n",
       "                                                   &#x27;DAYS_BIRTH&#x27;,\n",
       "                                                   &#x27;DAYS_EMPLOYED&#x27;,\n",
       "                                                   &#x27;DAYS_REGISTRATION&#x27;,\n",
       "                                                   &#x27;DAYS_ID_PUBLISH&#x27;,\n",
       "                                                   &#x27;CNT_FAM_MEMBERS&#x27;,\n",
       "                                                   &#x27;REGION_RATING_CLIENT&#x27;,\n",
       "                                                   &#x27;EXT_SOURCE_2&#x27;,\n",
       "                                                   &#x27;DAYS...\n",
       "                               gpu_id=None, grow_policy=None,\n",
       "                               importance_type=None,\n",
       "                               interaction_constraints=None,\n",
       "                               lambda=2.977695707610445, learning_rate=None,\n",
       "                               max_bin=None, max_cat_threshold=None,\n",
       "                               max_cat_to_onehot=None, max_delta_step=None,\n",
       "                               max_depth=2, max_leaves=None,\n",
       "                               min_child_weight=3.788857718051868, missing=nan,\n",
       "                               monotone_constraints=None, n_estimators=100,\n",
       "                               n_jobs=None, num_parallel_tree=None, ...))])</pre></div></div></div><div class=\"sk-serial\"><div class=\"sk-item sk-dashed-wrapped\"><div class=\"sk-label-container\"><div class=\"sk-label sk-toggleable\"><input class=\"sk-toggleable__control sk-hidden--visually\" id=\"sk-estimator-id-190\" type=\"checkbox\" ><label for=\"sk-estimator-id-190\" class=\"sk-toggleable__label sk-toggleable__label-arrow\">preprocessor: ColumnTransformer</label><div class=\"sk-toggleable__content\"><pre>ColumnTransformer(transformers=[(&#x27;num1&#x27;,\n",
       "                                 Pipeline(steps=[(&#x27;pass&#x27;, &#x27;passthrough&#x27;)]),\n",
       "                                 [&#x27;CNT_CHILDREN&#x27;, &#x27;AMT_INCOME_TOTAL&#x27;,\n",
       "                                  &#x27;AMT_CREDIT&#x27;, &#x27;AMT_ANNUITY&#x27;,\n",
       "                                  &#x27;AMT_GOODS_PRICE&#x27;,\n",
       "                                  &#x27;REGION_POPULATION_RELATIVE&#x27;, &#x27;DAYS_BIRTH&#x27;,\n",
       "                                  &#x27;DAYS_EMPLOYED&#x27;, &#x27;DAYS_REGISTRATION&#x27;,\n",
       "                                  &#x27;DAYS_ID_PUBLISH&#x27;, &#x27;CNT_FAM_MEMBERS&#x27;,\n",
       "                                  &#x27;REGION_RATING_CLIENT&#x27;, &#x27;EXT_SOURCE_2&#x27;,\n",
       "                                  &#x27;DAYS_LAST_PHONE_CHANGE&#x27;,\n",
       "                                  &#x27;OBS_30_CNT_...\n",
       "                                  &#x27;FLAG_OWN_CAR&#x27;, &#x27;FLAG_OWN_REALTY&#x27;,\n",
       "                                  &#x27;NAME_TYPE_SUITE&#x27;, &#x27;NAME_INCOME_TYPE&#x27;,\n",
       "                                  &#x27;NAME_EDUCATION_TYPE&#x27;, &#x27;NAME_FAMILY_STATUS&#x27;,\n",
       "                                  &#x27;NAME_HOUSING_TYPE&#x27;, &#x27;OCCUPATION_TYPE&#x27;,\n",
       "                                  &#x27;WEEKDAY_APPR_PROCESS_START&#x27;,\n",
       "                                  &#x27;HOUR_APPR_PROCESS_START&#x27;,\n",
       "                                  &#x27;ORGANIZATION_TYPE&#x27;]),\n",
       "                                (&#x27;binary&#x27;,\n",
       "                                 Pipeline(steps=[(&#x27;pass&#x27;, &#x27;passthrough&#x27;)]),\n",
       "                                 [&#x27;FLAG_EMP_PHONE&#x27;, &#x27;FLAG_WORK_PHONE&#x27;,\n",
       "                                  &#x27;FLAG_CONT_MOBILE&#x27;, &#x27;FLAG_PHONE&#x27;,\n",
       "                                  &#x27;FLAG_EMAIL&#x27;])])</pre></div></div></div><div class=\"sk-parallel\"><div class=\"sk-parallel-item\"><div class=\"sk-item\"><div class=\"sk-label-container\"><div class=\"sk-label sk-toggleable\"><input class=\"sk-toggleable__control sk-hidden--visually\" id=\"sk-estimator-id-191\" type=\"checkbox\" ><label for=\"sk-estimator-id-191\" class=\"sk-toggleable__label sk-toggleable__label-arrow\">num1</label><div class=\"sk-toggleable__content\"><pre>[&#x27;CNT_CHILDREN&#x27;, &#x27;AMT_INCOME_TOTAL&#x27;, &#x27;AMT_CREDIT&#x27;, &#x27;AMT_ANNUITY&#x27;, &#x27;AMT_GOODS_PRICE&#x27;, &#x27;REGION_POPULATION_RELATIVE&#x27;, &#x27;DAYS_BIRTH&#x27;, &#x27;DAYS_EMPLOYED&#x27;, &#x27;DAYS_REGISTRATION&#x27;, &#x27;DAYS_ID_PUBLISH&#x27;, &#x27;CNT_FAM_MEMBERS&#x27;, &#x27;REGION_RATING_CLIENT&#x27;, &#x27;EXT_SOURCE_2&#x27;, &#x27;DAYS_LAST_PHONE_CHANGE&#x27;, &#x27;OBS_30_CNT_SOCIAL_CIRCLE&#x27;, &#x27;DEF_30_CNT_SOCIAL_CIRCLE&#x27;, &#x27;OBS_60_CNT_SOCIAL_CIRCLE&#x27;, &#x27;DEF_60_CNT_SOCIAL_CIRCLE&#x27;, &#x27;document&#x27;, &#x27;address&#x27;]</pre></div></div></div><div class=\"sk-serial\"><div class=\"sk-item\"><div class=\"sk-serial\"><div class=\"sk-item\"><div class=\"sk-estimator sk-toggleable\"><input class=\"sk-toggleable__control sk-hidden--visually\" id=\"sk-estimator-id-192\" type=\"checkbox\" ><label for=\"sk-estimator-id-192\" class=\"sk-toggleable__label sk-toggleable__label-arrow\">passthrough</label><div class=\"sk-toggleable__content\"><pre>passthrough</pre></div></div></div></div></div></div></div></div><div class=\"sk-parallel-item\"><div class=\"sk-item\"><div class=\"sk-label-container\"><div class=\"sk-label sk-toggleable\"><input class=\"sk-toggleable__control sk-hidden--visually\" id=\"sk-estimator-id-193\" type=\"checkbox\" ><label for=\"sk-estimator-id-193\" class=\"sk-toggleable__label sk-toggleable__label-arrow\">num2</label><div class=\"sk-toggleable__content\"><pre>[&#x27;EXT_SOURCE_3&#x27;, &#x27;AMT_REQ_CREDIT_BUREAU_HOUR&#x27;, &#x27;AMT_REQ_CREDIT_BUREAU_DAY&#x27;, &#x27;AMT_REQ_CREDIT_BUREAU_WEEK&#x27;, &#x27;AMT_REQ_CREDIT_BUREAU_MON&#x27;, &#x27;AMT_REQ_CREDIT_BUREAU_QRT&#x27;, &#x27;AMT_REQ_CREDIT_BUREAU_YEAR&#x27;]</pre></div></div></div><div class=\"sk-serial\"><div class=\"sk-item\"><div class=\"sk-serial\"><div class=\"sk-item\"><div class=\"sk-estimator sk-toggleable\"><input class=\"sk-toggleable__control sk-hidden--visually\" id=\"sk-estimator-id-194\" type=\"checkbox\" ><label for=\"sk-estimator-id-194\" class=\"sk-toggleable__label sk-toggleable__label-arrow\">passthrough</label><div class=\"sk-toggleable__content\"><pre>passthrough</pre></div></div></div></div></div></div></div></div><div class=\"sk-parallel-item\"><div class=\"sk-item\"><div class=\"sk-label-container\"><div class=\"sk-label sk-toggleable\"><input class=\"sk-toggleable__control sk-hidden--visually\" id=\"sk-estimator-id-195\" type=\"checkbox\" ><label for=\"sk-estimator-id-195\" class=\"sk-toggleable__label sk-toggleable__label-arrow\">cat</label><div class=\"sk-toggleable__content\"><pre>[&#x27;NAME_CONTRACT_TYPE&#x27;, &#x27;CODE_GENDER&#x27;, &#x27;FLAG_OWN_CAR&#x27;, &#x27;FLAG_OWN_REALTY&#x27;, &#x27;NAME_TYPE_SUITE&#x27;, &#x27;NAME_INCOME_TYPE&#x27;, &#x27;NAME_EDUCATION_TYPE&#x27;, &#x27;NAME_FAMILY_STATUS&#x27;, &#x27;NAME_HOUSING_TYPE&#x27;, &#x27;OCCUPATION_TYPE&#x27;, &#x27;WEEKDAY_APPR_PROCESS_START&#x27;, &#x27;HOUR_APPR_PROCESS_START&#x27;, &#x27;ORGANIZATION_TYPE&#x27;]</pre></div></div></div><div class=\"sk-serial\"><div class=\"sk-item\"><div class=\"sk-serial\"><div class=\"sk-item\"><div class=\"sk-estimator sk-toggleable\"><input class=\"sk-toggleable__control sk-hidden--visually\" id=\"sk-estimator-id-196\" type=\"checkbox\" ><label for=\"sk-estimator-id-196\" class=\"sk-toggleable__label sk-toggleable__label-arrow\">OrdinalEncoder</label><div class=\"sk-toggleable__content\"><pre>OrdinalEncoder(handle_unknown=&#x27;use_encoded_value&#x27;, max_categories=10,\n",
       "               unknown_value=-1)</pre></div></div></div></div></div></div></div></div><div class=\"sk-parallel-item\"><div class=\"sk-item\"><div class=\"sk-label-container\"><div class=\"sk-label sk-toggleable\"><input class=\"sk-toggleable__control sk-hidden--visually\" id=\"sk-estimator-id-197\" type=\"checkbox\" ><label for=\"sk-estimator-id-197\" class=\"sk-toggleable__label sk-toggleable__label-arrow\">binary</label><div class=\"sk-toggleable__content\"><pre>[&#x27;FLAG_EMP_PHONE&#x27;, &#x27;FLAG_WORK_PHONE&#x27;, &#x27;FLAG_CONT_MOBILE&#x27;, &#x27;FLAG_PHONE&#x27;, &#x27;FLAG_EMAIL&#x27;]</pre></div></div></div><div class=\"sk-serial\"><div class=\"sk-item\"><div class=\"sk-serial\"><div class=\"sk-item\"><div class=\"sk-estimator sk-toggleable\"><input class=\"sk-toggleable__control sk-hidden--visually\" id=\"sk-estimator-id-198\" type=\"checkbox\" ><label for=\"sk-estimator-id-198\" class=\"sk-toggleable__label sk-toggleable__label-arrow\">passthrough</label><div class=\"sk-toggleable__content\"><pre>passthrough</pre></div></div></div></div></div></div></div></div></div></div><div class=\"sk-item\"><div class=\"sk-estimator sk-toggleable\"><input class=\"sk-toggleable__control sk-hidden--visually\" id=\"sk-estimator-id-199\" type=\"checkbox\" ><label for=\"sk-estimator-id-199\" class=\"sk-toggleable__label sk-toggleable__label-arrow\">XGBClassifier</label><div class=\"sk-toggleable__content\"><pre>XGBClassifier(base_score=None, booster=None, callbacks=None,\n",
       "              colsample_bylevel=None, colsample_bynode=None,\n",
       "              colsample_bytree=None, early_stopping_rounds=None,\n",
       "              enable_categorical=False, eta=0.28715047020268525,\n",
       "              eval_metric=None, feature_types=None, gamma=2.6923449065374774,\n",
       "              gpu_id=None, grow_policy=None, importance_type=None,\n",
       "              interaction_constraints=None, lambda=2.977695707610445,\n",
       "              learning_rate=None, max_bin=None, max_cat_threshold=None,\n",
       "              max_cat_to_onehot=None, max_delta_step=None, max_depth=2,\n",
       "              max_leaves=None, min_child_weight=3.788857718051868, missing=nan,\n",
       "              monotone_constraints=None, n_estimators=100, n_jobs=None,\n",
       "              num_parallel_tree=None, ...)</pre></div></div></div></div></div></div></div>"
      ],
      "text/plain": [
       "Pipeline(steps=[('preprocessor',\n",
       "                 ColumnTransformer(transformers=[('num1',\n",
       "                                                  Pipeline(steps=[('pass',\n",
       "                                                                   'passthrough')]),\n",
       "                                                  ['CNT_CHILDREN',\n",
       "                                                   'AMT_INCOME_TOTAL',\n",
       "                                                   'AMT_CREDIT', 'AMT_ANNUITY',\n",
       "                                                   'AMT_GOODS_PRICE',\n",
       "                                                   'REGION_POPULATION_RELATIVE',\n",
       "                                                   'DAYS_BIRTH',\n",
       "                                                   'DAYS_EMPLOYED',\n",
       "                                                   'DAYS_REGISTRATION',\n",
       "                                                   'DAYS_ID_PUBLISH',\n",
       "                                                   'CNT_FAM_MEMBERS',\n",
       "                                                   'REGION_RATING_CLIENT',\n",
       "                                                   'EXT_SOURCE_2',\n",
       "                                                   'DAYS...\n",
       "                               gpu_id=None, grow_policy=None,\n",
       "                               importance_type=None,\n",
       "                               interaction_constraints=None,\n",
       "                               lambda=2.977695707610445, learning_rate=None,\n",
       "                               max_bin=None, max_cat_threshold=None,\n",
       "                               max_cat_to_onehot=None, max_delta_step=None,\n",
       "                               max_depth=2, max_leaves=None,\n",
       "                               min_child_weight=3.788857718051868, missing=nan,\n",
       "                               monotone_constraints=None, n_estimators=100,\n",
       "                               n_jobs=None, num_parallel_tree=None, ...))])"
      ]
     },
     "execution_count": 260,
     "metadata": {},
     "output_type": "execute_result"
    }
   ],
   "source": [
    "pipe = Pipeline(steps=[#(\"undersampler\", RandomUnderSampler()),\n",
    "                       (\"preprocessor\",preprocessor),\n",
    "                       #(\"smote\",SMOTE(random_state=42)),\n",
    "                       ('classifier', XGBClassifier(scale_pos_weight=(y_train==0).sum()/(y_train==1).sum()))])\n",
    "pipe.set_params(**space_eval(param,result))"
   ]
  },
  {
   "cell_type": "code",
   "execution_count": 52,
   "id": "a22831c1",
   "metadata": {},
   "outputs": [],
   "source": [
    "param={\n",
    "  \"l2_regularization\": 8.008941566201596,\n",
    "  \"learning_rate\": 0.29305364694969455,\n",
    "  \"max_depth\": 4,\n",
    "  \"max_leaf_nodes\": 75,\n",
    "  \"min_samples_leaf\": 101\n",
    "}\n",
    "pipe = Pipeline(steps=[#(\"undersampler\", RandomUnderSampler()),\n",
    "                       (\"preprocessor\",preprocessor),\n",
    "                       #(\"smote\",SMOTE(random_state=42)),\n",
    "                       ('classifier', HistGradientBoostingClassifier(class_weight='balanced',**param))])\n"
   ]
  },
  {
   "cell_type": "code",
   "execution_count": 53,
   "id": "fa5bc9db",
   "metadata": {
    "scrolled": true
   },
   "outputs": [
    {
     "data": {
      "text/plain": [
       "0.2416245742450857"
      ]
     },
     "execution_count": 53,
     "metadata": {},
     "output_type": "execute_result"
    }
   ],
   "source": [
    "pipe.fit(X_train,y_train)\n",
    "y_pred = pipe.predict_proba(X_test)\n",
    "average_precision_score(y_test,y_pred[:,1])"
   ]
  },
  {
   "cell_type": "code",
   "execution_count": 54,
   "id": "25cd7146",
   "metadata": {},
   "outputs": [
    {
     "data": {
      "text/plain": [
       "0.24143406441811177"
      ]
     },
     "execution_count": 54,
     "metadata": {},
     "output_type": "execute_result"
    }
   ],
   "source": [
    "precision, recall, _ = precision_recall_curve(y_test,y_pred[:,1])\n",
    "auc(recall,precision)"
   ]
  },
  {
   "cell_type": "code",
   "execution_count": 55,
   "id": "95e1517c",
   "metadata": {},
   "outputs": [
    {
     "data": {
      "text/plain": [
       "<matplotlib.legend.Legend at 0x125978bad90>"
      ]
     },
     "execution_count": 55,
     "metadata": {},
     "output_type": "execute_result"
    },
    {
     "data": {
      "image/png": "[encoded data removed]",
      "text/plain": [
       "<Figure size 640x480 with 1 Axes>"
      ]
     },
     "metadata": {},
     "output_type": "display_data"
    }
   ],
   "source": [
    "display = PrecisionRecallDisplay.from_predictions(\n",
    "    y_test, y_pred[:,1], name=\"XGBoost\", plot_chance_level=True\n",
    ")\n",
    "plt.legend(loc='upper right')"
   ]
  },
  {
   "cell_type": "code",
   "execution_count": 56,
   "id": "c1be09c5",
   "metadata": {},
   "outputs": [
    {
     "data": {
      "text/plain": [
       "<matplotlib.legend.Legend at 0x125978f0460>"
      ]
     },
     "execution_count": 56,
     "metadata": {},
     "output_type": "execute_result"
    },
    {
     "data": {
      "image/png": "[encoded data removed]",
      "text/plain": [
       "<Figure size 640x480 with 1 Axes>"
      ]
     },
     "metadata": {},
     "output_type": "display_data"
    }
   ],
   "source": [
    "display = RocCurveDisplay.from_predictions(\n",
    "    y_test, y_pred[:,1], name=\"XGBoost\", plot_chance_level=True\n",
    ")\n",
    "plt.legend(loc='upper right')"
   ]
  },
  {
   "cell_type": "code",
   "execution_count": 57,
   "id": "e3c32ce4",
   "metadata": {
    "scrolled": true
   },
   "outputs": [
    {
     "data": {
      "text/plain": [
       "0.7006324894720583"
      ]
     },
     "execution_count": 57,
     "metadata": {},
     "output_type": "execute_result"
    }
   ],
   "source": [
    "y_pred = pipe.predict(X_test)\n",
    "accuracy_score(y_test,y_pred)"
   ]
  },
  {
   "cell_type": "code",
   "execution_count": 58,
   "id": "4e391461",
   "metadata": {
    "scrolled": false
   },
   "outputs": [
    {
     "data": {
      "text/plain": [
       "<sklearn.metrics._plot.confusion_matrix.ConfusionMatrixDisplay at 0x12597711be0>"
      ]
     },
     "execution_count": 58,
     "metadata": {},
     "output_type": "execute_result"
    },
    {
     "data": {
      "image/png": "[encoded data removed]",
      "text/plain": [
       "<Figure size 640x480 with 2 Axes>"
      ]
     },
     "metadata": {},
     "output_type": "display_data"
    }
   ],
   "source": [
    "ConfusionMatrixDisplay.from_estimator(pipe, X_test, y_test)"
   ]
  },
  {
   "cell_type": "code",
   "execution_count": 67,
   "id": "16af7011",
   "metadata": {},
   "outputs": [
    {
     "data": {
      "image/png": "[encoded data removed]",
      "text/plain": [
       "<Figure size 800x950 with 1 Axes>"
      ]
     },
     "metadata": {},
     "output_type": "display_data"
    }
   ],
   "source": [
    "#set the tree explainer as the model of the pipeline\n",
    "explainer = shap.Explainer(pipe['classifier'])\n",
    "\n",
    "#apply the preprocessing to X_test\n",
    "observations = pipe['preprocessor'].transform(X_test)\n",
    "\n",
    "#get Shap values from preprocessed data\n",
    "#shap_values = explainer.shap_values(observations.todense())\n",
    "shap_values = explainer.shap_values(observations)\n",
    "\n",
    "#plot the feature importance\n",
    "shap.summary_plot(shap_values, observations, plot_type=\"bar\", feature_names=X_train.columns)"
   ]
  },
  {
   "cell_type": "code",
   "execution_count": null,
   "id": "e617ae0a",
   "metadata": {},
   "outputs": [],
   "source": []
  },
  {
   "cell_type": "code",
   "execution_count": null,
   "id": "8e4075f2",
   "metadata": {},
   "outputs": [],
   "source": []
  }
 ],
 "metadata": {
  "kernelspec": {
   "display_name": "loan_project",
   "language": "python",
   "name": "loan_project"
  },
  "language_info": {
   "codemirror_mode": {
    "name": "ipython",
    "version": 3
   },
   "file_extension": ".py",
   "mimetype": "text/x-python",
   "name": "python",
   "nbconvert_exporter": "python",
   "pygments_lexer": "ipython3",
   "version": "3.8.5"
  }
 },
 "nbformat": 4,
 "nbformat_minor": 5
}
