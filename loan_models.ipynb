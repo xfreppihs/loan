{
 "cells": [
  {
   "cell_type": "code",
   "execution_count": 1,
   "id": "964e352c",
   "metadata": {},
   "outputs": [],
   "source": [
    "import pandas as pd\n",
    "import numpy as np\n",
    "import matplotlib.pyplot as plt\n",
    "from summarytools import dfSummary\n",
    "from sklearn.preprocessing import OneHotEncoder,StandardScaler,OrdinalEncoder\n",
    "from imblearn.pipeline import Pipeline\n",
    "from sklearn.model_selection import GridSearchCV,RandomizedSearchCV,train_test_split,StratifiedKFold,cross_val_score\n",
    "from sklearn.compose import ColumnTransformer\n",
    "from sklearn.impute import SimpleImputer\n",
    "from sklearn.metrics import log_loss, accuracy_score,roc_auc_score,f1_score, precision_recall_curve, auc, average_precision_score,PrecisionRecallDisplay,RocCurveDisplay,ConfusionMatrixDisplay\n",
    "from sklearn.ensemble import RandomForestClassifier,HistGradientBoostingClassifier\n",
    "from xgboost import XGBClassifier\n",
    "import shap\n",
    "from hyperopt import hp, fmin, tpe, Trials, STATUS_OK,space_eval\n",
    "from hyperopt.pyll import scope\n",
    "from scipy.stats import uniform \n",
    "from scipy.stats import randint \n",
    "from imblearn.ensemble import BalancedRandomForestClassifier\n",
    "from imblearn.under_sampling import RandomUnderSampler\n",
    "from imblearn.over_sampling import SMOTE\n",
    "import mlflow\n",
    "from lightgbm import LGBMClassifier\n",
    "import torch\n",
    "import torch.nn as nn\n",
    "import torch.nn.functional as F\n",
    "from torch.utils.data import Dataset, DataLoader\n",
    "import time"
   ]
  },
  {
   "cell_type": "markdown",
   "id": "5890c968",
   "metadata": {},
   "source": [
    "### Preprocessing Strategy I: \n",
    "1. Remove correlated features ('REGION_RATING_CLIENT_W_CITY' correlates with 'REGION_RATING_CLIENT'), ID column, low variance column ('FLAG_MOBIL' is 100% 1), and columns with over 50% missing<br>\n",
    "2. Feature engineer using address discrepancies and document count\n",
    "3. Fix incorrect values ('DAYS_EMPLOYED')\n",
    "4. Leave numeric columns, binary columns as is, encode categorical columns with OrdinalEncoder <br>\n",
    "5. This strategy works with XGBoost, LightGBM, HistGradientBoostingClassifier as they all can deal with missing values. And as tree-based models, there is no need to scale the input. "
   ]
  },
  {
   "cell_type": "code",
   "execution_count": 42,
   "id": "225e1f62",
   "metadata": {},
   "outputs": [
    {
     "data": {
      "text/plain": [
       "(307511, 46)"
      ]
     },
     "execution_count": 42,
     "metadata": {},
     "output_type": "execute_result"
    }
   ],
   "source": [
    "df=pd.read_csv(\"data/application_data.csv\")\n",
    "\n",
    "# feature engineering on address discrepancies and document count\n",
    "df['document']= df['FLAG_DOCUMENT_2']+df['FLAG_DOCUMENT_3']+df['FLAG_DOCUMENT_4']+df['FLAG_DOCUMENT_5']+df['FLAG_DOCUMENT_6']\\\n",
    "           +df['FLAG_DOCUMENT_7']+df['FLAG_DOCUMENT_8']+df['FLAG_DOCUMENT_9']+df['FLAG_DOCUMENT_10']+df['FLAG_DOCUMENT_11']\\\n",
    "           +df['FLAG_DOCUMENT_12']+df['FLAG_DOCUMENT_13']+df['FLAG_DOCUMENT_14']+df['FLAG_DOCUMENT_15']+df['FLAG_DOCUMENT_16']\\\n",
    "           +df['FLAG_DOCUMENT_17']+df['FLAG_DOCUMENT_18']+df['FLAG_DOCUMENT_19']+df['FLAG_DOCUMENT_20']+df['FLAG_DOCUMENT_21']\n",
    "\n",
    "df['address'] = df['REG_REGION_NOT_LIVE_REGION']+df['REG_REGION_NOT_WORK_REGION']+df['LIVE_REGION_NOT_WORK_REGION']\\\n",
    "            +df['REG_CITY_NOT_LIVE_CITY']+df['REG_CITY_NOT_WORK_CITY']+df['LIVE_CITY_NOT_WORK_CITY']\n",
    "\n",
    "# drop the above and the ID column, FLAG_MOBIL is 100% 1, REGION_RATING_CLIENT_W_CITY correlates with REGION_RATING_CLIENT\n",
    "drop_col = ['FLAG_DOCUMENT_2','FLAG_DOCUMENT_3','FLAG_DOCUMENT_4','FLAG_DOCUMENT_5','FLAG_DOCUMENT_6','FLAG_DOCUMENT_7',\n",
    "           'FLAG_DOCUMENT_8','FLAG_DOCUMENT_9','FLAG_DOCUMENT_10','FLAG_DOCUMENT_11','FLAG_DOCUMENT_12','FLAG_DOCUMENT_13',\n",
    "           'FLAG_DOCUMENT_14','FLAG_DOCUMENT_15','FLAG_DOCUMENT_16','FLAG_DOCUMENT_17','FLAG_DOCUMENT_18','FLAG_DOCUMENT_19',\n",
    "           'FLAG_DOCUMENT_20','FLAG_DOCUMENT_21','REG_REGION_NOT_LIVE_REGION','REG_REGION_NOT_WORK_REGION',\n",
    "           'LIVE_REGION_NOT_WORK_REGION','REG_CITY_NOT_LIVE_CITY','REG_CITY_NOT_WORK_CITY','LIVE_CITY_NOT_WORK_CITY',\n",
    "           'SK_ID_CURR','FLAG_MOBIL','REGION_RATING_CLIENT_W_CITY']\n",
    "\n",
    "df.drop(columns=drop_col,inplace=True)\n",
    "\n",
    "# drop columns with over 50% missing\n",
    "drop_col = ['OWN_CAR_AGE','EXT_SOURCE_1','APARTMENTS_AVG', 'BASEMENTAREA_AVG', 'YEARS_BEGINEXPLUATATION_AVG','YEARS_BUILD_AVG',\n",
    "            'COMMONAREA_AVG', 'ELEVATORS_AVG','ENTRANCES_AVG', 'FLOORSMAX_AVG', 'FLOORSMIN_AVG', 'LANDAREA_AVG',\n",
    "            'LIVINGAPARTMENTS_AVG', 'LIVINGAREA_AVG', 'NONLIVINGAPARTMENTS_AVG','NONLIVINGAREA_AVG', 'APARTMENTS_MODE', \n",
    "            'BASEMENTAREA_MODE','YEARS_BEGINEXPLUATATION_MODE', 'YEARS_BUILD_MODE', 'COMMONAREA_MODE','ELEVATORS_MODE', \n",
    "            'ENTRANCES_MODE', 'FLOORSMAX_MODE', 'FLOORSMIN_MODE','LANDAREA_MODE', 'LIVINGAPARTMENTS_MODE', 'LIVINGAREA_MODE',\n",
    "            'NONLIVINGAPARTMENTS_MODE', 'NONLIVINGAREA_MODE', 'APARTMENTS_MEDI','BASEMENTAREA_MEDI', \n",
    "            'YEARS_BEGINEXPLUATATION_MEDI', 'YEARS_BUILD_MEDI','COMMONAREA_MEDI', 'ELEVATORS_MEDI', 'ENTRANCES_MEDI',\n",
    "            'FLOORSMAX_MEDI','FLOORSMIN_MEDI', 'LANDAREA_MEDI', 'LIVINGAPARTMENTS_MEDI','LIVINGAREA_MEDI', \n",
    "            'NONLIVINGAPARTMENTS_MEDI', 'NONLIVINGAREA_MEDI','FONDKAPREMONT_MODE', 'HOUSETYPE_MODE', 'TOTALAREA_MODE',\n",
    "            'WALLSMATERIAL_MODE', 'EMERGENCYSTATE_MODE']\n",
    "\n",
    "#df['missing_count'] = df[drop_col].isna().sum(axis=1)\n",
    "df.drop(columns=drop_col,inplace=True)\n",
    "\n",
    "# preprocessing outside of pipeline\n",
    "#df['DAYS_LAST_PHONE_CHANGE']=df['DAYS_LAST_PHONE_CHANGE'].fillna(1)\n",
    "#df['CNT_FAM_MEMBERS'] = df['CNT_FAM_MEMBERS'].fillna(df['CNT_CHILDREN']+1)\n",
    "#df['OCCUPATION_TYPE'] = df['OCCUPATION_TYPE'].fillna(\"Others\")\n",
    "df['DAYS_EMPLOYED'] = df['DAYS_EMPLOYED'].replace({365243:0})\n",
    "#df['NAME_TYPE_SUITE'] = df['NAME_TYPE_SUITE'].fillna(\"Missing\")\n",
    "\n",
    "df.shape"
   ]
  },
  {
   "cell_type": "code",
   "execution_count": 21,
   "id": "b096e229",
   "metadata": {},
   "outputs": [],
   "source": [
    "num_features1 = ['CNT_CHILDREN','AMT_INCOME_TOTAL','AMT_CREDIT','AMT_ANNUITY','AMT_GOODS_PRICE','REGION_POPULATION_RELATIVE',\n",
    "                'DAYS_BIRTH','DAYS_EMPLOYED','DAYS_REGISTRATION','DAYS_ID_PUBLISH','CNT_FAM_MEMBERS','REGION_RATING_CLIENT',\n",
    "                'EXT_SOURCE_2','DAYS_LAST_PHONE_CHANGE','OBS_30_CNT_SOCIAL_CIRCLE',\n",
    "                'DEF_30_CNT_SOCIAL_CIRCLE','OBS_60_CNT_SOCIAL_CIRCLE','DEF_60_CNT_SOCIAL_CIRCLE',\n",
    "                'document','address'] # no missing indicator\n",
    "num_features2 = ['EXT_SOURCE_3','AMT_REQ_CREDIT_BUREAU_HOUR','AMT_REQ_CREDIT_BUREAU_DAY','AMT_REQ_CREDIT_BUREAU_WEEK',\n",
    "                 'AMT_REQ_CREDIT_BUREAU_MON','AMT_REQ_CREDIT_BUREAU_QRT','AMT_REQ_CREDIT_BUREAU_YEAR'] # add missing indicator\n",
    "cat_features = ['NAME_CONTRACT_TYPE','CODE_GENDER','FLAG_OWN_CAR','FLAG_OWN_REALTY','NAME_TYPE_SUITE','NAME_INCOME_TYPE',\n",
    "                'NAME_EDUCATION_TYPE','NAME_FAMILY_STATUS','NAME_HOUSING_TYPE','OCCUPATION_TYPE','WEEKDAY_APPR_PROCESS_START',\n",
    "                'HOUR_APPR_PROCESS_START','ORGANIZATION_TYPE']\n",
    "# binary_features = ['FLAG_EMP_PHONE','FLAG_WORK_PHONE','FLAG_CONT_MOBILE','FLAG_PHONE','FLAG_EMAIL',\n",
    "#                    'REG_REGION_NOT_LIVE_REGION','REG_REGION_NOT_WORK_REGION','LIVE_REGION_NOT_WORK_REGION',\n",
    "#                    'REG_CITY_NOT_LIVE_CITY', 'REG_CITY_NOT_WORK_CITY','LIVE_CITY_NOT_WORK_CITY','FLAG_DOCUMENT_2', \n",
    "#                    'FLAG_DOCUMENT_3','FLAG_DOCUMENT_4', 'FLAG_DOCUMENT_5', 'FLAG_DOCUMENT_6','FLAG_DOCUMENT_7',\n",
    "#                    'FLAG_DOCUMENT_8', 'FLAG_DOCUMENT_9','FLAG_DOCUMENT_10', 'FLAG_DOCUMENT_11', 'FLAG_DOCUMENT_12',\n",
    "#                    'FLAG_DOCUMENT_13', 'FLAG_DOCUMENT_14', 'FLAG_DOCUMENT_15','FLAG_DOCUMENT_16', 'FLAG_DOCUMENT_17',\n",
    "#                    'FLAG_DOCUMENT_18','FLAG_DOCUMENT_19', 'FLAG_DOCUMENT_20', 'FLAG_DOCUMENT_21']\n",
    "binary_features = ['FLAG_EMP_PHONE','FLAG_WORK_PHONE','FLAG_CONT_MOBILE','FLAG_PHONE','FLAG_EMAIL']"
   ]
  },
  {
   "cell_type": "code",
   "execution_count": 22,
   "id": "1938628c",
   "metadata": {},
   "outputs": [],
   "source": [
    "# for tree based model, no need to scale numerical variable and use ordinal encoder for categorical variable\n",
    "numeric_transformer1 = Pipeline(\n",
    "    steps=[#(\"imputer\",SimpleImputer(strategy = 'median'))\n",
    "        (\"pass\",\"passthrough\")\n",
    "          ]\n",
    ")\n",
    "numeric_transformer2 = Pipeline(\n",
    "    steps=[#(\"imputer\",SimpleImputer(strategy = 'median', add_indicator=True))\n",
    "        (\"pass\",\"passthrough\")\n",
    "          ]\n",
    ")\n",
    "categorical_transformer = Pipeline(\n",
    "    steps=[(\"encoder\", OrdinalEncoder(handle_unknown=\"use_encoded_value\", max_categories=10, unknown_value=10))\n",
    "          ]\n",
    ")\n",
    "binary_transformer = Pipeline(\n",
    "    steps=[\n",
    "        ('pass','passthrough')\n",
    "    ]\n",
    ")\n",
    "preprocessor = ColumnTransformer(\n",
    "    transformers=[\n",
    "        (\"num1\", numeric_transformer1, num_features1),\n",
    "        (\"num2\", numeric_transformer2, num_features2),\n",
    "        (\"cat\", categorical_transformer, cat_features),\n",
    "        ('binary',binary_transformer,binary_features)],\n",
    "    #remainder='passthrough'\n",
    ")"
   ]
  },
  {
   "cell_type": "code",
   "execution_count": 23,
   "id": "ac654c91",
   "metadata": {},
   "outputs": [],
   "source": [
    "X_train, X_test, y_train, y_test = train_test_split(df[num_features1+num_features2+cat_features+binary_features], df['TARGET'],\n",
    "                                                    stratify=df['TARGET'], test_size=0.2,random_state=42)"
   ]
  },
  {
   "cell_type": "markdown",
   "id": "1a76277b",
   "metadata": {},
   "source": [
    "### Preprocessing Strategy II:\n",
    "1. Remove correlated features ('REGION_RATING_CLIENT_W_CITY' correlates with 'REGION_RATING_CLIENT'), ID column, low variance column ('FLAG_MOBIL' is 100% 1), and columns with over 50% missing<br>\n",
    "2. Feature engineer using address discrepancies and document count\n",
    "3. Fix incorrect values ('DAYS_EMPLOYED'), **fill in missing values that don't depend on aggregated values (median/mean)**\n",
    "4. Leave binary columns as is, **impute numerical columns with median/mean, add missing indicator for features with 10-50% missing,** encode categorical columns with OrdinalEncoder <br>\n",
    "5. This strategy works with tree-based models (no need to scale the input and use OrdinalEncoder to reduce dimensionality as opposed to OneHotEncoder) and **situations that can't handle missing values (SMOTE)**."
   ]
  },
  {
   "cell_type": "code",
   "execution_count": null,
   "id": "b5721d48",
   "metadata": {},
   "outputs": [],
   "source": [
    "df=pd.read_csv(\"data/application_data.csv\")\n",
    "\n",
    "# feature engineering on address discrepancies and document count\n",
    "df['document']= df['FLAG_DOCUMENT_2']+df['FLAG_DOCUMENT_3']+df['FLAG_DOCUMENT_4']+df['FLAG_DOCUMENT_5']+df['FLAG_DOCUMENT_6']\\\n",
    "           +df['FLAG_DOCUMENT_7']+df['FLAG_DOCUMENT_8']+df['FLAG_DOCUMENT_9']+df['FLAG_DOCUMENT_10']+df['FLAG_DOCUMENT_11']\\\n",
    "           +df['FLAG_DOCUMENT_12']+df['FLAG_DOCUMENT_13']+df['FLAG_DOCUMENT_14']+df['FLAG_DOCUMENT_15']+df['FLAG_DOCUMENT_16']\\\n",
    "           +df['FLAG_DOCUMENT_17']+df['FLAG_DOCUMENT_18']+df['FLAG_DOCUMENT_19']+df['FLAG_DOCUMENT_20']+df['FLAG_DOCUMENT_21']\n",
    "\n",
    "df['address'] = df['REG_REGION_NOT_LIVE_REGION']+df['REG_REGION_NOT_WORK_REGION']+df['LIVE_REGION_NOT_WORK_REGION']\\\n",
    "            +df['REG_CITY_NOT_LIVE_CITY']+df['REG_CITY_NOT_WORK_CITY']+df['LIVE_CITY_NOT_WORK_CITY']\n",
    "\n",
    "# drop the above and the ID column, FLAG_MOBIL is 100% 1, REGION_RATING_CLIENT_W_CITY correlates with REGION_RATING_CLIENT\n",
    "drop_col = ['FLAG_DOCUMENT_2','FLAG_DOCUMENT_3','FLAG_DOCUMENT_4','FLAG_DOCUMENT_5','FLAG_DOCUMENT_6','FLAG_DOCUMENT_7',\n",
    "           'FLAG_DOCUMENT_8','FLAG_DOCUMENT_9','FLAG_DOCUMENT_10','FLAG_DOCUMENT_11','FLAG_DOCUMENT_12','FLAG_DOCUMENT_13',\n",
    "           'FLAG_DOCUMENT_14','FLAG_DOCUMENT_15','FLAG_DOCUMENT_16','FLAG_DOCUMENT_17','FLAG_DOCUMENT_18','FLAG_DOCUMENT_19',\n",
    "           'FLAG_DOCUMENT_20','FLAG_DOCUMENT_21','REG_REGION_NOT_LIVE_REGION','REG_REGION_NOT_WORK_REGION',\n",
    "           'LIVE_REGION_NOT_WORK_REGION','REG_CITY_NOT_LIVE_CITY','REG_CITY_NOT_WORK_CITY','LIVE_CITY_NOT_WORK_CITY',\n",
    "           'SK_ID_CURR','FLAG_MOBIL','REGION_RATING_CLIENT_W_CITY']\n",
    "\n",
    "df.drop(columns=drop_col,inplace=True)\n",
    "\n",
    "# drop columns with over 50% missing\n",
    "drop_col = ['OWN_CAR_AGE','EXT_SOURCE_1','APARTMENTS_AVG', 'BASEMENTAREA_AVG', 'YEARS_BEGINEXPLUATATION_AVG','YEARS_BUILD_AVG',\n",
    "            'COMMONAREA_AVG', 'ELEVATORS_AVG','ENTRANCES_AVG', 'FLOORSMAX_AVG', 'FLOORSMIN_AVG', 'LANDAREA_AVG',\n",
    "            'LIVINGAPARTMENTS_AVG', 'LIVINGAREA_AVG', 'NONLIVINGAPARTMENTS_AVG','NONLIVINGAREA_AVG', 'APARTMENTS_MODE', \n",
    "            'BASEMENTAREA_MODE','YEARS_BEGINEXPLUATATION_MODE', 'YEARS_BUILD_MODE', 'COMMONAREA_MODE','ELEVATORS_MODE', \n",
    "            'ENTRANCES_MODE', 'FLOORSMAX_MODE', 'FLOORSMIN_MODE','LANDAREA_MODE', 'LIVINGAPARTMENTS_MODE', 'LIVINGAREA_MODE',\n",
    "            'NONLIVINGAPARTMENTS_MODE', 'NONLIVINGAREA_MODE', 'APARTMENTS_MEDI','BASEMENTAREA_MEDI', \n",
    "            'YEARS_BEGINEXPLUATATION_MEDI', 'YEARS_BUILD_MEDI','COMMONAREA_MEDI', 'ELEVATORS_MEDI', 'ENTRANCES_MEDI',\n",
    "            'FLOORSMAX_MEDI','FLOORSMIN_MEDI', 'LANDAREA_MEDI', 'LIVINGAPARTMENTS_MEDI','LIVINGAREA_MEDI', \n",
    "            'NONLIVINGAPARTMENTS_MEDI', 'NONLIVINGAREA_MEDI','FONDKAPREMONT_MODE', 'HOUSETYPE_MODE', 'TOTALAREA_MODE',\n",
    "            'WALLSMATERIAL_MODE', 'EMERGENCYSTATE_MODE']\n",
    "\n",
    "df.drop(columns=drop_col,inplace=True)\n",
    "\n",
    "# preprocessing outside of pipeline\n",
    "df['DAYS_LAST_PHONE_CHANGE']=df['DAYS_LAST_PHONE_CHANGE'].fillna(1)\n",
    "df['CNT_FAM_MEMBERS'] = df['CNT_FAM_MEMBERS'].fillna(df['CNT_CHILDREN']+1)\n",
    "df['OCCUPATION_TYPE'] = df['OCCUPATION_TYPE'].fillna(\"Others\")\n",
    "df['DAYS_EMPLOYED'] = df['DAYS_EMPLOYED'].replace({365243:0})\n",
    "df['NAME_TYPE_SUITE'] = df['NAME_TYPE_SUITE'].fillna(\"Missing\")\n",
    "\n",
    "df.shape"
   ]
  },
  {
   "cell_type": "code",
   "execution_count": null,
   "id": "8024ee87",
   "metadata": {},
   "outputs": [],
   "source": [
    "num_features1 = ['CNT_CHILDREN','AMT_INCOME_TOTAL','AMT_CREDIT','AMT_ANNUITY','AMT_GOODS_PRICE','REGION_POPULATION_RELATIVE',\n",
    "                'DAYS_BIRTH','DAYS_EMPLOYED','DAYS_REGISTRATION','DAYS_ID_PUBLISH','CNT_FAM_MEMBERS','REGION_RATING_CLIENT',\n",
    "                'EXT_SOURCE_2','DAYS_LAST_PHONE_CHANGE','OBS_30_CNT_SOCIAL_CIRCLE',\n",
    "                'DEF_30_CNT_SOCIAL_CIRCLE','OBS_60_CNT_SOCIAL_CIRCLE','DEF_60_CNT_SOCIAL_CIRCLE',\n",
    "                'document','address'] # no missing indicator\n",
    "num_features2 = ['EXT_SOURCE_3','AMT_REQ_CREDIT_BUREAU_HOUR','AMT_REQ_CREDIT_BUREAU_DAY','AMT_REQ_CREDIT_BUREAU_WEEK',\n",
    "                 'AMT_REQ_CREDIT_BUREAU_MON','AMT_REQ_CREDIT_BUREAU_QRT','AMT_REQ_CREDIT_BUREAU_YEAR'] # add missing indicator\n",
    "cat_features = ['NAME_CONTRACT_TYPE','CODE_GENDER','FLAG_OWN_CAR','FLAG_OWN_REALTY','NAME_TYPE_SUITE','NAME_INCOME_TYPE',\n",
    "                'NAME_EDUCATION_TYPE','NAME_FAMILY_STATUS','NAME_HOUSING_TYPE','OCCUPATION_TYPE','WEEKDAY_APPR_PROCESS_START',\n",
    "                'HOUR_APPR_PROCESS_START','ORGANIZATION_TYPE']\n",
    "# binary_features = ['FLAG_EMP_PHONE','FLAG_WORK_PHONE','FLAG_CONT_MOBILE','FLAG_PHONE','FLAG_EMAIL',\n",
    "#                    'REG_REGION_NOT_LIVE_REGION','REG_REGION_NOT_WORK_REGION','LIVE_REGION_NOT_WORK_REGION',\n",
    "#                    'REG_CITY_NOT_LIVE_CITY', 'REG_CITY_NOT_WORK_CITY','LIVE_CITY_NOT_WORK_CITY','FLAG_DOCUMENT_2', \n",
    "#                    'FLAG_DOCUMENT_3','FLAG_DOCUMENT_4', 'FLAG_DOCUMENT_5', 'FLAG_DOCUMENT_6','FLAG_DOCUMENT_7',\n",
    "#                    'FLAG_DOCUMENT_8', 'FLAG_DOCUMENT_9','FLAG_DOCUMENT_10', 'FLAG_DOCUMENT_11', 'FLAG_DOCUMENT_12',\n",
    "#                    'FLAG_DOCUMENT_13', 'FLAG_DOCUMENT_14', 'FLAG_DOCUMENT_15','FLAG_DOCUMENT_16', 'FLAG_DOCUMENT_17',\n",
    "#                    'FLAG_DOCUMENT_18','FLAG_DOCUMENT_19', 'FLAG_DOCUMENT_20', 'FLAG_DOCUMENT_21']\n",
    "binary_features = ['FLAG_EMP_PHONE','FLAG_WORK_PHONE','FLAG_CONT_MOBILE','FLAG_PHONE','FLAG_EMAIL']"
   ]
  },
  {
   "cell_type": "code",
   "execution_count": null,
   "id": "eca42767",
   "metadata": {},
   "outputs": [],
   "source": [
    "# for tree based model, no need to scale numerical variable and use ordinal encoder for categorical variable\n",
    "numeric_transformer1 = Pipeline(\n",
    "    steps=[(\"imputer\",SimpleImputer(strategy = 'median'))\n",
    "        #(\"pass\",\"passthrough\")\n",
    "          ]\n",
    ")\n",
    "numeric_transformer2 = Pipeline(\n",
    "    steps=[(\"imputer\",SimpleImputer(strategy = 'median', add_indicator=True))\n",
    "        #(\"pass\",\"passthrough\")\n",
    "          ]\n",
    ")\n",
    "categorical_transformer = Pipeline(\n",
    "    steps=[(\"encoder\", OrdinalEncoder(handle_unknown=\"use_encoded_value\", max_categories=10, unknown_value=10))\n",
    "          ]\n",
    ")\n",
    "binary_transformer = Pipeline(\n",
    "    steps=[\n",
    "        ('pass','passthrough')\n",
    "    ]\n",
    ")\n",
    "preprocessor = ColumnTransformer(\n",
    "    transformers=[\n",
    "        (\"num1\", numeric_transformer1, num_features1),\n",
    "        (\"num2\", numeric_transformer2, num_features2),\n",
    "        (\"cat\", categorical_transformer, cat_features),\n",
    "        ('binary',binary_transformer,binary_features)],\n",
    "    #remainder='passthrough'\n",
    ")"
   ]
  },
  {
   "cell_type": "code",
   "execution_count": null,
   "id": "29c9ddae",
   "metadata": {},
   "outputs": [],
   "source": [
    "X_train, X_test, y_train, y_test = train_test_split(df[num_features1+num_features2+cat_features+binary_features], df['TARGET'],\n",
    "                                                    stratify=df['TARGET'], test_size=0.2,random_state=42)"
   ]
  },
  {
   "cell_type": "markdown",
   "id": "bb8c3c5c",
   "metadata": {},
   "source": [
    "### Preprocessing Strategy III: keep columns with over 50% missing\n",
    "1. Remove correlated features ('REGION_RATING_CLIENT_W_CITY' correlates with 'REGION_RATING_CLIENT'), ID column, low variance column ('FLAG_MOBIL' is 100% 1)<br>\n",
    "2. Feature engineer using address discrepancies and document count\n",
    "3. Fix incorrect values ('DAYS_EMPLOYED')\n",
    "4. Leave numeric columns and binary columns as is, encode categorical columns with OrdinalEncoder <br>\n",
    "5. This strategy works with XGBoost, LightGBM, HistGradientBoostingClassifier as they all can deal with missing values. And as tree-based models, there is no need to scale the input."
   ]
  },
  {
   "cell_type": "code",
   "execution_count": 10,
   "id": "1d4c0e7f",
   "metadata": {},
   "outputs": [
    {
     "data": {
      "text/plain": [
       "(307511, 95)"
      ]
     },
     "execution_count": 10,
     "metadata": {},
     "output_type": "execute_result"
    }
   ],
   "source": [
    "# alternative preprocessing: keep columns with 50% missing\n",
    "df=pd.read_csv(\"data/application_data.csv\")\n",
    "\n",
    "# feature engineering on address discrepancies and document count\n",
    "df['document']= df['FLAG_DOCUMENT_2']+df['FLAG_DOCUMENT_3']+df['FLAG_DOCUMENT_4']+df['FLAG_DOCUMENT_5']+df['FLAG_DOCUMENT_6']\\\n",
    "           +df['FLAG_DOCUMENT_7']+df['FLAG_DOCUMENT_8']+df['FLAG_DOCUMENT_9']+df['FLAG_DOCUMENT_10']+df['FLAG_DOCUMENT_11']\\\n",
    "           +df['FLAG_DOCUMENT_12']+df['FLAG_DOCUMENT_13']+df['FLAG_DOCUMENT_14']+df['FLAG_DOCUMENT_15']+df['FLAG_DOCUMENT_16']\\\n",
    "           +df['FLAG_DOCUMENT_17']+df['FLAG_DOCUMENT_18']+df['FLAG_DOCUMENT_19']+df['FLAG_DOCUMENT_20']+df['FLAG_DOCUMENT_21']\n",
    "\n",
    "df['address'] = df['REG_REGION_NOT_LIVE_REGION']+df['REG_REGION_NOT_WORK_REGION']+df['LIVE_REGION_NOT_WORK_REGION']\\\n",
    "            +df['REG_CITY_NOT_LIVE_CITY']+df['REG_CITY_NOT_WORK_CITY']+df['LIVE_CITY_NOT_WORK_CITY']\n",
    "\n",
    "drop_col = ['FLAG_DOCUMENT_2','FLAG_DOCUMENT_3','FLAG_DOCUMENT_4','FLAG_DOCUMENT_5','FLAG_DOCUMENT_6','FLAG_DOCUMENT_7',\n",
    "           'FLAG_DOCUMENT_8','FLAG_DOCUMENT_9','FLAG_DOCUMENT_10','FLAG_DOCUMENT_11','FLAG_DOCUMENT_12','FLAG_DOCUMENT_13',\n",
    "           'FLAG_DOCUMENT_14','FLAG_DOCUMENT_15','FLAG_DOCUMENT_16','FLAG_DOCUMENT_17','FLAG_DOCUMENT_18','FLAG_DOCUMENT_19',\n",
    "           'FLAG_DOCUMENT_20','FLAG_DOCUMENT_21','REG_REGION_NOT_LIVE_REGION','REG_REGION_NOT_WORK_REGION',\n",
    "           'LIVE_REGION_NOT_WORK_REGION','REG_CITY_NOT_LIVE_CITY','REG_CITY_NOT_WORK_CITY','LIVE_CITY_NOT_WORK_CITY',\n",
    "           'SK_ID_CURR','FLAG_MOBIL','REGION_RATING_CLIENT_W_CITY']\n",
    "\n",
    "df.drop(columns=drop_col,inplace=True)\n",
    "\n",
    "# preprocessing outside of pipeline\n",
    "df['DAYS_EMPLOYED'] = df['DAYS_EMPLOYED'].replace({365243:0})\n",
    "\n",
    "df.shape"
   ]
  },
  {
   "cell_type": "code",
   "execution_count": 16,
   "id": "515bf85c",
   "metadata": {},
   "outputs": [],
   "source": [
    "# alternative preprocessing\n",
    "cat_features = ['NAME_CONTRACT_TYPE','CODE_GENDER','FLAG_OWN_CAR','FLAG_OWN_REALTY','NAME_TYPE_SUITE','NAME_INCOME_TYPE',\n",
    "                'NAME_EDUCATION_TYPE','NAME_FAMILY_STATUS','NAME_HOUSING_TYPE','OCCUPATION_TYPE','WEEKDAY_APPR_PROCESS_START',\n",
    "                'HOUR_APPR_PROCESS_START','ORGANIZATION_TYPE','FONDKAPREMONT_MODE', 'HOUSETYPE_MODE','WALLSMATERIAL_MODE', \n",
    "                'EMERGENCYSTATE_MODE']\n",
    "\n",
    "# for tree based model, no need to scale numerical variable and use ordinal encoder for categorical variable\n",
    "categorical_transformer = Pipeline(\n",
    "    steps=[(\"encoder\", OrdinalEncoder(handle_unknown=\"use_encoded_value\", max_categories=10, unknown_value=10))\n",
    "          ]\n",
    ")\n",
    "\n",
    "preprocessor = ColumnTransformer(\n",
    "    transformers=[\n",
    "        (\"cat\", categorical_transformer, cat_features),\n",
    "        ],\n",
    "    remainder='passthrough'\n",
    ")"
   ]
  },
  {
   "cell_type": "code",
   "execution_count": 11,
   "id": "b342672c",
   "metadata": {},
   "outputs": [],
   "source": [
    "X_train, X_test, y_train, y_test = train_test_split(df.drop(columns=['TARGET']), df['TARGET'],\n",
    "                                                    stratify=df['TARGET'], test_size=0.2,random_state=42)"
   ]
  },
  {
   "cell_type": "code",
   "execution_count": null,
   "id": "cc8df683",
   "metadata": {},
   "outputs": [],
   "source": []
  },
  {
   "cell_type": "markdown",
   "id": "d098c86d",
   "metadata": {},
   "source": [
    "#### Dealing with imbalanced data:\n",
    "1. Undersampling\n",
    "2. SMOTE\n",
    "3. Use a cost function that penalizes wrong classification of the minority class more (adjust class weight)\n",
    "4. Use appropriate metrics (PRC-AUC, F1 score) "
   ]
  },
  {
   "cell_type": "markdown",
   "id": "c7ab6393",
   "metadata": {},
   "source": [
    "### RANDOM FOREST"
   ]
  },
  {
   "cell_type": "markdown",
   "id": "1ad313a7",
   "metadata": {},
   "source": [
    "RandomizedSearchCV"
   ]
  },
  {
   "cell_type": "code",
   "execution_count": 57,
   "id": "6fb43ef7",
   "metadata": {},
   "outputs": [
    {
     "name": "stdout",
     "output_type": "stream",
     "text": [
      "Best parameter: {'classifier__ccp_alpha': 37.454011884736246, 'classifier__max_depth': 4, 'classifier__min_samples_leaf': 3, 'classifier__min_samples_split': 3}\n",
      "Best CV score: 0.08072908198907737\n"
     ]
    }
   ],
   "source": [
    "pipe = Pipeline(\n",
    "    steps=[(\"preprocessor\",preprocessor),\n",
    "           ('classifier', RandomForestClassifier(random_state=42,n_jobs=-1,class_weight='balanced'))]\n",
    ")\n",
    "param = { \"classifier__max_depth\":randint(2,7),\n",
    "          \"classifier__min_samples_split\":randint(2,5),\n",
    "          \"classifier__min_samples_leaf\":randint(2,5),\n",
    "          \"classifier__ccp_alpha\": uniform(0,100)\n",
    "        }\n",
    "cv = StratifiedKFold(n_splits=5, shuffle=True, random_state=42)\n",
    "\n",
    "rf_cv1 = RandomizedSearchCV(pipe, param_distributions=param, cv=cv, scoring=\"average_precision\",random_state=42)\n",
    "rf_cv1.fit(X_train,y_train)\n",
    "\n",
    "print(\"Best parameter:\", rf_cv1.best_params_)\n",
    "print(\"Best CV score:\", rf_cv1.cv_results_['mean_test_score'].max())"
   ]
  },
  {
   "cell_type": "markdown",
   "id": "869e60d6",
   "metadata": {},
   "source": [
    "RandomizedSearchCV, Undersampling"
   ]
  },
  {
   "cell_type": "code",
   "execution_count": 156,
   "id": "c8688ae9",
   "metadata": {},
   "outputs": [
    {
     "name": "stdout",
     "output_type": "stream",
     "text": [
      "Best parameter: {'classifier__ccp_alpha': 37.454011884736246, 'classifier__max_depth': 6, 'classifier__min_samples_leaf': 4, 'classifier__min_samples_split': 4}\n",
      "Best CV score: 0.08072908198907737\n"
     ]
    }
   ],
   "source": [
    "# undersampling\n",
    "pipe = Pipeline(\n",
    "    steps=[(\"undersampler\", RandomUnderSampler()),\n",
    "           (\"preprocessor\", preprocessor),\n",
    "           ('classifier', RandomForestClassifier(random_state=42,n_jobs=-1,class_weight='balanced'))\n",
    "            ]\n",
    ")\n",
    "param = { \"classifier__max_depth\":randint(2,7),\n",
    "          \"classifier__min_samples_split\":randint(2,5),\n",
    "          \"classifier__min_samples_leaf\":randint(2,5),\n",
    "          \"classifier__ccp_alpha\": uniform(0,100)\n",
    "        }\n",
    "cv = StratifiedKFold(n_splits=5, shuffle=True, random_state=42)\n",
    "\n",
    "rf_cv1 = RandomizedSearchCV(pipe, param_distributions=param, cv=cv, scoring=\"average_precision\",random_state=42)\n",
    "rf_cv1.fit(X_train,y_train)\n",
    "\n",
    "print(\"Best parameter:\", rf_cv1.best_params_)\n",
    "print(\"Best CV score:\", rf_cv1.cv_results_['mean_test_score'].max())"
   ]
  },
  {
   "cell_type": "markdown",
   "id": "21ce7920",
   "metadata": {},
   "source": [
    "HyperOpt, SMOTE"
   ]
  },
  {
   "cell_type": "code",
   "execution_count": 17,
   "id": "618f4d9e",
   "metadata": {},
   "outputs": [
    {
     "name": "stdout",
     "output_type": "stream",
     "text": [
      "100%|███████████████████████████████████████████████| 10/10 [05:01<00:00, 30.16s/trial, best loss: -0.0807284256737531]\n"
     ]
    }
   ],
   "source": [
    "def objective(param):\n",
    "    pipe = Pipeline(steps=[\n",
    "           (\"preprocessor\",preprocessor),\n",
    "           (\"smote\",SMOTE(random_state=42)),\n",
    "           ('classifier', RandomForestClassifier(random_state=42,n_jobs=-1,class_weight='balanced'))])\n",
    "    pipe.set_params(**param) \n",
    "    \n",
    "    XX_train, XX_test, yy_train, yy_test = train_test_split(X_train,y_train,stratify=y_train, test_size=0.2)\n",
    "    \n",
    "    pipe.fit(XX_train,yy_train)\n",
    "    yy_pred = pipe.predict_proba(XX_test)\n",
    "    score = average_precision_score(yy_test,yy_pred[:,1])\n",
    "\n",
    "    return {\"loss\": -score,\n",
    "            \"status\": STATUS_OK}\n",
    "\n",
    "# Define parameter space using hyperopt random variables\n",
    "param = {'preprocessor__num__imputer__strategy':hp.choice('strategy',['mean','median']),\n",
    "         'classifier__max_depth': scope.int(hp.quniform('max_depth', 2,10,2)),\n",
    "         'classifier__min_samples_leaf': scope.int(hp.uniform('min_samples_leaf', 1,10)),\n",
    "         'classifier__min_samples_split' : scope.int(hp.uniform('min_samples_split', 2,10)),\n",
    "         'classifier__ccp_alpha':hp.uniform('ccp_alpha',0,100)\n",
    "        }\n",
    "\n",
    "# Set up trials for tracking\n",
    "trials = Trials()\n",
    "\n",
    "# Pass objective fn and params to fmin() to get results\n",
    "result = fmin(\n",
    "    fn=objective,\n",
    "    space=param,\n",
    "    algo=tpe.suggest,\n",
    "    trials=trials,\n",
    "    max_evals=10\n",
    ")"
   ]
  },
  {
   "cell_type": "markdown",
   "id": "739b2d1f",
   "metadata": {},
   "source": [
    "HyperOpt, Balanced RF"
   ]
  },
  {
   "cell_type": "code",
   "execution_count": 231,
   "id": "0d071107",
   "metadata": {},
   "outputs": [
    {
     "name": "stdout",
     "output_type": "stream",
     "text": [
      "100%|███████████████████████████████████████████████| 10/10 [02:40<00:00, 16.05s/trial, best loss: -0.0807284256737531]\n"
     ]
    }
   ],
   "source": [
    "# A balanced random forest randomly under-samples each bootstrap sample to balance it.\n",
    "def objective(param):\n",
    "    pipe = Pipeline(steps=[(\"preprocessor\",preprocessor),\n",
    "           ('classifier', BalancedRandomForestClassifier(sampling_strategy = 'majority',random_state=42,n_jobs=-1,\n",
    "                                                         class_weight='balanced',replacement=False))])\n",
    "    pipe.set_params(**param) \n",
    "    \n",
    "    XX_train, XX_test, yy_train, yy_test = train_test_split(X_train,y_train,stratify=y_train, test_size=0.2)\n",
    "    \n",
    "    pipe.fit(XX_train,yy_train)\n",
    "    yy_pred = pipe.predict_proba(XX_test)\n",
    "    score = average_precision_score(yy_test,yy_pred[:,1])\n",
    "\n",
    "    return {\"loss\": -score,\n",
    "            \"status\": STATUS_OK}\n",
    "\n",
    "# Define parameter space using hyperopt random variables\n",
    "param = {'preprocessor__num__imputer__strategy':hp.choice('strategy',['mean','median']),\n",
    "         'classifier__max_depth': scope.int(hp.quniform('max_depth', 2,10,2)),\n",
    "         'classifier__min_samples_leaf': scope.int(hp.uniform('min_samples_leaf', 1,10)),\n",
    "         'classifier__min_samples_split' : scope.int(hp.uniform('min_samples_split', 2,10)),\n",
    "         'classifier__ccp_alpha':hp.uniform('ccp_alpha',0,200)\n",
    "        }\n",
    "\n",
    "# Set up trials for tracking\n",
    "trials = Trials()\n",
    "\n",
    "# Pass objective fn and params to fmin() to get results\n",
    "result = fmin(\n",
    "    fn=objective,\n",
    "    space=param,\n",
    "    algo=tpe.suggest,\n",
    "    trials=trials,\n",
    "    max_evals=10\n",
    ")"
   ]
  },
  {
   "cell_type": "code",
   "execution_count": 18,
   "id": "6da92a44",
   "metadata": {},
   "outputs": [
    {
     "data": {
      "text/plain": [
       "{'ccp_alpha': 98.83414154382557,\n",
       " 'max_depth': 10.0,\n",
       " 'min_samples_leaf': 7.909196015358564,\n",
       " 'min_samples_split': 2.5980863289889626,\n",
       " 'strategy': 1}"
      ]
     },
     "execution_count": 18,
     "metadata": {},
     "output_type": "execute_result"
    }
   ],
   "source": [
    "result"
   ]
  },
  {
   "cell_type": "code",
   "execution_count": null,
   "id": "39d79c83",
   "metadata": {},
   "outputs": [],
   "source": []
  },
  {
   "cell_type": "markdown",
   "id": "09454f68",
   "metadata": {},
   "source": [
    "### XGBOOST"
   ]
  },
  {
   "cell_type": "markdown",
   "id": "72ee304d",
   "metadata": {},
   "source": [
    "SMOTE"
   ]
  },
  {
   "cell_type": "code",
   "execution_count": 25,
   "id": "6bf09e5a",
   "metadata": {},
   "outputs": [
    {
     "name": "stdout",
     "output_type": "stream",
     "text": [
      "100%|███████████████████████████████████████████████| 20/20 [20:57<00:00, 62.90s/trial, best loss: -0.2279901603974212]\n"
     ]
    }
   ],
   "source": [
    "def objective(param):\n",
    "    XX_train, XX_test, yy_train, yy_test = train_test_split(X_train,y_train,stratify=y_train, test_size=0.2)\n",
    "    \n",
    "    pipe = Pipeline(steps=[#(\"undersampler\", RandomUnderSampler()),\n",
    "                           (\"preprocessor\", preprocessor),\n",
    "                           (\"smote\",SMOTE(random_state=42)),\n",
    "                           ('classifier', XGBClassifier(scale_pos_weight=(y_train==0).sum()/(y_train==1).sum()))])\n",
    "    pipe.set_params(**param) \n",
    "    \n",
    "    pipe.fit(XX_train,yy_train)\n",
    "    yy_pred = pipe.predict_proba(XX_test)\n",
    "    score = average_precision_score(yy_test,yy_pred[:,1])\n",
    "#     yy_pred = pipe.predict(XX_test)\n",
    "#     score = accuracy_score(yy_test,yy_pred)\n",
    "    return {\"loss\": -score,\n",
    "            \"status\": STATUS_OK}\n",
    "\n",
    "# Define parameter space using hyperopt random variables\n",
    "param = {'preprocessor__num__imputer__strategy':hp.choice('strategy',['mean','median']),\n",
    "         'classifier__eta': hp.uniform('eta',0,1),\n",
    "         'classifier__max_depth': scope.int(hp.quniform('max_depth', 2,6,2)),\n",
    "         'classifier__min_child_weight': hp.uniform('min_child_weight', 1,10),\n",
    "         'classifier__lambda' : hp.uniform('lambda', 1,10),\n",
    "         'classifier__subsample':hp.uniform('subsample',0,1),\n",
    "         'classifier__gamma':hp.uniform('gamma',0,10),\n",
    "         'classifier__scale_pos_weight':hp.choice('weight',[1])\n",
    "}\n",
    "\n",
    "# Set up trials for tracking\n",
    "trials = Trials()\n",
    "\n",
    "# Pass objective fn and params to fmin() to get results\n",
    "result = fmin(\n",
    "    fn=objective,\n",
    "    space=param,\n",
    "    algo=tpe.suggest,\n",
    "    trials=trials,\n",
    "    max_evals=20\n",
    ")"
   ]
  },
  {
   "cell_type": "markdown",
   "id": "6e3bf919",
   "metadata": {},
   "source": [
    "Undersampling"
   ]
  },
  {
   "cell_type": "code",
   "execution_count": 257,
   "id": "f99e723a",
   "metadata": {},
   "outputs": [
    {
     "name": "stdout",
     "output_type": "stream",
     "text": [
      "100%|██████████████████████████████████████████████| 64/64 [21:51<00:00, 20.49s/trial, best loss: -0.23836420359096233]\n"
     ]
    }
   ],
   "source": [
    "def objective(param):\n",
    "    XX_train, XX_test, yy_train, yy_test = train_test_split(X_train,y_train,stratify=y_train, test_size=0.2)\n",
    "    \n",
    "    pipe = Pipeline(steps=[#(\"undersampler\", RandomUnderSampler()),\n",
    "                           (\"preprocessor\", preprocessor),\n",
    "                           ('classifier', XGBClassifier(scale_pos_weight=(yy_train==0).sum()/(yy_train==1).sum()))])\n",
    "    pipe.set_params(**param) \n",
    "    \n",
    "    pipe.fit(XX_train,yy_train)\n",
    "    yy_pred = pipe.predict_proba(XX_test)\n",
    "    score = average_precision_score(yy_test,yy_pred[:,1])\n",
    "#     yy_pred = pipe.predict(XX_test)\n",
    "#     score = accuracy_score(yy_test,yy_pred)\n",
    "    return {\"loss\": -score,\n",
    "            \"status\": STATUS_OK}\n",
    "\n",
    "# Define parameter space using hyperopt random variables\n",
    "param = {#'preprocessor__num__imputer__strategy':hp.choice('strategy',['mean','median']),\n",
    "         'classifier__eta': hp.uniform('eta',0,1),\n",
    "         'classifier__max_depth': scope.int(hp.quniform('max_depth', 2,6,2)),\n",
    "         'classifier__min_child_weight': hp.uniform('min_child_weight', 1,10),\n",
    "         'classifier__lambda' : hp.uniform('lambda', 1,10),\n",
    "         'classifier__subsample':hp.uniform('subsample',0,1),\n",
    "         'classifier__gamma':hp.uniform('gamma',0,10),\n",
    "         #'classifier__scale_pos_weight':hp.choice('weight',[1])\n",
    "}\n",
    "\n",
    "# Set up trials for tracking\n",
    "trials = Trials()\n",
    "\n",
    "# Pass objective fn and params to fmin() to get results\n",
    "result = fmin(\n",
    "    fn=objective,\n",
    "    space=param,\n",
    "    algo=tpe.suggest,\n",
    "    trials=trials,\n",
    "    max_evals=64\n",
    ")"
   ]
  },
  {
   "cell_type": "markdown",
   "id": "de9a2c36",
   "metadata": {},
   "source": [
    "MLFlow tracking"
   ]
  },
  {
   "cell_type": "code",
   "execution_count": 26,
   "id": "c90bcfed",
   "metadata": {},
   "outputs": [
    {
     "name": "stdout",
     "output_type": "stream",
     "text": [
      "100%|████████████████████████████████████████████████| 2/2 [00:13<00:00,  6.56s/trial, best loss: -0.12028085166385541]\n"
     ]
    }
   ],
   "source": [
    "def objective(param):\n",
    "\n",
    "    with mlflow.start_run(nested=True): \n",
    "        mlflow.log_params(param)\n",
    "        XX_train, XX_test, yy_train, yy_test = train_test_split(X_train,y_train,stratify=y_train, test_size=0.2)\n",
    "        weight_imbalance = (yy_train==0).sum()/(yy_train==1).sum()\n",
    "    \n",
    "        pipe = Pipeline(steps=[(\"undersampler\", RandomUnderSampler()),\n",
    "                           (\"preprocessor\", preprocessor),\n",
    "                           ('classifier', XGBClassifier(scale_pos_weight = weight_imbalance))])\n",
    "        pipe.set_params(**param) \n",
    "    \n",
    "        pipe.fit(XX_train,yy_train)\n",
    "        yy_pred_proba = pipe.predict_proba(XX_test)\n",
    "        yy_pred = pipe.predict(XX_test)\n",
    "        ap = average_precision_score(yy_test, yy_pred_proba[:, 1])\n",
    "        roc = roc_auc_score(yy_test, yy_pred_proba[:, 1])\n",
    "        acc = accuracy_score(yy_test, yy_pred)\n",
    "        logloss = log_loss(yy_test, yy_pred_proba[:, 1])\n",
    "        mlflow.log_metric(\"val_PRC_AUC\", ap)\n",
    "        mlflow.log_metric(\"val_ROC_AUC\", roc)\n",
    "        mlflow.log_metric(\"val_accuracy\", acc)\n",
    "        mlflow.log_metric(\"val_log_loss\", logloss)\n",
    "    return {\"loss\": -ap,\n",
    "                \"status\": STATUS_OK}\n",
    "\n",
    "# Define parameter space using hyperopt random variables\n",
    "param = {#'preprocessor__num__imputer__strategy':hp.choice('strategy',['mean','median']),\n",
    "         'classifier__eta': hp.uniform('eta',0,1),\n",
    "         'classifier__max_depth': scope.int(hp.quniform('max_depth', 2,10,2)),\n",
    "         'classifier__min_child_weight': hp.uniform('min_child_weight', 1,10),\n",
    "         'classifier__lambda' : hp.uniform('lambda', 1,10),\n",
    "         'classifier__subsample':hp.uniform('subsample',0,1),\n",
    "         'classifier__gamma':hp.uniform('gamma',0,10),\n",
    "         #'classifier__scale_pos_weight':hp.choice('scale_pos_weight',[1]),\n",
    "}\n",
    "\n",
    "\n",
    "\n",
    "# start a client\n",
    "client = mlflow.tracking.MlflowClient()\n",
    "\n",
    "# start an experiment\n",
    "try:\n",
    "    client.create_experiment(\"loan\")\n",
    "except:\n",
    "    experiment = client.get_experiment_by_name(\"loan\")\n",
    "    \n",
    "# set a global active experiment across parent and child runs\n",
    "mlflow.set_experiment(experiment_name='loan')\n",
    "\n",
    "# start a run\n",
    "run = client.create_run(experiment.experiment_id)\n",
    "with mlflow.start_run(run_id=run.info.run_id):\n",
    "    result = fmin(fn=objective,\n",
    "        space=param,\n",
    "        algo=tpe.suggest,\n",
    "        trials=Trials(),\n",
    "        max_evals=2)\n",
    "    result = {k:float(v) for k,v in result.items()}\n",
    "    mlflow.log_params(space_eval(param,result))\n",
    "    mlflow.log_dict(result,\"best_params.json\")\n",
    "    mlflow.set_tag(\"model\",\"XGBoost\")\n",
    "    \n",
    "    # search experiments to log the best metrics\n",
    "    experiment_id = experiment.experiment_id\n",
    "    run_id = run.info.run_id\n",
    "    runs = client.search_runs(\n",
    "            [experiment_id], \"tags.mlflow.parentRunId = '{run_id}' \".format(run_id=run.info.run_id)\n",
    "        )\n",
    "    _inf = np.finfo(np.float64).min\n",
    "    best_val_PRC_AUC = _inf\n",
    "    best_val_ROC_AUC = _inf\n",
    "    best_val_accuracy = _inf\n",
    "    best_val_log_loss = _inf\n",
    "    for r in runs:\n",
    "        if r.data.metrics[\"val_PRC_AUC\"] > best_val_PRC_AUC:\n",
    "            best_val_ROC_AUC = r.data.metrics[\"val_ROC_AUC\"]\n",
    "            best_val_accuracy = r.data.metrics[\"val_accuracy\"]\n",
    "            best_val_log_loss = r.data.metrics[\"val_log_loss\"]\n",
    "            best_val_PRC_AUC = r.data.metrics[\"val_PRC_AUC\"]\n",
    "    mlflow.log_metrics(\n",
    "                {\n",
    "                    \"val_ROC_AUC\": best_val_ROC_AUC,\n",
    "                    \"val_PRC_AUC\": best_val_PRC_AUC,\n",
    "                    \"val_log_loss\": best_val_log_loss,\n",
    "                    \"val_accuracy\": best_val_accuracy\n",
    "                }\n",
    "            )"
   ]
  },
  {
   "cell_type": "code",
   "execution_count": 258,
   "id": "72bd12c7",
   "metadata": {},
   "outputs": [
    {
     "data": {
      "text/plain": [
       "{'eta': 0.28715047020268525,\n",
       " 'gamma': 2.6923449065374774,\n",
       " 'lambda': 2.977695707610445,\n",
       " 'max_depth': 2.0,\n",
       " 'min_child_weight': 3.788857718051868,\n",
       " 'subsample': 0.9846407705580316}"
      ]
     },
     "execution_count": 258,
     "metadata": {},
     "output_type": "execute_result"
    }
   ],
   "source": [
    "result"
   ]
  },
  {
   "cell_type": "code",
   "execution_count": null,
   "id": "9491dbe8",
   "metadata": {},
   "outputs": [],
   "source": []
  },
  {
   "cell_type": "markdown",
   "id": "27a4d3d9",
   "metadata": {},
   "source": [
    "### HISTGRADIENTBOOSTING"
   ]
  },
  {
   "cell_type": "code",
   "execution_count": 10,
   "id": "67293088",
   "metadata": {},
   "outputs": [
    {
     "name": "stdout",
     "output_type": "stream",
     "text": [
      "100%|████████████████████████████████████████████████| 10/10 [00:15<00:00,  1.58s/trial, best loss: 0.5954543173799873]\n"
     ]
    }
   ],
   "source": [
    "def objective(param):\n",
    "    XX_train, XX_test, yy_train, yy_test = train_test_split(X_train,y_train,stratify=y_train, test_size=0.2)\n",
    "    \n",
    "    pipe = Pipeline(steps=[#(\"undersampler\", RandomUnderSampler()),\n",
    "                           (\"preprocessor\", preprocessor),\n",
    "                           ('classifier', HistGradientBoostingClassifier(class_weight='balanced',\n",
    "                                                                         #categorical_features=range(27,45)\n",
    "                                                                        ))])\n",
    "    pipe.set_params(**param) \n",
    "    \n",
    "    pipe.fit(XX_train,yy_train)\n",
    "    yy_pred = pipe.predict_proba(XX_test)\n",
    "#    loss = log_loss(yy_test,yy_pred[:,1])\n",
    "    score = average_precision_score(yy_test,yy_pred[:,1])\n",
    "#     yy_pred = pipe.predict(XX_test)\n",
    "#     score = accuracy_score(yy_test,yy_pred)\n",
    "    return {\"loss\": -score,\n",
    "            \"status\": STATUS_OK}\n",
    "\n",
    "# Define parameter space using hyperopt random variables\n",
    "param = {#'preprocessor__num__imputer__strategy':hp.choice('strategy',['mean','median']),\n",
    "         'classifier__learning_rate': hp.uniform('eta',0,1),\n",
    "         'classifier__max_depth': scope.int(hp.quniform('max_depth', 2,10,2)),\n",
    "         'classifier__min_samples_leaf': scope.int(hp.uniform('min_samples_leaf', 5,200)),\n",
    "         'classifier__l2_regularization' : hp.uniform('lambda', 1,10),\n",
    "         'classifier__max_leaf_nodes':scope.int(hp.uniform('max_leaf_nodes',5,200))\n",
    "         #'classifier__scale_pos_weight':hp.choice('weight',[1])\n",
    "}\n",
    "\n",
    "trials = Trials()\n",
    "\n",
    "result = fmin(\n",
    "        fn=objective,\n",
    "        space=param,\n",
    "        algo=tpe.suggest,\n",
    "        trials=trials,\n",
    "        max_evals=10\n",
    "    )\n"
   ]
  },
  {
   "cell_type": "markdown",
   "id": "417eefba",
   "metadata": {},
   "source": [
    "Undersampling"
   ]
  },
  {
   "cell_type": "code",
   "execution_count": 40,
   "id": "354c88fb",
   "metadata": {},
   "outputs": [
    {
     "name": "stdout",
     "output_type": "stream",
     "text": [
      "100%|███████████████████████████████████████████████| 64/64 [05:00<00:00,  4.70s/trial, best loss: -0.2313248548705517]\n"
     ]
    }
   ],
   "source": [
    "def objective(param):\n",
    "    XX_train, XX_test, yy_train, yy_test = train_test_split(X_train,y_train,stratify=y_train, test_size=0.2)\n",
    "    \n",
    "    pipe = Pipeline(steps=[(\"undersampler\", RandomUnderSampler()),\n",
    "                           (\"preprocessor\", preprocessor),\n",
    "                           ('classifier', HistGradientBoostingClassifier(class_weight='balanced',\n",
    "                                                                         #categorical_features=range(27,45)\n",
    "                                                                        ))])\n",
    "    pipe.set_params(**param) \n",
    "    \n",
    "    pipe.fit(XX_train,yy_train)\n",
    "    yy_pred = pipe.predict_proba(XX_test)\n",
    "    score = average_precision_score(yy_test,yy_pred[:,1])\n",
    "#     yy_pred = pipe.predict(XX_test)\n",
    "#     score = accuracy_score(yy_test,yy_pred)\n",
    "    return {\"loss\": -score,\n",
    "            \"status\": STATUS_OK}\n",
    "\n",
    "# Define parameter space using hyperopt random variables\n",
    "param = {#'preprocessor__num__imputer__strategy':hp.choice('strategy',['mean','median']),\n",
    "         'classifier__learning_rate': hp.loguniform('learning_rate',-5,0),\n",
    "         'classifier__max_depth': scope.int(hp.quniform('max_depth', 2,10,2)),\n",
    "         'classifier__min_samples_leaf': scope.int(hp.uniform('min_samples_leaf', 5,200)),\n",
    "         'classifier__l2_regularization' : hp.uniform('l2_regularization', 1,10),\n",
    "         'classifier__max_leaf_nodes':scope.int(hp.uniform('max_leaf_nodes',5,200)),\n",
    "         #'classifier__class_weight':hp.choice('class_weight',[None])\n",
    "}\n",
    "\n",
    "# Set up trials for tracking\n",
    "trials = Trials()\n",
    "\n",
    "# Pass objective fn and params to fmin() to get results\n",
    "result = fmin(\n",
    "    fn=objective,\n",
    "    space=param,\n",
    "    algo=tpe.suggest,\n",
    "    trials=trials,\n",
    "    max_evals=64\n",
    ")"
   ]
  },
  {
   "cell_type": "code",
   "execution_count": 41,
   "id": "413db9fb",
   "metadata": {},
   "outputs": [
    {
     "data": {
      "text/plain": [
       "{'l2_regularization': 6.2960004220272845,\n",
       " 'learning_rate': 0.29377602017417814,\n",
       " 'max_depth': 8.0,\n",
       " 'max_leaf_nodes': 38.76621657459126,\n",
       " 'min_samples_leaf': 153.09962379041093}"
      ]
     },
     "execution_count": 41,
     "metadata": {},
     "output_type": "execute_result"
    }
   ],
   "source": [
    "result"
   ]
  },
  {
   "cell_type": "markdown",
   "id": "90c16885",
   "metadata": {},
   "source": [
    "MLflow tracking"
   ]
  },
  {
   "cell_type": "code",
   "execution_count": 24,
   "id": "a940f330",
   "metadata": {},
   "outputs": [
    {
     "name": "stdout",
     "output_type": "stream",
     "text": [
      "100%|████████████████████████████████████████████| 128/128 [17:39<00:00,  8.27s/trial, best loss: -0.24085611497517406]\n"
     ]
    }
   ],
   "source": [
    "def objective(param):\n",
    "\n",
    "    with mlflow.start_run(nested=True): \n",
    "        mlflow.log_params(param)\n",
    "        XX_train, XX_test, yy_train, yy_test = train_test_split(X_train,y_train,stratify=y_train, test_size=0.2)\n",
    "    \n",
    "        pipe = Pipeline(steps=[#(\"undersampler\", RandomUnderSampler()),\n",
    "                           (\"preprocessor\", preprocessor),\n",
    "                           #(\"smote\",SMOTE(random_state=42)),\n",
    "                           ('classifier', HistGradientBoostingClassifier())])\n",
    "        pipe.set_params(**param) \n",
    "    \n",
    "        pipe.fit(XX_train,yy_train)\n",
    "        yy_pred_proba = pipe.predict_proba(XX_test)\n",
    "        yy_pred = pipe.predict(XX_test)\n",
    "        ap = average_precision_score(yy_test, yy_pred_proba[:, 1])\n",
    "        roc = roc_auc_score(yy_test, yy_pred_proba[:, 1])\n",
    "        acc = accuracy_score(yy_test, yy_pred)\n",
    "        logloss = log_loss(yy_test, yy_pred_proba[:, 1])\n",
    "        mlflow.log_metric(\"val_PRC_AUC\", ap)\n",
    "        mlflow.log_metric(\"val_ROC_AUC\", roc)\n",
    "        mlflow.log_metric(\"val_accuracy\", acc)\n",
    "        mlflow.log_metric(\"val_log_loss\", logloss)\n",
    "    return {\"loss\": -ap,\n",
    "                \"status\": STATUS_OK}\n",
    "\n",
    "# Define parameter space using hyperopt random variables\n",
    "param = {#'preprocessor__num__imputer__strategy':hp.choice('strategy',['mean','median']),\n",
    "         'classifier__learning_rate': hp.loguniform('learning_rate',-5,0),\n",
    "         'classifier__max_depth': scope.int(hp.uniform('max_depth', 2,10)),\n",
    "         'classifier__min_samples_leaf': scope.int(hp.quniform('min_samples_leaf', 10,300,10)),\n",
    "         'classifier__l2_regularization' : hp.uniform('l2_regularization', 1,10),\n",
    "         'classifier__max_leaf_nodes':scope.int(hp.quniform('max_leaf_nodes',10,300,10)),\n",
    "         'classifier__class_weight':hp.choice('class_weight',[\"balanced\"])\n",
    "}\n",
    "\n",
    "\n",
    "\n",
    "# start a client\n",
    "client = mlflow.tracking.MlflowClient()\n",
    "\n",
    "# start an experiment\n",
    "try:\n",
    "    client.create_experiment(\"loan\")\n",
    "except:\n",
    "    experiment = client.get_experiment_by_name(\"loan\")\n",
    "    \n",
    "# set a global active experiment across parent and child runs\n",
    "mlflow.set_experiment(experiment_name='loan')\n",
    "\n",
    "# start a run\n",
    "run = client.create_run(experiment.experiment_id)\n",
    "with mlflow.start_run(run_id=run.info.run_id):\n",
    "    result = fmin(fn=objective,\n",
    "        space=param,\n",
    "        algo=tpe.suggest,\n",
    "        trials=Trials(),\n",
    "        max_evals=128)\n",
    "    result = {k:float(v) for k,v in result.items()}\n",
    "    mlflow.log_params(space_eval(param,result))\n",
    "    mlflow.log_dict(result,\"best_params.json\")\n",
    "    mlflow.set_tag(\"model\",\"HistGradientBoosting\")\n",
    "    \n",
    "    # search experiments to log the best metrics\n",
    "    experiment_id = experiment.experiment_id\n",
    "    run_id = run.info.run_id\n",
    "    runs = client.search_runs(\n",
    "            [experiment_id], \"tags.mlflow.parentRunId = '{run_id}' \".format(run_id=run.info.run_id)\n",
    "        )\n",
    "    _inf = np.finfo(np.float64).min\n",
    "    best_val_PRC_AUC = _inf\n",
    "    best_val_ROC_AUC = _inf\n",
    "    best_val_accuracy = _inf\n",
    "    best_val_log_loss = _inf\n",
    "    for r in runs:\n",
    "        if r.data.metrics[\"val_PRC_AUC\"] > best_val_PRC_AUC:\n",
    "            best_val_ROC_AUC = r.data.metrics[\"val_ROC_AUC\"]\n",
    "            best_val_accuracy = r.data.metrics[\"val_accuracy\"]\n",
    "            best_val_log_loss = r.data.metrics[\"val_log_loss\"]\n",
    "            best_val_PRC_AUC = r.data.metrics[\"val_PRC_AUC\"]\n",
    "    mlflow.log_metrics(\n",
    "                {\n",
    "                    \"val_ROC_AUC\": best_val_ROC_AUC,\n",
    "                    \"val_PRC_AUC\": best_val_PRC_AUC,\n",
    "                    \"val_log_loss\": best_val_log_loss,\n",
    "                    \"val_accuracy\": best_val_accuracy\n",
    "                }\n",
    "            )"
   ]
  },
  {
   "cell_type": "code",
   "execution_count": 25,
   "id": "388410d4",
   "metadata": {},
   "outputs": [
    {
     "data": {
      "text/plain": [
       "{'classifier__class_weight': 'balanced',\n",
       " 'classifier__l2_regularization': 4.932539993676863,\n",
       " 'classifier__learning_rate': 0.08267676232960586,\n",
       " 'classifier__max_depth': 7,\n",
       " 'classifier__max_leaf_nodes': 20,\n",
       " 'classifier__min_samples_leaf': 80}"
      ]
     },
     "execution_count": 25,
     "metadata": {},
     "output_type": "execute_result"
    }
   ],
   "source": [
    "space_eval(param,result)"
   ]
  },
  {
   "cell_type": "code",
   "execution_count": null,
   "id": "9e2d04e4",
   "metadata": {},
   "outputs": [],
   "source": []
  },
  {
   "cell_type": "markdown",
   "id": "a4476f74",
   "metadata": {},
   "source": [
    "### LIGHTGBM"
   ]
  },
  {
   "cell_type": "code",
   "execution_count": 39,
   "id": "80282fe5",
   "metadata": {},
   "outputs": [
    {
     "name": "stdout",
     "output_type": "stream",
     "text": [
      "100%|████████████████████████████████████████████| 128/128 [11:50<00:00,  5.55s/trial, best loss: -0.24222172208766407]\n"
     ]
    }
   ],
   "source": [
    "def objective(param):\n",
    "\n",
    "    with mlflow.start_run(nested=True): \n",
    "        mlflow.log_params(param)\n",
    "        XX_train, XX_test, yy_train, yy_test = train_test_split(X_train,y_train,stratify=y_train, test_size=0.2)\n",
    "    \n",
    "        pipe = Pipeline(steps=[#(\"undersampler\", RandomUnderSampler()),\n",
    "                           (\"preprocessor\", preprocessor),\n",
    "                           ('classifier', LGBMClassifier(verbosity=-1))])\n",
    "        pipe.set_params(**param) \n",
    "    \n",
    "        pipe.fit(XX_train,yy_train)\n",
    "        yy_pred_proba = pipe.predict_proba(XX_test)\n",
    "        yy_pred = pipe.predict(XX_test)\n",
    "        ap = average_precision_score(yy_test, yy_pred_proba[:, 1])\n",
    "        roc = roc_auc_score(yy_test, yy_pred_proba[:, 1])\n",
    "        acc = accuracy_score(yy_test, yy_pred)\n",
    "        logloss = log_loss(yy_test, yy_pred_proba[:, 1])\n",
    "        mlflow.log_metric(\"val_PRC_AUC\", ap)\n",
    "        mlflow.log_metric(\"val_ROC_AUC\", roc)\n",
    "        mlflow.log_metric(\"val_accuracy\", acc)\n",
    "        mlflow.log_metric(\"val_log_loss\", logloss)\n",
    "    return {\"loss\": -ap,\n",
    "                \"status\": STATUS_OK}\n",
    "\n",
    "# Define parameter space using hyperopt random variables\n",
    "param = {#'preprocessor__num__imputer__strategy':hp.choice('strategy',['mean','median']),\n",
    "         'classifier__learning_rate': hp.uniform('learning_rate',0,1),\n",
    "         'classifier__max_depth': scope.int(hp.uniform('max_depth', 2,10)),\n",
    "         'classifier__min_data_in_leaf': scope.int(hp.uniform('min_data_in_leaf', 10,200)),\n",
    "         'classifier__lambda_l2' : hp.uniform('lambda_l2', 1,10),\n",
    "         'classifier__num_leaves':scope.int(hp.uniform('num_leaves',10,200)),\n",
    "         'classifier__feature_fraction':hp.uniform('feature_fraction',0,1),\n",
    "         'classifier__is_unbalance':hp.choice('is_unbalance',[False]),\n",
    "}\n",
    "\n",
    "\n",
    "\n",
    "# start a client\n",
    "client = mlflow.tracking.MlflowClient()\n",
    "\n",
    "# start an experiment\n",
    "try:\n",
    "    client.create_experiment(\"loan\")\n",
    "except:\n",
    "    experiment = client.get_experiment_by_name(\"loan\")\n",
    "    \n",
    "# set a global active experiment across parent and child runs\n",
    "mlflow.set_experiment(experiment_name='loan')\n",
    "\n",
    "# start a run\n",
    "run = client.create_run(experiment.experiment_id)\n",
    "with mlflow.start_run(run_id=run.info.run_id):\n",
    "    result = fmin(fn=objective,\n",
    "        space=param,\n",
    "        algo=tpe.suggest,\n",
    "        trials=Trials(),\n",
    "        max_evals=128)\n",
    "    result = {k:float(v) for k,v in result.items()}\n",
    "    mlflow.log_params(space_eval(param,result))\n",
    "    mlflow.log_dict(result,\"best_params.json\")\n",
    "    mlflow.set_tag(\"model\",\"LightGBM\")\n",
    "    \n",
    "    # search experiments to log the best metrics\n",
    "    experiment_id = experiment.experiment_id\n",
    "    run_id = run.info.run_id\n",
    "    runs = client.search_runs(\n",
    "            [experiment_id], \"tags.mlflow.parentRunId = '{run_id}' \".format(run_id=run.info.run_id)\n",
    "        )\n",
    "    _inf = np.finfo(np.float64).min\n",
    "    best_val_PRC_AUC = _inf\n",
    "    best_val_ROC_AUC = _inf\n",
    "    best_val_accuracy = _inf\n",
    "    best_val_log_loss = _inf\n",
    "    for r in runs:\n",
    "        if r.data.metrics[\"val_PRC_AUC\"] > best_val_PRC_AUC:\n",
    "            best_val_ROC_AUC = r.data.metrics[\"val_ROC_AUC\"]\n",
    "            best_val_accuracy = r.data.metrics[\"val_accuracy\"]\n",
    "            best_val_log_loss = r.data.metrics[\"val_log_loss\"]\n",
    "            best_val_PRC_AUC = r.data.metrics[\"val_PRC_AUC\"]\n",
    "    mlflow.log_metrics(\n",
    "                {\n",
    "                    \"val_ROC_AUC\": best_val_ROC_AUC,\n",
    "                    \"val_PRC_AUC\": best_val_PRC_AUC,\n",
    "                    \"val_log_loss\": best_val_log_loss,\n",
    "                    \"val_accuracy\": best_val_accuracy\n",
    "                }\n",
    "            )"
   ]
  },
  {
   "cell_type": "code",
   "execution_count": null,
   "id": "81c58216",
   "metadata": {},
   "outputs": [],
   "source": []
  },
  {
   "cell_type": "markdown",
   "id": "0e80192f",
   "metadata": {},
   "source": [
    "### Deep Learning"
   ]
  },
  {
   "cell_type": "markdown",
   "id": "88b1c402",
   "metadata": {},
   "source": [
    "### Preprocessing Strategy IV: \n",
    "1. Remove correlated features ('REGION_RATING_CLIENT_W_CITY' correlates with 'REGION_RATING_CLIENT'), ID column, low variance column ('FLAG_MOBIL' is 100% 1), and columns with over 50% missing<br>\n",
    "2. Feature engineer using address discrepancies and document count\n",
    "3. Fix incorrect values ('DAYS_EMPLOYED'), **fill in missing values that don't depend on aggregated values (median/mean)**\n",
    "4. Leave binary columns as is, **impute numerical columns with median/mean, add missing indicator for features with 10-50% missing,** encode categorical columns with **OneHotEncoder** <br>\n",
    "5. This strategy works with neural networks."
   ]
  },
  {
   "cell_type": "code",
   "execution_count": 49,
   "id": "e2edf39d",
   "metadata": {},
   "outputs": [],
   "source": [
    "# Run Preprocessing Strategy I first cell first. Below are extra steps.\n",
    "# preprocessing outside of pipeline\n",
    "df['DAYS_LAST_PHONE_CHANGE']=df['DAYS_LAST_PHONE_CHANGE'].fillna(1)\n",
    "df['CNT_FAM_MEMBERS'] = df['CNT_FAM_MEMBERS'].fillna(df['CNT_CHILDREN']+1)\n",
    "df['OCCUPATION_TYPE'] = df['OCCUPATION_TYPE'].fillna(\"Others\")\n",
    "df['NAME_TYPE_SUITE'] = df['NAME_TYPE_SUITE'].fillna(\"Missing\")\n",
    "\n",
    "num_features1 = ['CNT_CHILDREN','AMT_INCOME_TOTAL','AMT_CREDIT','AMT_ANNUITY','AMT_GOODS_PRICE','REGION_POPULATION_RELATIVE',\n",
    "                'DAYS_BIRTH','DAYS_EMPLOYED','DAYS_REGISTRATION','DAYS_ID_PUBLISH','CNT_FAM_MEMBERS','REGION_RATING_CLIENT',\n",
    "                'EXT_SOURCE_2','DAYS_LAST_PHONE_CHANGE','OBS_30_CNT_SOCIAL_CIRCLE',\n",
    "                'DEF_30_CNT_SOCIAL_CIRCLE','OBS_60_CNT_SOCIAL_CIRCLE','DEF_60_CNT_SOCIAL_CIRCLE',\n",
    "                'document','address'] # no missing indicator\n",
    "num_features2 = ['EXT_SOURCE_3','AMT_REQ_CREDIT_BUREAU_HOUR','AMT_REQ_CREDIT_BUREAU_DAY','AMT_REQ_CREDIT_BUREAU_WEEK',\n",
    "                 'AMT_REQ_CREDIT_BUREAU_MON','AMT_REQ_CREDIT_BUREAU_QRT','AMT_REQ_CREDIT_BUREAU_YEAR'] # add missing indicator\n",
    "cat_features = ['NAME_CONTRACT_TYPE','CODE_GENDER','FLAG_OWN_CAR','FLAG_OWN_REALTY','NAME_TYPE_SUITE','NAME_INCOME_TYPE',\n",
    "                'NAME_EDUCATION_TYPE','NAME_FAMILY_STATUS','NAME_HOUSING_TYPE','OCCUPATION_TYPE','WEEKDAY_APPR_PROCESS_START',\n",
    "                'HOUR_APPR_PROCESS_START','ORGANIZATION_TYPE']\n",
    "binary_features = ['FLAG_EMP_PHONE','FLAG_WORK_PHONE','FLAG_CONT_MOBILE','FLAG_PHONE','FLAG_EMAIL']\n",
    "\n",
    "numeric_transformer1 = Pipeline(\n",
    "    steps=[(\"imputer\",SimpleImputer(strategy = 'median')),\n",
    "            (\"scaler\",StandardScaler())\n",
    "          ]\n",
    ")\n",
    "numeric_transformer2 = Pipeline(\n",
    "    steps=[(\"imputer\",SimpleImputer(strategy = 'median', add_indicator=True)),\n",
    "            (\"scaler\",StandardScaler())\n",
    "          ]\n",
    ")\n",
    "categorical_transformer = Pipeline(\n",
    "    steps=[(\"encoder\", OneHotEncoder(max_categories=10))\n",
    "          ]\n",
    ")\n",
    "binary_transformer = Pipeline(\n",
    "    steps=[\n",
    "        ('pass','passthrough')\n",
    "    ]\n",
    ")\n",
    "preprocessor = ColumnTransformer(\n",
    "    transformers=[\n",
    "        (\"num1\", numeric_transformer1, num_features1),\n",
    "        (\"num2\", numeric_transformer2, num_features2),\n",
    "        (\"cat\", categorical_transformer, cat_features),\n",
    "        ('binary',binary_transformer,binary_features)],\n",
    "    #remainder='passthrough'\n",
    ")"
   ]
  },
  {
   "cell_type": "code",
   "execution_count": 50,
   "id": "926fedb8",
   "metadata": {},
   "outputs": [],
   "source": [
    "XX_train, XX_test, yy_train, yy_test = train_test_split(X_train,y_train,stratify=y_train, test_size=0.2)\n",
    "XX_train_processed = preprocessor.fit_transform(XX_train)\n",
    "XX_test_processed = preprocessor.transform(XX_test)"
   ]
  },
  {
   "cell_type": "code",
   "execution_count": 51,
   "id": "557bf915",
   "metadata": {},
   "outputs": [],
   "source": [
    "# https://www.kaggle.com/code/mouafekmk/simple-pytorch-tensorflow-mlp\n",
    "class MLP(nn.Module):\n",
    "    def __init__(self, input_size, hidden_size, output_size,dropout_rate):\n",
    "        \"\"\"\n",
    "        :param input_size: input feature dimension\n",
    "        :param hidden_size: hidden dimension\n",
    "        :param output_size: total number of classes\n",
    "        \"\"\"\n",
    "        super().__init__()\n",
    "\n",
    "        self.dense1 = nn.Linear(input_size, hidden_size)\n",
    "        self.batch_norm1 = nn.BatchNorm1d(hidden_size)\n",
    "        self.dropout1 = nn.Dropout(dropout_rate)\n",
    "\n",
    "        self.dense2 = nn.Linear(hidden_size+input_size, hidden_size)\n",
    "        self.batch_norm2 = nn.BatchNorm1d(hidden_size)\n",
    "        self.dropout2 = nn.Dropout(dropout_rate)\n",
    "\n",
    "        self.dense3 = nn.Linear(hidden_size+hidden_size, hidden_size)\n",
    "        self.batch_norm3 = nn.BatchNorm1d(hidden_size)\n",
    "        self.dropout3 = nn.Dropout(dropout_rate)\n",
    "\n",
    "        self.dense4 = nn.Linear(hidden_size+hidden_size, hidden_size)\n",
    "        self.batch_norm4 = nn.BatchNorm1d(hidden_size)\n",
    "        self.dropout4 = nn.Dropout(dropout_rate)\n",
    "\n",
    "        self.dense5 = nn.Linear(hidden_size+hidden_size, output_size)\n",
    "\n",
    "        #self.Relu = nn.ReLU(inplace=True)\n",
    "        self.PReLU = nn.PReLU()\n",
    "#         self.LeakyReLU = nn.LeakyReLU(negative_slope=0.01, inplace=True)\n",
    "#         self.GeLU = nn.GELU()\n",
    "#         self.RReLU = nn.RReLU()\n",
    "\n",
    "    def forward(self, x):\n",
    "        x1 = self.dense1(x)\n",
    "        x1 = self.batch_norm1(x1)\n",
    "        # x1 = self.LeakyReLU(x1)\n",
    "        # x1 = self.Relu(x1)\n",
    "        x1 = self.PReLU(x1)\n",
    "        x1 = self.dropout1(x1)\n",
    "\n",
    "        x = torch.cat([x, x1], 1)\n",
    "\n",
    "        x2 = self.dense2(x)\n",
    "        x2 = self.batch_norm2(x2)\n",
    "        # x2 = self.LeakyReLU(x2)\n",
    "        # x2 = self.Relu(x2)\n",
    "        x2 = self.PReLU(x2)\n",
    "        x2 = self.dropout2(x2)\n",
    "\n",
    "        x = torch.cat([x1, x2], 1)\n",
    "\n",
    "        x3 = self.dense3(x)\n",
    "        x3 = self.batch_norm3(x3)\n",
    "        # x3 = self.LeakyReLU(x3)\n",
    "        # x3 = self.Relu(x3)\n",
    "        x3 = self.PReLU(x3)\n",
    "        x3 = self.dropout3(x3)\n",
    "\n",
    "        x = torch.cat([x2, x3], 1)\n",
    "\n",
    "        x4 = self.dense4(x)\n",
    "        x4 = self.batch_norm4(x4)\n",
    "        # x4 = self.LeakyReLU(x4)\n",
    "        # x4 = self.Relu(x4)\n",
    "        x4 = self.PReLU(x4)\n",
    "        x4 = self.dropout4(x4)\n",
    "\n",
    "        x = torch.cat([x3, x4], 1)\n",
    "\n",
    "        x = self.dense5(x)\n",
    "\n",
    "        return x"
   ]
  },
  {
   "cell_type": "code",
   "execution_count": 52,
   "id": "63a52066",
   "metadata": {},
   "outputs": [],
   "source": [
    "# Define a custom dataset class\n",
    "class MyDataset(Dataset):\n",
    "    def __init__(self, X,y):\n",
    "        self.X = torch.tensor(X,dtype=torch.float32)\n",
    "        self.y = torch.tensor(y.to_numpy(),dtype=torch.int64)\n",
    "\n",
    "    def __getitem__(self, idx):\n",
    "        return self.X[idx],self.y[idx]\n",
    "\n",
    "    def __len__(self):\n",
    "        return len(self.y)\n",
    "    \n",
    "train_data = MyDataset(XX_train_processed, yy_train)\n",
    "\n",
    "class AverageMeter(object):\n",
    "    \"\"\"Computes and stores the average and current value\"\"\"\n",
    "\n",
    "    def __init__(self):\n",
    "        self.reset()\n",
    "\n",
    "    def reset(self):\n",
    "        self.val = 0\n",
    "        self.avg = 0\n",
    "        self.sum = 0\n",
    "        self.count = 0\n",
    "\n",
    "    def update(self, val, n=1):\n",
    "        self.val = val\n",
    "        self.sum += val * n\n",
    "        self.count += n\n",
    "        self.avg = self.sum / self.count\n",
    "\n",
    "\n",
    "def train(epoch, data_loader, model, optimizer, criterion,scheduler):\n",
    "    iter_time = AverageMeter()\n",
    "    losses = AverageMeter()\n",
    "    prc_auc = AverageMeter()\n",
    "    model.train()\n",
    "    for idx, (data, target) in enumerate(data_loader):\n",
    "\n",
    "        start = time.time()\n",
    "\n",
    "        out = model(data)\n",
    "        pred_proba = F.softmax(out,dim=1).detach().numpy()\n",
    "        loss = criterion(out, target)\n",
    "        optimizer.zero_grad()\n",
    "        loss.backward()\n",
    "        optimizer.step()\n",
    "        if scheduler:\n",
    "            scheduler.step()\n",
    "\n",
    "        ap = average_precision_score(target, pred_proba[:, 1])\n",
    "        prc_auc.update(ap,out.shape[0])\n",
    "        losses.update(loss.item(), out.shape[0])\n",
    "        iter_time.update(time.time() - start)\n",
    "        if idx % 100 == 0:\n",
    "            print(('Epoch: [{0}][{1}/{2}]\\t'\n",
    "                   'Time {iter_time.val:.3f} ({iter_time.avg:.3f})\\t'\n",
    "                   'Loss {loss.val:.4f} ({loss.avg:.4f})\\t'\n",
    "                  .format(epoch, idx, len(data_loader), iter_time=iter_time, loss=losses)))\n",
    "    return losses,prc_auc\n",
    "    \n",
    "            \n",
    "def validate(X, y, model, criterion):\n",
    "    X = torch.tensor(X,dtype=torch.float32)\n",
    "    y = torch.tensor(y.values,dtype=torch.int64)\n",
    "    model.eval()\n",
    "    with torch.no_grad():\n",
    "        out = model(X)\n",
    "        pred_proba = F.softmax(out,dim=1).detach().numpy()\n",
    "        loss = criterion(out, y)\n",
    "        ap = average_precision_score(y, pred_proba[:, 1])\n",
    "    return loss,ap"
   ]
  },
  {
   "cell_type": "code",
   "execution_count": 53,
   "id": "08037a42",
   "metadata": {},
   "outputs": [],
   "source": [
    "def reweight(cls_num_list, beta=0.9999):\n",
    "    \"\"\"\n",
    "    Implement reweighting by effective numbers\n",
    "    :param cls_num_list: a list containing # of samples of each class\n",
    "    :param beta: hyper-parameter for reweighting, see paper for more details\n",
    "    :return:\n",
    "    \"\"\"\n",
    "    unnormalized_weights = [(1-beta)/(1-beta**ny) for ny in cls_num_list]\n",
    "    per_cls_weights = [w/sum(unnormalized_weights)*len(cls_num_list) for w in unnormalized_weights]\n",
    "    per_cls_weights = torch.tensor(per_cls_weights)\n",
    "\n",
    "    return per_cls_weights\n",
    "\n",
    "\n",
    "class FocalLoss(nn.Module):\n",
    "    def __init__(self, weight=None, gamma=0.):\n",
    "        super(FocalLoss, self).__init__()\n",
    "        assert gamma >= 0\n",
    "        self.gamma = gamma\n",
    "        self.weight = weight\n",
    "\n",
    "    def forward(self, input, target):\n",
    "        \"\"\"\n",
    "        Implement forward of focal loss\n",
    "        :param input: input predictions\n",
    "        :param target: labels\n",
    "        :return: tensor of focal loss in scalar\n",
    "        \"\"\"\n",
    "        loss = None\n",
    "\n",
    "        # convert the target vector to a one hot encoding matrix (N,)=>(N, num_class)\n",
    "        N = len(target)\n",
    "        num_class = 2\n",
    "        target_mask = torch.zeros((N,num_class))\n",
    "        target_mask[range(N),target]=1\n",
    "        \n",
    "        input = F.softmax(input,dim=1)\n",
    "        pt = input*target_mask\n",
    "        pt = torch.max(pt,dim=1)[0]\n",
    "        loss = -(1-pt)**self.gamma*torch.log(pt)\n",
    "        if self.weight is not None:\n",
    "            loss *= self.weight[target]\n",
    "        loss = loss.sum()\n",
    "\n",
    "        return loss"
   ]
  },
  {
   "cell_type": "code",
   "execution_count": 58,
   "id": "0e98cd81",
   "metadata": {
    "scrolled": true
   },
   "outputs": [
    {
     "name": "stdout",
     "output_type": "stream",
     "text": [
      "Epoch: [0][0/385]\tTime 0.027 (0.027)\tLoss 71.3303 (71.3303)\t\n",
      "Epoch: [0][100/385]\tTime 0.017 (0.021)\tLoss 55.0013 (58.9168)\t\n",
      "Epoch: [0][200/385]\tTime 0.018 (0.019)\tLoss 49.4387 (55.9661)\t\n",
      "Epoch: [0][300/385]\tTime 0.014 (0.018)\tLoss 47.6618 (54.8579)\t\n",
      "Epoch: [1][0/385]\tTime 0.014 (0.014)\tLoss 52.0044 (52.0044)\t\n",
      "Epoch: [1][100/385]\tTime 0.020 (0.019)\tLoss 49.6106 (49.9946)\t\n",
      "Epoch: [1][200/385]\tTime 0.017 (0.019)\tLoss 47.9493 (50.1939)\t\n",
      "Epoch: [1][300/385]\tTime 0.019 (0.019)\tLoss 46.9061 (50.0545)\t\n",
      "Epoch: [2][0/385]\tTime 0.020 (0.020)\tLoss 45.9191 (45.9191)\t\n",
      "Epoch: [2][100/385]\tTime 0.019 (0.019)\tLoss 47.4002 (49.2015)\t\n",
      "Epoch: [2][200/385]\tTime 0.018 (0.021)\tLoss 58.2295 (49.0859)\t\n",
      "Epoch: [2][300/385]\tTime 0.018 (0.021)\tLoss 43.9995 (48.9189)\t\n",
      "Epoch: [3][0/385]\tTime 0.019 (0.019)\tLoss 49.5269 (49.5269)\t\n",
      "Epoch: [3][100/385]\tTime 0.021 (0.020)\tLoss 48.3446 (49.1366)\t\n",
      "Epoch: [3][200/385]\tTime 0.017 (0.019)\tLoss 42.4240 (48.9052)\t\n",
      "Epoch: [3][300/385]\tTime 0.015 (0.019)\tLoss 57.5748 (48.7640)\t\n",
      "Epoch: [4][0/385]\tTime 0.028 (0.028)\tLoss 42.3091 (42.3091)\t\n",
      "Epoch: [4][100/385]\tTime 0.015 (0.020)\tLoss 47.9466 (47.9266)\t\n",
      "Epoch: [4][200/385]\tTime 0.018 (0.019)\tLoss 56.4414 (47.9467)\t\n",
      "Epoch: [4][300/385]\tTime 0.017 (0.019)\tLoss 51.7139 (47.9963)\t\n",
      "Epoch: [5][0/385]\tTime 0.018 (0.018)\tLoss 53.5330 (53.5330)\t\n",
      "Epoch: [5][100/385]\tTime 0.020 (0.020)\tLoss 45.6414 (48.6308)\t\n",
      "Epoch: [5][200/385]\tTime 0.023 (0.021)\tLoss 58.3065 (48.1858)\t\n",
      "Epoch: [5][300/385]\tTime 0.025 (0.021)\tLoss 53.9738 (48.0098)\t\n",
      "Epoch: [6][0/385]\tTime 0.023 (0.023)\tLoss 51.9259 (51.9259)\t\n",
      "Epoch: [6][100/385]\tTime 0.025 (0.023)\tLoss 45.5074 (47.4588)\t\n",
      "Epoch: [6][200/385]\tTime 0.020 (0.022)\tLoss 50.8364 (47.9190)\t\n",
      "Epoch: [6][300/385]\tTime 0.028 (0.023)\tLoss 50.3653 (48.0497)\t\n",
      "Epoch: [7][0/385]\tTime 0.034 (0.034)\tLoss 48.5070 (48.5070)\t\n",
      "Epoch: [7][100/385]\tTime 0.022 (0.026)\tLoss 50.7330 (47.9345)\t\n",
      "Epoch: [7][200/385]\tTime 0.016 (0.024)\tLoss 47.1349 (47.8070)\t\n",
      "Epoch: [7][300/385]\tTime 0.031 (0.023)\tLoss 46.9604 (48.0027)\t\n",
      "Epoch: [8][0/385]\tTime 0.025 (0.025)\tLoss 44.4213 (44.4213)\t\n",
      "Epoch: [8][100/385]\tTime 0.021 (0.022)\tLoss 44.1628 (47.8830)\t\n",
      "Epoch: [8][200/385]\tTime 0.020 (0.022)\tLoss 50.7146 (47.6916)\t\n",
      "Epoch: [8][300/385]\tTime 0.016 (0.021)\tLoss 54.5760 (47.7143)\t\n",
      "Epoch: [9][0/385]\tTime 0.017 (0.017)\tLoss 49.4489 (49.4489)\t\n",
      "Epoch: [9][100/385]\tTime 0.017 (0.020)\tLoss 44.1208 (48.0564)\t\n",
      "Epoch: [9][200/385]\tTime 0.019 (0.019)\tLoss 47.9913 (47.7141)\t\n",
      "Epoch: [9][300/385]\tTime 0.020 (0.019)\tLoss 42.1029 (47.7541)\t\n",
      "Epoch: [10][0/385]\tTime 0.016 (0.016)\tLoss 42.1216 (42.1216)\t\n",
      "Epoch: [10][100/385]\tTime 0.027 (0.019)\tLoss 46.9433 (47.5283)\t\n",
      "Epoch: [10][200/385]\tTime 0.020 (0.019)\tLoss 47.8698 (47.7815)\t\n",
      "Epoch: [10][300/385]\tTime 0.018 (0.019)\tLoss 54.1870 (47.5195)\t\n",
      "Epoch: [11][0/385]\tTime 0.030 (0.030)\tLoss 42.0618 (42.0618)\t\n",
      "Epoch: [11][100/385]\tTime 0.023 (0.024)\tLoss 49.6884 (47.1140)\t\n",
      "Epoch: [11][200/385]\tTime 0.027 (0.023)\tLoss 48.1578 (47.5015)\t\n",
      "Epoch: [11][300/385]\tTime 0.024 (0.023)\tLoss 44.7865 (47.6292)\t\n",
      "Epoch: [12][0/385]\tTime 0.015 (0.015)\tLoss 43.3902 (43.3902)\t\n",
      "Epoch: [12][100/385]\tTime 0.018 (0.020)\tLoss 48.3154 (47.7456)\t\n",
      "Epoch: [12][200/385]\tTime 0.025 (0.020)\tLoss 48.1820 (47.7852)\t\n",
      "Epoch: [12][300/385]\tTime 0.019 (0.020)\tLoss 46.2758 (47.6487)\t\n",
      "Epoch: [13][0/385]\tTime 0.019 (0.019)\tLoss 42.1427 (42.1427)\t\n",
      "Epoch: [13][100/385]\tTime 0.017 (0.018)\tLoss 54.6554 (47.6343)\t\n",
      "Epoch: [13][200/385]\tTime 0.020 (0.018)\tLoss 49.4457 (47.7866)\t\n",
      "Epoch: [13][300/385]\tTime 0.017 (0.018)\tLoss 51.7834 (47.5708)\t\n",
      "Epoch: [14][0/385]\tTime 0.014 (0.014)\tLoss 46.8455 (46.8455)\t\n",
      "Epoch: [14][100/385]\tTime 0.017 (0.018)\tLoss 53.1193 (47.2847)\t\n",
      "Epoch: [14][200/385]\tTime 0.018 (0.018)\tLoss 45.9581 (47.4155)\t\n",
      "Epoch: [14][300/385]\tTime 0.023 (0.019)\tLoss 48.0703 (47.3906)\t\n",
      "Epoch: [15][0/385]\tTime 0.024 (0.024)\tLoss 43.0068 (43.0068)\t\n",
      "Epoch: [15][100/385]\tTime 0.022 (0.020)\tLoss 44.3164 (47.4754)\t\n",
      "Epoch: [15][200/385]\tTime 0.017 (0.020)\tLoss 51.3482 (47.5457)\t\n",
      "Epoch: [15][300/385]\tTime 0.018 (0.021)\tLoss 42.6024 (47.4284)\t\n",
      "Epoch: [16][0/385]\tTime 0.027 (0.027)\tLoss 47.3293 (47.3293)\t\n",
      "Epoch: [16][100/385]\tTime 0.026 (0.024)\tLoss 53.5564 (47.7359)\t\n",
      "Epoch: [16][200/385]\tTime 0.024 (0.023)\tLoss 50.1416 (47.3276)\t\n",
      "Epoch: [16][300/385]\tTime 0.021 (0.024)\tLoss 50.0465 (47.2640)\t\n",
      "Epoch: [17][0/385]\tTime 0.024 (0.024)\tLoss 50.0518 (50.0518)\t\n",
      "Epoch: [17][100/385]\tTime 0.034 (0.025)\tLoss 44.3408 (47.0417)\t\n",
      "Epoch: [17][200/385]\tTime 0.021 (0.028)\tLoss 43.6576 (47.1626)\t\n",
      "Epoch: [17][300/385]\tTime 0.022 (0.026)\tLoss 58.1446 (47.4120)\t\n",
      "Epoch: [18][0/385]\tTime 0.022 (0.022)\tLoss 49.8110 (49.8110)\t\n",
      "Epoch: [18][100/385]\tTime 0.016 (0.020)\tLoss 48.2340 (47.1722)\t\n",
      "Epoch: [18][200/385]\tTime 0.017 (0.019)\tLoss 45.0260 (47.2959)\t\n",
      "Epoch: [18][300/385]\tTime 0.016 (0.019)\tLoss 50.5487 (47.4047)\t\n",
      "Epoch: [19][0/385]\tTime 0.025 (0.025)\tLoss 50.7485 (50.7485)\t\n",
      "Epoch: [19][100/385]\tTime 0.025 (0.020)\tLoss 48.9138 (47.2773)\t\n",
      "Epoch: [19][200/385]\tTime 0.024 (0.021)\tLoss 43.0798 (47.4523)\t\n",
      "Epoch: [19][300/385]\tTime 0.021 (0.021)\tLoss 46.7168 (47.3453)\t\n",
      "Epoch: [20][0/385]\tTime 0.058 (0.058)\tLoss 43.9525 (43.9525)\t\n",
      "Epoch: [20][100/385]\tTime 0.019 (0.028)\tLoss 49.8054 (47.1415)\t\n",
      "Epoch: [20][200/385]\tTime 0.025 (0.025)\tLoss 46.5081 (47.1543)\t\n",
      "Epoch: [20][300/385]\tTime 0.022 (0.024)\tLoss 41.1129 (47.0549)\t\n",
      "Epoch: [21][0/385]\tTime 0.020 (0.020)\tLoss 49.0953 (49.0953)\t\n",
      "Epoch: [21][100/385]\tTime 0.026 (0.019)\tLoss 51.2251 (47.8043)\t\n",
      "Epoch: [21][200/385]\tTime 0.014 (0.019)\tLoss 47.7527 (47.4159)\t\n",
      "Epoch: [21][300/385]\tTime 0.017 (0.019)\tLoss 54.4123 (47.2344)\t\n",
      "Epoch: [22][0/385]\tTime 0.019 (0.019)\tLoss 39.4903 (39.4903)\t\n",
      "Epoch: [22][100/385]\tTime 0.018 (0.018)\tLoss 47.2322 (46.8003)\t\n",
      "Epoch: [22][200/385]\tTime 0.017 (0.018)\tLoss 43.5499 (46.9231)\t\n",
      "Epoch: [22][300/385]\tTime 0.025 (0.018)\tLoss 47.7734 (47.2290)\t\n",
      "Epoch: [23][0/385]\tTime 0.016 (0.016)\tLoss 45.5070 (45.5070)\t\n",
      "Epoch: [23][100/385]\tTime 0.014 (0.020)\tLoss 36.0900 (47.2004)\t\n",
      "Epoch: [23][200/385]\tTime 0.015 (0.019)\tLoss 38.7759 (47.1221)\t\n",
      "Epoch: [23][300/385]\tTime 0.023 (0.020)\tLoss 44.4185 (47.1039)\t\n",
      "Epoch: [24][0/385]\tTime 0.023 (0.023)\tLoss 48.6187 (48.6187)\t\n",
      "Epoch: [24][100/385]\tTime 0.028 (0.022)\tLoss 41.2335 (47.7214)\t\n",
      "Epoch: [24][200/385]\tTime 0.024 (0.022)\tLoss 51.6080 (47.2720)\t\n",
      "Epoch: [24][300/385]\tTime 0.022 (0.022)\tLoss 57.7433 (47.2337)\t\n",
      "Epoch: [25][0/385]\tTime 0.026 (0.026)\tLoss 47.6340 (47.6340)\t\n",
      "Epoch: [25][100/385]\tTime 0.016 (0.022)\tLoss 40.7182 (47.4356)\t\n",
      "Epoch: [25][200/385]\tTime 0.027 (0.022)\tLoss 52.5620 (47.2195)\t\n",
      "Epoch: [25][300/385]\tTime 0.021 (0.021)\tLoss 47.7877 (47.2725)\t\n",
      "Epoch: [26][0/385]\tTime 0.023 (0.023)\tLoss 46.6282 (46.6282)\t\n",
      "Epoch: [26][100/385]\tTime 0.023 (0.022)\tLoss 48.2362 (47.1561)\t\n",
      "Epoch: [26][200/385]\tTime 0.021 (0.025)\tLoss 50.3068 (47.0859)\t\n",
      "Epoch: [26][300/385]\tTime 0.019 (0.023)\tLoss 50.0873 (47.2147)\t\n",
      "Epoch: [27][0/385]\tTime 0.018 (0.018)\tLoss 52.2363 (52.2363)\t\n",
      "Epoch: [27][100/385]\tTime 0.018 (0.021)\tLoss 51.0504 (46.9382)\t\n",
      "Epoch: [27][200/385]\tTime 0.023 (0.020)\tLoss 41.0948 (47.1145)\t\n",
      "Epoch: [27][300/385]\tTime 0.017 (0.019)\tLoss 49.5783 (46.9424)\t\n",
      "Epoch: [28][0/385]\tTime 0.019 (0.019)\tLoss 43.6373 (43.6373)\t\n",
      "Epoch: [28][100/385]\tTime 0.021 (0.019)\tLoss 39.4836 (46.7636)\t\n",
      "Epoch: [28][200/385]\tTime 0.018 (0.019)\tLoss 53.1531 (46.7306)\t\n",
      "Epoch: [28][300/385]\tTime 0.019 (0.019)\tLoss 41.4134 (46.9253)\t\n",
      "Epoch: [29][0/385]\tTime 0.015 (0.015)\tLoss 47.2178 (47.2178)\t\n",
      "Epoch: [29][100/385]\tTime 0.021 (0.019)\tLoss 43.4304 (47.1226)\t\n",
      "Epoch: [29][200/385]\tTime 0.025 (0.020)\tLoss 50.7083 (46.9164)\t\n",
      "Epoch: [29][300/385]\tTime 0.015 (0.020)\tLoss 50.2637 (46.8620)\t\n",
      "Epoch: [30][0/385]\tTime 0.027 (0.027)\tLoss 56.4367 (56.4367)\t\n",
      "Epoch: [30][100/385]\tTime 0.021 (0.022)\tLoss 41.7371 (47.0047)\t\n",
      "Epoch: [30][200/385]\tTime 0.025 (0.023)\tLoss 42.4301 (46.9158)\t\n",
      "Epoch: [30][300/385]\tTime 0.019 (0.023)\tLoss 47.4465 (46.9320)\t\n",
      "Epoch: [31][0/385]\tTime 0.022 (0.022)\tLoss 46.8380 (46.8380)\t\n",
      "Epoch: [31][100/385]\tTime 0.027 (0.020)\tLoss 47.7295 (47.2437)\t\n",
      "Epoch: [31][200/385]\tTime 0.016 (0.020)\tLoss 42.4808 (46.8219)\t\n",
      "Epoch: [31][300/385]\tTime 0.016 (0.020)\tLoss 47.0708 (46.6867)\t\n",
      "Epoch: [32][0/385]\tTime 0.019 (0.019)\tLoss 48.2312 (48.2312)\t\n",
      "Epoch: [32][100/385]\tTime 0.021 (0.019)\tLoss 44.9618 (46.8285)\t\n"
     ]
    },
    {
     "name": "stdout",
     "output_type": "stream",
     "text": [
      "Epoch: [32][200/385]\tTime 0.024 (0.019)\tLoss 42.6723 (46.7191)\t\n",
      "Epoch: [32][300/385]\tTime 0.020 (0.019)\tLoss 48.7271 (46.8680)\t\n",
      "Epoch: [33][0/385]\tTime 0.021 (0.021)\tLoss 43.2686 (43.2686)\t\n",
      "Epoch: [33][100/385]\tTime 0.022 (0.021)\tLoss 41.6823 (47.1191)\t\n",
      "Epoch: [33][200/385]\tTime 0.023 (0.020)\tLoss 46.3804 (46.8556)\t\n",
      "Epoch: [33][300/385]\tTime 0.020 (0.020)\tLoss 44.6063 (46.6534)\t\n",
      "Epoch: [34][0/385]\tTime 0.039 (0.039)\tLoss 47.5720 (47.5720)\t\n",
      "Epoch: [34][100/385]\tTime 0.021 (0.021)\tLoss 48.1575 (47.1179)\t\n",
      "Epoch: [34][200/385]\tTime 0.029 (0.022)\tLoss 46.8394 (46.8657)\t\n",
      "Epoch: [34][300/385]\tTime 0.022 (0.022)\tLoss 45.9011 (46.6643)\t\n",
      "Epoch: [35][0/385]\tTime 0.018 (0.018)\tLoss 49.1660 (49.1660)\t\n",
      "Epoch: [35][100/385]\tTime 0.021 (0.022)\tLoss 40.1493 (46.8273)\t\n",
      "Epoch: [35][200/385]\tTime 0.034 (0.023)\tLoss 43.0813 (46.3393)\t\n",
      "Epoch: [35][300/385]\tTime 0.023 (0.023)\tLoss 48.6703 (46.3356)\t\n",
      "Epoch: [36][0/385]\tTime 0.020 (0.020)\tLoss 47.7162 (47.7162)\t\n",
      "Epoch: [36][100/385]\tTime 0.020 (0.021)\tLoss 52.9186 (46.1697)\t\n",
      "Epoch: [36][200/385]\tTime 0.025 (0.020)\tLoss 49.2016 (46.2851)\t\n",
      "Epoch: [36][300/385]\tTime 0.020 (0.020)\tLoss 45.2719 (46.6626)\t\n",
      "Epoch: [37][0/385]\tTime 0.019 (0.019)\tLoss 44.0889 (44.0889)\t\n",
      "Epoch: [37][100/385]\tTime 0.018 (0.019)\tLoss 52.5897 (46.8898)\t\n",
      "Epoch: [37][200/385]\tTime 0.017 (0.020)\tLoss 50.7579 (46.6209)\t\n",
      "Epoch: [37][300/385]\tTime 0.017 (0.019)\tLoss 41.5921 (46.4945)\t\n",
      "Epoch: [38][0/385]\tTime 0.017 (0.017)\tLoss 47.2690 (47.2690)\t\n",
      "Epoch: [38][100/385]\tTime 0.025 (0.020)\tLoss 41.3487 (46.5375)\t\n",
      "Epoch: [38][200/385]\tTime 0.016 (0.019)\tLoss 49.2914 (46.6465)\t\n",
      "Epoch: [38][300/385]\tTime 0.015 (0.020)\tLoss 44.3226 (46.7005)\t\n",
      "Epoch: [39][0/385]\tTime 0.022 (0.022)\tLoss 47.5362 (47.5362)\t\n",
      "Epoch: [39][100/385]\tTime 0.028 (0.023)\tLoss 46.9072 (46.2578)\t\n",
      "Epoch: [39][200/385]\tTime 0.023 (0.023)\tLoss 50.4359 (46.1213)\t\n",
      "Epoch: [39][300/385]\tTime 0.037 (0.023)\tLoss 51.0126 (46.2209)\t\n",
      "Epoch: [40][0/385]\tTime 0.028 (0.028)\tLoss 49.5945 (49.5945)\t\n",
      "Epoch: [40][100/385]\tTime 0.027 (0.021)\tLoss 48.8059 (45.9025)\t\n",
      "Epoch: [40][200/385]\tTime 0.018 (0.022)\tLoss 51.9623 (46.5441)\t\n",
      "Epoch: [40][300/385]\tTime 0.018 (0.021)\tLoss 43.4748 (46.5601)\t\n",
      "Epoch: [41][0/385]\tTime 0.025 (0.025)\tLoss 45.5828 (45.5828)\t\n",
      "Epoch: [41][100/385]\tTime 0.023 (0.020)\tLoss 47.7952 (46.5370)\t\n",
      "Epoch: [41][200/385]\tTime 0.022 (0.020)\tLoss 45.6902 (46.4881)\t\n",
      "Epoch: [41][300/385]\tTime 0.018 (0.019)\tLoss 49.6967 (46.6099)\t\n",
      "Epoch: [42][0/385]\tTime 0.015 (0.015)\tLoss 46.6056 (46.6056)\t\n",
      "Epoch: [42][100/385]\tTime 0.020 (0.019)\tLoss 51.5392 (46.4613)\t\n",
      "Epoch: [42][200/385]\tTime 0.023 (0.020)\tLoss 48.6626 (46.3742)\t\n",
      "Epoch: [42][300/385]\tTime 0.029 (0.020)\tLoss 39.1751 (46.1875)\t\n",
      "Epoch: [43][0/385]\tTime 0.021 (0.021)\tLoss 50.3082 (50.3082)\t\n",
      "Epoch: [43][100/385]\tTime 0.015 (0.019)\tLoss 55.4809 (47.2845)\t\n",
      "Epoch: [43][200/385]\tTime 0.018 (0.020)\tLoss 43.5602 (46.9545)\t\n",
      "Epoch: [43][300/385]\tTime 0.021 (0.020)\tLoss 46.7865 (46.6113)\t\n",
      "Epoch: [44][0/385]\tTime 0.016 (0.016)\tLoss 48.1659 (48.1659)\t\n",
      "Epoch: [44][100/385]\tTime 0.031 (0.022)\tLoss 50.2053 (46.8261)\t\n",
      "Epoch: [44][200/385]\tTime 0.031 (0.023)\tLoss 42.5517 (46.5178)\t\n",
      "Epoch: [44][300/385]\tTime 0.021 (0.024)\tLoss 46.0928 (46.4545)\t\n",
      "Epoch: [45][0/385]\tTime 0.022 (0.022)\tLoss 51.6964 (51.6964)\t\n",
      "Epoch: [45][100/385]\tTime 0.026 (0.025)\tLoss 48.4317 (46.0658)\t\n",
      "Epoch: [45][200/385]\tTime 0.023 (0.024)\tLoss 47.2840 (46.2804)\t\n",
      "Epoch: [45][300/385]\tTime 0.022 (0.022)\tLoss 39.9462 (46.3546)\t\n",
      "Epoch: [46][0/385]\tTime 0.015 (0.015)\tLoss 41.2830 (41.2830)\t\n",
      "Epoch: [46][100/385]\tTime 0.024 (0.019)\tLoss 52.3378 (45.7508)\t\n",
      "Epoch: [46][200/385]\tTime 0.022 (0.020)\tLoss 52.6455 (45.9451)\t\n",
      "Epoch: [46][300/385]\tTime 0.021 (0.020)\tLoss 54.0947 (46.1545)\t\n",
      "Epoch: [47][0/385]\tTime 0.022 (0.022)\tLoss 43.9117 (43.9117)\t\n",
      "Epoch: [47][100/385]\tTime 0.021 (0.021)\tLoss 46.2800 (45.6306)\t\n",
      "Epoch: [47][200/385]\tTime 0.019 (0.020)\tLoss 44.2271 (46.3955)\t\n",
      "Epoch: [47][300/385]\tTime 0.019 (0.020)\tLoss 48.5189 (46.1912)\t\n",
      "Epoch: [48][0/385]\tTime 0.028 (0.028)\tLoss 55.3346 (55.3346)\t\n",
      "Epoch: [48][100/385]\tTime 0.024 (0.025)\tLoss 46.3080 (45.7646)\t\n",
      "Epoch: [48][200/385]\tTime 0.023 (0.023)\tLoss 37.1625 (46.1167)\t\n",
      "Epoch: [48][300/385]\tTime 0.020 (0.023)\tLoss 41.1754 (46.1487)\t\n",
      "Epoch: [49][0/385]\tTime 0.022 (0.022)\tLoss 45.6612 (45.6612)\t\n",
      "Epoch: [49][100/385]\tTime 0.021 (0.022)\tLoss 51.5178 (45.7949)\t\n",
      "Epoch: [49][200/385]\tTime 0.029 (0.022)\tLoss 45.3457 (46.3082)\t\n",
      "Epoch: [49][300/385]\tTime 0.024 (0.022)\tLoss 50.0799 (46.0679)\t\n",
      "Epoch: [50][0/385]\tTime 0.023 (0.023)\tLoss 43.9261 (43.9261)\t\n",
      "Epoch: [50][100/385]\tTime 0.026 (0.021)\tLoss 52.8134 (46.7381)\t\n",
      "Epoch: [50][200/385]\tTime 0.020 (0.021)\tLoss 45.8429 (46.0705)\t\n",
      "Epoch: [50][300/385]\tTime 0.024 (0.021)\tLoss 54.0947 (46.1607)\t\n",
      "Epoch: [51][0/385]\tTime 0.021 (0.021)\tLoss 42.8710 (42.8710)\t\n",
      "Epoch: [51][100/385]\tTime 0.020 (0.019)\tLoss 49.7976 (46.5629)\t\n",
      "Epoch: [51][200/385]\tTime 0.022 (0.019)\tLoss 37.7157 (46.0701)\t\n",
      "Epoch: [51][300/385]\tTime 0.018 (0.019)\tLoss 47.8286 (46.1051)\t\n",
      "Epoch: [52][0/385]\tTime 0.021 (0.021)\tLoss 53.3516 (53.3516)\t\n",
      "Epoch: [52][100/385]\tTime 0.021 (0.019)\tLoss 47.5591 (46.0601)\t\n",
      "Epoch: [52][200/385]\tTime 0.016 (0.019)\tLoss 45.5767 (46.2664)\t\n",
      "Epoch: [52][300/385]\tTime 0.019 (0.019)\tLoss 42.5044 (45.9468)\t\n",
      "Epoch: [53][0/385]\tTime 0.021 (0.021)\tLoss 48.4187 (48.4187)\t\n",
      "Epoch: [53][100/385]\tTime 0.025 (0.022)\tLoss 51.9548 (45.7786)\t\n",
      "Epoch: [53][200/385]\tTime 0.023 (0.022)\tLoss 49.2487 (46.0529)\t\n",
      "Epoch: [53][300/385]\tTime 0.022 (0.022)\tLoss 47.7558 (46.1780)\t\n",
      "Epoch: [54][0/385]\tTime 0.027 (0.027)\tLoss 46.4338 (46.4338)\t\n",
      "Epoch: [54][100/385]\tTime 0.044 (0.026)\tLoss 46.4351 (45.1797)\t\n",
      "Epoch: [54][200/385]\tTime 0.029 (0.024)\tLoss 47.4635 (45.5073)\t\n",
      "Epoch: [54][300/385]\tTime 0.018 (0.023)\tLoss 42.1482 (45.7898)\t\n",
      "Epoch: [55][0/385]\tTime 0.016 (0.016)\tLoss 40.7915 (40.7915)\t\n",
      "Epoch: [55][100/385]\tTime 0.016 (0.019)\tLoss 40.4330 (45.9231)\t\n",
      "Epoch: [55][200/385]\tTime 0.020 (0.021)\tLoss 39.5478 (45.6713)\t\n",
      "Epoch: [55][300/385]\tTime 0.020 (0.020)\tLoss 44.5386 (45.7894)\t\n",
      "Epoch: [56][0/385]\tTime 0.016 (0.016)\tLoss 46.1782 (46.1782)\t\n",
      "Epoch: [56][100/385]\tTime 0.022 (0.021)\tLoss 43.6432 (45.8150)\t\n",
      "Epoch: [56][200/385]\tTime 0.018 (0.021)\tLoss 41.0196 (45.8607)\t\n",
      "Epoch: [56][300/385]\tTime 0.018 (0.021)\tLoss 40.9479 (45.7657)\t\n",
      "Epoch: [57][0/385]\tTime 0.023 (0.023)\tLoss 46.6392 (46.6392)\t\n",
      "Epoch: [57][100/385]\tTime 0.024 (0.023)\tLoss 42.5355 (46.1494)\t\n",
      "Epoch: [57][200/385]\tTime 0.020 (0.023)\tLoss 43.4889 (46.0602)\t\n",
      "Epoch: [57][300/385]\tTime 0.021 (0.022)\tLoss 58.9374 (46.0801)\t\n",
      "Epoch: [58][0/385]\tTime 0.021 (0.021)\tLoss 51.3090 (51.3090)\t\n",
      "Epoch: [58][100/385]\tTime 0.024 (0.023)\tLoss 43.5753 (46.0991)\t\n",
      "Epoch: [58][200/385]\tTime 0.021 (0.021)\tLoss 38.5846 (45.9950)\t\n",
      "Epoch: [58][300/385]\tTime 0.024 (0.020)\tLoss 40.4208 (45.9742)\t\n",
      "Epoch: [59][0/385]\tTime 0.026 (0.026)\tLoss 42.9085 (42.9085)\t\n",
      "Epoch: [59][100/385]\tTime 0.020 (0.024)\tLoss 43.6383 (45.7319)\t\n",
      "Epoch: [59][200/385]\tTime 0.018 (0.023)\tLoss 43.8064 (45.6585)\t\n",
      "Epoch: [59][300/385]\tTime 0.024 (0.022)\tLoss 48.1406 (45.7366)\t\n",
      "Epoch: [60][0/385]\tTime 0.017 (0.017)\tLoss 40.8780 (40.8780)\t\n",
      "Epoch: [60][100/385]\tTime 0.022 (0.019)\tLoss 55.5333 (45.6892)\t\n",
      "Epoch: [60][200/385]\tTime 0.021 (0.019)\tLoss 48.6039 (46.0543)\t\n",
      "Epoch: [60][300/385]\tTime 0.018 (0.021)\tLoss 53.6372 (45.8578)\t\n",
      "Epoch: [61][0/385]\tTime 0.019 (0.019)\tLoss 44.3338 (44.3338)\t\n",
      "Epoch: [61][100/385]\tTime 0.023 (0.023)\tLoss 47.3668 (45.5928)\t\n",
      "Epoch: [61][200/385]\tTime 0.024 (0.023)\tLoss 39.1828 (45.6407)\t\n",
      "Epoch: [61][300/385]\tTime 0.020 (0.023)\tLoss 48.3109 (45.6395)\t\n",
      "Epoch: [62][0/385]\tTime 0.020 (0.020)\tLoss 49.2300 (49.2300)\t\n",
      "Epoch: [62][100/385]\tTime 0.020 (0.022)\tLoss 47.2843 (46.0352)\t\n",
      "Epoch: [62][200/385]\tTime 0.014 (0.021)\tLoss 42.5447 (45.7028)\t\n",
      "Epoch: [62][300/385]\tTime 0.016 (0.020)\tLoss 45.2272 (45.9081)\t\n",
      "Epoch: [63][0/385]\tTime 0.018 (0.018)\tLoss 48.2528 (48.2528)\t\n",
      "Epoch: [63][100/385]\tTime 0.022 (0.019)\tLoss 49.0306 (45.9535)\t\n",
      "Epoch: [63][200/385]\tTime 0.035 (0.020)\tLoss 39.9430 (45.9479)\t\n",
      "Epoch: [63][300/385]\tTime 0.030 (0.022)\tLoss 42.9518 (45.6786)\t\n",
      "Epoch: [64][0/385]\tTime 0.020 (0.020)\tLoss 42.9158 (42.9158)\t\n",
      "Epoch: [64][100/385]\tTime 0.025 (0.022)\tLoss 42.1771 (45.6997)\t\n",
      "Epoch: [64][200/385]\tTime 0.017 (0.023)\tLoss 47.1861 (45.6355)\t\n",
      "Epoch: [64][300/385]\tTime 0.014 (0.023)\tLoss 45.9712 (45.6400)\t\n"
     ]
    },
    {
     "name": "stdout",
     "output_type": "stream",
     "text": [
      "Epoch: [65][0/385]\tTime 0.021 (0.021)\tLoss 44.3874 (44.3874)\t\n",
      "Epoch: [65][100/385]\tTime 0.024 (0.034)\tLoss 39.6710 (44.6598)\t\n",
      "Epoch: [65][200/385]\tTime 0.019 (0.033)\tLoss 48.9351 (45.3775)\t\n",
      "Epoch: [65][300/385]\tTime 0.066 (0.042)\tLoss 42.8744 (45.4060)\t\n",
      "Epoch: [66][0/385]\tTime 0.054 (0.054)\tLoss 40.8123 (40.8123)\t\n",
      "Epoch: [66][100/385]\tTime 0.026 (0.049)\tLoss 47.1871 (45.3270)\t\n",
      "Epoch: [66][200/385]\tTime 0.054 (0.044)\tLoss 37.5587 (45.3999)\t\n",
      "Epoch: [66][300/385]\tTime 0.048 (0.041)\tLoss 47.6929 (45.4352)\t\n",
      "Epoch: [67][0/385]\tTime 0.037 (0.037)\tLoss 46.7043 (46.7043)\t\n",
      "Epoch: [67][100/385]\tTime 0.016 (0.033)\tLoss 49.6865 (45.7420)\t\n",
      "Epoch: [67][200/385]\tTime 0.031 (0.029)\tLoss 43.4400 (45.3195)\t\n",
      "Epoch: [67][300/385]\tTime 0.028 (0.027)\tLoss 45.4119 (45.5001)\t\n",
      "Epoch: [68][0/385]\tTime 0.023 (0.023)\tLoss 38.6773 (38.6773)\t\n",
      "Epoch: [68][100/385]\tTime 0.026 (0.032)\tLoss 49.7618 (44.9854)\t\n",
      "Epoch: [68][200/385]\tTime 0.027 (0.033)\tLoss 46.3187 (45.1893)\t\n",
      "Epoch: [68][300/385]\tTime 0.043 (0.032)\tLoss 37.8040 (45.2114)\t\n",
      "Epoch: [69][0/385]\tTime 0.039 (0.039)\tLoss 48.9783 (48.9783)\t\n",
      "Epoch: [69][100/385]\tTime 0.050 (0.056)\tLoss 47.0428 (45.4136)\t\n",
      "Epoch: [69][200/385]\tTime 0.042 (0.052)\tLoss 41.8918 (45.2032)\t\n",
      "Epoch: [69][300/385]\tTime 0.040 (0.046)\tLoss 40.3277 (45.2593)\t\n",
      "Epoch: [70][0/385]\tTime 0.091 (0.091)\tLoss 38.6613 (38.6613)\t\n",
      "Epoch: [70][100/385]\tTime 0.042 (0.047)\tLoss 39.5084 (44.4406)\t\n",
      "Epoch: [70][200/385]\tTime 0.041 (0.042)\tLoss 44.3421 (44.7886)\t\n",
      "Epoch: [70][300/385]\tTime 0.034 (0.039)\tLoss 48.3400 (45.1671)\t\n",
      "Epoch: [71][0/385]\tTime 0.066 (0.066)\tLoss 47.4353 (47.4353)\t\n",
      "Epoch: [71][100/385]\tTime 0.024 (0.027)\tLoss 38.4880 (45.0761)\t\n",
      "Epoch: [71][200/385]\tTime 0.015 (0.024)\tLoss 48.5837 (45.0639)\t\n",
      "Epoch: [71][300/385]\tTime 0.018 (0.023)\tLoss 45.9695 (45.1663)\t\n",
      "Epoch: [72][0/385]\tTime 0.016 (0.016)\tLoss 42.6018 (42.6018)\t\n",
      "Epoch: [72][100/385]\tTime 0.016 (0.018)\tLoss 49.3582 (45.5249)\t\n",
      "Epoch: [72][200/385]\tTime 0.025 (0.019)\tLoss 48.2061 (45.4262)\t\n",
      "Epoch: [72][300/385]\tTime 0.014 (0.018)\tLoss 47.8198 (45.4210)\t\n",
      "Epoch: [73][0/385]\tTime 0.019 (0.019)\tLoss 45.4846 (45.4846)\t\n",
      "Epoch: [73][100/385]\tTime 0.024 (0.019)\tLoss 34.2458 (44.6153)\t\n",
      "Epoch: [73][200/385]\tTime 0.020 (0.019)\tLoss 49.5862 (44.9997)\t\n",
      "Epoch: [73][300/385]\tTime 0.018 (0.019)\tLoss 46.1215 (45.2048)\t\n",
      "Epoch: [74][0/385]\tTime 0.018 (0.018)\tLoss 42.5472 (42.5472)\t\n",
      "Epoch: [74][100/385]\tTime 0.023 (0.021)\tLoss 40.0398 (45.8333)\t\n",
      "Epoch: [74][200/385]\tTime 0.018 (0.021)\tLoss 43.9224 (45.5523)\t\n",
      "Epoch: [74][300/385]\tTime 0.020 (0.025)\tLoss 44.7105 (45.3798)\t\n",
      "Epoch: [75][0/385]\tTime 0.016 (0.016)\tLoss 41.6616 (41.6616)\t\n",
      "Epoch: [75][100/385]\tTime 0.019 (0.020)\tLoss 40.6485 (45.2006)\t\n",
      "Epoch: [75][200/385]\tTime 0.025 (0.020)\tLoss 43.7928 (45.0439)\t\n",
      "Epoch: [75][300/385]\tTime 0.021 (0.020)\tLoss 45.0719 (45.2919)\t\n",
      "Epoch: [76][0/385]\tTime 0.025 (0.025)\tLoss 43.1195 (43.1195)\t\n",
      "Epoch: [76][100/385]\tTime 0.018 (0.021)\tLoss 46.3625 (44.6989)\t\n",
      "Epoch: [76][200/385]\tTime 0.016 (0.021)\tLoss 47.6493 (44.8252)\t\n",
      "Epoch: [76][300/385]\tTime 0.023 (0.021)\tLoss 43.6535 (44.8175)\t\n",
      "Epoch: [77][0/385]\tTime 0.015 (0.015)\tLoss 46.4133 (46.4133)\t\n",
      "Epoch: [77][100/385]\tTime 0.015 (0.019)\tLoss 39.9380 (45.2699)\t\n",
      "Epoch: [77][200/385]\tTime 0.016 (0.020)\tLoss 43.1473 (45.1191)\t\n",
      "Epoch: [77][300/385]\tTime 0.027 (0.020)\tLoss 49.2913 (45.3368)\t\n",
      "Epoch: [78][0/385]\tTime 0.022 (0.022)\tLoss 47.8585 (47.8585)\t\n",
      "Epoch: [78][100/385]\tTime 0.022 (0.019)\tLoss 42.1678 (44.9104)\t\n",
      "Epoch: [78][200/385]\tTime 0.013 (0.019)\tLoss 44.8939 (45.0050)\t\n",
      "Epoch: [78][300/385]\tTime 0.022 (0.019)\tLoss 44.1773 (45.0869)\t\n",
      "Epoch: [79][0/385]\tTime 0.018 (0.018)\tLoss 50.4952 (50.4952)\t\n",
      "Epoch: [79][100/385]\tTime 0.017 (0.019)\tLoss 46.4836 (45.2795)\t\n",
      "Epoch: [79][200/385]\tTime 0.019 (0.020)\tLoss 41.1549 (45.0162)\t\n",
      "Epoch: [79][300/385]\tTime 0.020 (0.020)\tLoss 43.9488 (45.0539)\t\n",
      "Epoch: [80][0/385]\tTime 0.022 (0.022)\tLoss 51.9478 (51.9478)\t\n",
      "Epoch: [80][100/385]\tTime 0.044 (0.027)\tLoss 37.8045 (44.7777)\t\n",
      "Epoch: [80][200/385]\tTime 0.029 (0.027)\tLoss 43.2205 (44.7468)\t\n",
      "Epoch: [80][300/385]\tTime 0.016 (0.026)\tLoss 41.4278 (44.8276)\t\n",
      "Epoch: [81][0/385]\tTime 0.025 (0.025)\tLoss 47.4809 (47.4809)\t\n",
      "Epoch: [81][100/385]\tTime 0.018 (0.020)\tLoss 41.2373 (45.0017)\t\n",
      "Epoch: [81][200/385]\tTime 0.020 (0.019)\tLoss 45.8236 (45.0114)\t\n",
      "Epoch: [81][300/385]\tTime 0.019 (0.019)\tLoss 44.2156 (45.0208)\t\n",
      "Epoch: [82][0/385]\tTime 0.018 (0.018)\tLoss 41.7405 (41.7405)\t\n",
      "Epoch: [82][100/385]\tTime 0.020 (0.019)\tLoss 36.6865 (44.3124)\t\n",
      "Epoch: [82][200/385]\tTime 0.017 (0.019)\tLoss 47.8850 (44.9728)\t\n",
      "Epoch: [82][300/385]\tTime 0.025 (0.018)\tLoss 43.8992 (45.0425)\t\n",
      "Epoch: [83][0/385]\tTime 0.023 (0.023)\tLoss 40.1431 (40.1431)\t\n",
      "Epoch: [83][100/385]\tTime 0.021 (0.019)\tLoss 44.3310 (44.2836)\t\n",
      "Epoch: [83][200/385]\tTime 0.022 (0.019)\tLoss 40.4522 (44.4414)\t\n",
      "Epoch: [83][300/385]\tTime 0.021 (0.019)\tLoss 42.2004 (44.7686)\t\n",
      "Epoch: [84][0/385]\tTime 0.026 (0.026)\tLoss 43.7034 (43.7034)\t\n",
      "Epoch: [84][100/385]\tTime 0.021 (0.022)\tLoss 48.6741 (44.8558)\t\n",
      "Epoch: [84][200/385]\tTime 0.026 (0.023)\tLoss 46.9549 (44.7983)\t\n",
      "Epoch: [84][300/385]\tTime 0.019 (0.022)\tLoss 48.1778 (44.8075)\t\n",
      "Epoch: [85][0/385]\tTime 0.025 (0.025)\tLoss 40.8010 (40.8010)\t\n",
      "Epoch: [85][100/385]\tTime 0.019 (0.022)\tLoss 45.1415 (44.5023)\t\n",
      "Epoch: [85][200/385]\tTime 0.021 (0.022)\tLoss 51.7078 (44.6186)\t\n",
      "Epoch: [85][300/385]\tTime 0.019 (0.021)\tLoss 42.3517 (44.7053)\t\n",
      "Epoch: [86][0/385]\tTime 0.018 (0.018)\tLoss 38.5385 (38.5385)\t\n",
      "Epoch: [86][100/385]\tTime 0.019 (0.020)\tLoss 49.8553 (45.2020)\t\n",
      "Epoch: [86][200/385]\tTime 0.022 (0.020)\tLoss 50.0416 (45.2733)\t\n",
      "Epoch: [86][300/385]\tTime 0.014 (0.019)\tLoss 45.3359 (45.0495)\t\n",
      "Epoch: [87][0/385]\tTime 0.016 (0.016)\tLoss 47.9900 (47.9900)\t\n",
      "Epoch: [87][100/385]\tTime 0.015 (0.019)\tLoss 44.4967 (44.7103)\t\n",
      "Epoch: [87][200/385]\tTime 0.026 (0.019)\tLoss 51.2583 (44.7183)\t\n",
      "Epoch: [87][300/385]\tTime 0.023 (0.019)\tLoss 42.8699 (44.8949)\t\n",
      "Epoch: [88][0/385]\tTime 0.026 (0.026)\tLoss 43.9243 (43.9243)\t\n",
      "Epoch: [88][100/385]\tTime 0.017 (0.023)\tLoss 38.6899 (44.8763)\t\n",
      "Epoch: [88][200/385]\tTime 0.022 (0.022)\tLoss 43.9410 (44.7961)\t\n",
      "Epoch: [88][300/385]\tTime 0.022 (0.022)\tLoss 45.9392 (44.7161)\t\n",
      "Epoch: [89][0/385]\tTime 0.019 (0.019)\tLoss 41.2956 (41.2956)\t\n",
      "Epoch: [89][100/385]\tTime 0.018 (0.020)\tLoss 47.3969 (44.4490)\t\n",
      "Epoch: [89][200/385]\tTime 0.021 (0.020)\tLoss 50.4322 (44.5689)\t\n",
      "Epoch: [89][300/385]\tTime 0.018 (0.019)\tLoss 47.9703 (44.7071)\t\n",
      "Epoch: [90][0/385]\tTime 0.022 (0.022)\tLoss 43.9457 (43.9457)\t\n",
      "Epoch: [90][100/385]\tTime 0.036 (0.027)\tLoss 49.1915 (44.6684)\t\n",
      "Epoch: [90][200/385]\tTime 0.029 (0.028)\tLoss 43.9851 (44.8403)\t\n",
      "Epoch: [90][300/385]\tTime 0.032 (0.027)\tLoss 44.3772 (44.6932)\t\n",
      "Epoch: [91][0/385]\tTime 0.027 (0.027)\tLoss 48.7296 (48.7296)\t\n",
      "Epoch: [91][100/385]\tTime 0.018 (0.022)\tLoss 43.9077 (45.0454)\t\n",
      "Epoch: [91][200/385]\tTime 0.024 (0.021)\tLoss 39.9300 (44.9683)\t\n",
      "Epoch: [91][300/385]\tTime 0.020 (0.021)\tLoss 47.3968 (44.6280)\t\n",
      "Epoch: [92][0/385]\tTime 0.024 (0.024)\tLoss 48.7021 (48.7021)\t\n",
      "Epoch: [92][100/385]\tTime 0.020 (0.022)\tLoss 36.7999 (45.0314)\t\n",
      "Epoch: [92][200/385]\tTime 0.025 (0.022)\tLoss 40.6374 (44.6964)\t\n",
      "Epoch: [92][300/385]\tTime 0.026 (0.022)\tLoss 44.2874 (44.5292)\t\n",
      "Epoch: [93][0/385]\tTime 0.018 (0.018)\tLoss 43.1862 (43.1862)\t\n",
      "Epoch: [93][100/385]\tTime 0.022 (0.019)\tLoss 41.4261 (44.8100)\t\n",
      "Epoch: [93][200/385]\tTime 0.019 (0.020)\tLoss 51.1552 (44.6791)\t\n",
      "Epoch: [93][300/385]\tTime 0.019 (0.019)\tLoss 39.2995 (44.6681)\t\n",
      "Epoch: [94][0/385]\tTime 0.021 (0.021)\tLoss 43.0206 (43.0206)\t\n",
      "Epoch: [94][100/385]\tTime 0.026 (0.020)\tLoss 47.8494 (44.1943)\t\n",
      "Epoch: [94][200/385]\tTime 0.019 (0.019)\tLoss 40.7604 (44.1999)\t\n",
      "Epoch: [94][300/385]\tTime 0.022 (0.019)\tLoss 39.2049 (44.4832)\t\n",
      "Epoch: [95][0/385]\tTime 0.023 (0.023)\tLoss 44.1245 (44.1245)\t\n",
      "Epoch: [95][100/385]\tTime 0.016 (0.019)\tLoss 41.0069 (44.3725)\t\n",
      "Epoch: [95][200/385]\tTime 0.021 (0.018)\tLoss 45.3086 (44.4992)\t\n",
      "Epoch: [95][300/385]\tTime 0.023 (0.019)\tLoss 47.2054 (44.5101)\t\n",
      "Epoch: [96][0/385]\tTime 0.024 (0.024)\tLoss 48.2819 (48.2819)\t\n",
      "Epoch: [96][100/385]\tTime 0.021 (0.022)\tLoss 42.7279 (44.3970)\t\n",
      "Epoch: [96][200/385]\tTime 0.049 (0.023)\tLoss 50.0277 (44.6826)\t\n",
      "Epoch: [96][300/385]\tTime 0.019 (0.023)\tLoss 44.1137 (44.6123)\t\n",
      "Epoch: [97][0/385]\tTime 0.018 (0.018)\tLoss 38.2103 (38.2103)\t\n",
      "Epoch: [97][100/385]\tTime 0.025 (0.021)\tLoss 48.5716 (44.1791)\t\n"
     ]
    },
    {
     "name": "stdout",
     "output_type": "stream",
     "text": [
      "Epoch: [97][200/385]\tTime 0.024 (0.021)\tLoss 46.5279 (43.9318)\t\n",
      "Epoch: [97][300/385]\tTime 0.017 (0.020)\tLoss 44.2506 (44.1610)\t\n",
      "Epoch: [98][0/385]\tTime 0.026 (0.026)\tLoss 45.9789 (45.9789)\t\n",
      "Epoch: [98][100/385]\tTime 0.021 (0.020)\tLoss 44.5207 (44.4788)\t\n",
      "Epoch: [98][200/385]\tTime 0.017 (0.020)\tLoss 47.1436 (44.4973)\t\n",
      "Epoch: [98][300/385]\tTime 0.032 (0.019)\tLoss 49.7919 (44.6191)\t\n",
      "Epoch: [99][0/385]\tTime 0.016 (0.016)\tLoss 45.5979 (45.5979)\t\n",
      "Epoch: [99][100/385]\tTime 0.027 (0.034)\tLoss 34.0876 (44.7066)\t\n",
      "Epoch: [99][200/385]\tTime 0.024 (0.030)\tLoss 44.8721 (44.6335)\t\n",
      "Epoch: [99][300/385]\tTime 0.019 (0.027)\tLoss 44.3154 (44.4039)\t\n"
     ]
    }
   ],
   "source": [
    "BATCH_SIZE = 512\n",
    "INPUT_SIZE = XX_train_processed.shape[1]\n",
    "HIDDEN_SIZE = 128\n",
    "OUTPUT_SIZE = 2\n",
    "LR = 0.0002\n",
    "EPOCHS = 100\n",
    "DROPOUT_RATE = 0.5\n",
    "BETA = 0.999999\n",
    "GAMMA=1\n",
    "FOCAL_LOSS=True\n",
    "\n",
    "# Define the dataloader\n",
    "train_loader = DataLoader(train_data, batch_size=BATCH_SIZE, shuffle=True)\n",
    "\n",
    "# Define your model\n",
    "model = MLP(INPUT_SIZE, HIDDEN_SIZE, OUTPUT_SIZE, DROPOUT_RATE)\n",
    "\n",
    "# Define your loss function and optimizer\n",
    "criterion = nn.CrossEntropyLoss()\n",
    "optimizer = torch.optim.Adam(model.parameters(), lr=LR)\n",
    "scheduler = torch.optim.lr_scheduler.StepLR(optimizer, step_size=20, gamma=0.5)\n",
    "\n",
    "# class-balance Focal loss\n",
    "if FOCAL_LOSS:\n",
    "    cls_num_list = [(yy_train==0).sum(),(yy_train==1).sum()]\n",
    "    per_cls_weights = reweight(cls_num_list, beta=BETA)\n",
    "    criterion = FocalLoss(weight=per_cls_weights, gamma=GAMMA)\n",
    "\n",
    "\n",
    "# Train your model using the dataloader\n",
    "train_loss_history=[]\n",
    "val_loss_history=[]\n",
    "train_ap_history=[]\n",
    "val_ap_history=[]\n",
    "for epoch in range(EPOCHS):\n",
    "    train_loss,train_ap = train(epoch, train_loader, model, optimizer, criterion, None)\n",
    "    val_loss,val_ap = validate(XX_test_processed,yy_test, model, criterion)\n",
    "    train_loss_history.append(train_loss.avg)\n",
    "    val_loss_history.append(val_loss.item())\n",
    "    train_ap_history.append(train_ap.avg)\n",
    "    val_ap_history.append(val_ap)"
   ]
  },
  {
   "cell_type": "code",
   "execution_count": 59,
   "id": "11289089",
   "metadata": {},
   "outputs": [
    {
     "data": {
      "text/plain": [
       "Text(0, 0.5, 'PRC-AUC')"
      ]
     },
     "execution_count": 59,
     "metadata": {},
     "output_type": "execute_result"
    },
    {
     "data": {
      "image/png": "[encoded data removed]",
      "text/plain": [
       "<Figure size 640x480 with 1 Axes>"
      ]
     },
     "metadata": {},
     "output_type": "display_data"
    }
   ],
   "source": [
    "plt.figure()\n",
    "plt.plot(train_ap_history,label='train')\n",
    "plt.plot(val_ap_history,label='val')\n",
    "plt.legend()\n",
    "plt.xlabel('epoch')\n",
    "plt.ylabel('PRC-AUC')"
   ]
  },
  {
   "cell_type": "code",
   "execution_count": 102,
   "id": "43dca803",
   "metadata": {},
   "outputs": [
    {
     "data": {
      "text/plain": [
       "Text(0, 0.5, 'loss')"
      ]
     },
     "execution_count": 102,
     "metadata": {},
     "output_type": "execute_result"
    },
    {
     "data": {
      "image/png": "[encoded data removed]",
      "text/plain": [
       "<Figure size 640x480 with 1 Axes>"
      ]
     },
     "metadata": {},
     "output_type": "display_data"
    }
   ],
   "source": [
    "plt.figure()\n",
    "plt.plot(train_loss_history,label='train')\n",
    "plt.plot(val_loss_history,label='val')\n",
    "plt.legend()\n",
    "plt.xlabel('epoch')\n",
    "plt.ylabel('loss')"
   ]
  },
  {
   "cell_type": "code",
   "execution_count": 110,
   "id": "0cbb2c7e",
   "metadata": {},
   "outputs": [
    {
     "data": {
      "text/plain": [
       "(0.2154232401439194, 0.741004890189763, 0.6814763627494818, 0.5909212756082874)"
      ]
     },
     "execution_count": 110,
     "metadata": {},
     "output_type": "execute_result"
    }
   ],
   "source": [
    "def test(model, X, y):\n",
    "    X = torch.tensor(X,dtype=torch.float32)\n",
    "    y = torch.tensor(y.values,dtype=torch.int64)\n",
    "    model.eval()\n",
    "    with torch.no_grad():\n",
    "        out = model(X)\n",
    "        pred_proba = F.softmax(out,dim=1).detach().numpy()\n",
    "        pred = np.argmax(pred_proba,axis=1)\n",
    "    \n",
    "    return pred,pred_proba\n",
    "\n",
    "yy_pred,yy_pred_proba = test(model, XX_test_processed, yy_test)\n",
    "ap = average_precision_score(yy_test, yy_pred_proba[:, 1])\n",
    "roc = roc_auc_score(yy_test, yy_pred_proba[:, 1])\n",
    "acc = accuracy_score(yy_test, yy_pred)\n",
    "logloss = log_loss(yy_test, yy_pred_proba[:, 1])\n",
    "ap,roc,acc,logloss"
   ]
  },
  {
   "cell_type": "code",
   "execution_count": null,
   "id": "e3b96ff1",
   "metadata": {},
   "outputs": [],
   "source": []
  },
  {
   "cell_type": "code",
   "execution_count": null,
   "id": "c372ef83",
   "metadata": {},
   "outputs": [],
   "source": []
  },
  {
   "cell_type": "markdown",
   "id": "35c849a6",
   "metadata": {},
   "source": [
    "### EVALUATION"
   ]
  },
  {
   "cell_type": "code",
   "execution_count": 19,
   "id": "080b7347",
   "metadata": {},
   "outputs": [
    {
     "data": {
      "text/html": [
       "<style>#sk-container-id-1 {color: black;}#sk-container-id-1 pre{padding: 0;}#sk-container-id-1 div.sk-toggleable {background-color: white;}#sk-container-id-1 label.sk-toggleable__label {cursor: pointer;display: block;width: 100%;margin-bottom: 0;padding: 0.3em;box-sizing: border-box;text-align: center;}#sk-container-id-1 label.sk-toggleable__label-arrow:before {content: \"▸\";float: left;margin-right: 0.25em;color: #696969;}#sk-container-id-1 label.sk-toggleable__label-arrow:hover:before {color: black;}#sk-container-id-1 div.sk-estimator:hover label.sk-toggleable__label-arrow:before {color: black;}#sk-container-id-1 div.sk-toggleable__content {max-height: 0;max-width: 0;overflow: hidden;text-align: left;background-color: #f0f8ff;}#sk-container-id-1 div.sk-toggleable__content pre {margin: 0.2em;color: black;border-radius: 0.25em;background-color: #f0f8ff;}#sk-container-id-1 input.sk-toggleable__control:checked~div.sk-toggleable__content {max-height: 200px;max-width: 100%;overflow: auto;}#sk-container-id-1 input.sk-toggleable__control:checked~label.sk-toggleable__label-arrow:before {content: \"▾\";}#sk-container-id-1 div.sk-estimator input.sk-toggleable__control:checked~label.sk-toggleable__label {background-color: #d4ebff;}#sk-container-id-1 div.sk-label input.sk-toggleable__control:checked~label.sk-toggleable__label {background-color: #d4ebff;}#sk-container-id-1 input.sk-hidden--visually {border: 0;clip: rect(1px 1px 1px 1px);clip: rect(1px, 1px, 1px, 1px);height: 1px;margin: -1px;overflow: hidden;padding: 0;position: absolute;width: 1px;}#sk-container-id-1 div.sk-estimator {font-family: monospace;background-color: #f0f8ff;border: 1px dotted black;border-radius: 0.25em;box-sizing: border-box;margin-bottom: 0.5em;}#sk-container-id-1 div.sk-estimator:hover {background-color: #d4ebff;}#sk-container-id-1 div.sk-parallel-item::after {content: \"\";width: 100%;border-bottom: 1px solid gray;flex-grow: 1;}#sk-container-id-1 div.sk-label:hover label.sk-toggleable__label {background-color: #d4ebff;}#sk-container-id-1 div.sk-serial::before {content: \"\";position: absolute;border-left: 1px solid gray;box-sizing: border-box;top: 0;bottom: 0;left: 50%;z-index: 0;}#sk-container-id-1 div.sk-serial {display: flex;flex-direction: column;align-items: center;background-color: white;padding-right: 0.2em;padding-left: 0.2em;position: relative;}#sk-container-id-1 div.sk-item {position: relative;z-index: 1;}#sk-container-id-1 div.sk-parallel {display: flex;align-items: stretch;justify-content: center;background-color: white;position: relative;}#sk-container-id-1 div.sk-item::before, #sk-container-id-1 div.sk-parallel-item::before {content: \"\";position: absolute;border-left: 1px solid gray;box-sizing: border-box;top: 0;bottom: 0;left: 50%;z-index: -1;}#sk-container-id-1 div.sk-parallel-item {display: flex;flex-direction: column;z-index: 1;position: relative;background-color: white;}#sk-container-id-1 div.sk-parallel-item:first-child::after {align-self: flex-end;width: 50%;}#sk-container-id-1 div.sk-parallel-item:last-child::after {align-self: flex-start;width: 50%;}#sk-container-id-1 div.sk-parallel-item:only-child::after {width: 0;}#sk-container-id-1 div.sk-dashed-wrapped {border: 1px dashed gray;margin: 0 0.4em 0.5em 0.4em;box-sizing: border-box;padding-bottom: 0.4em;background-color: white;}#sk-container-id-1 div.sk-label label {font-family: monospace;font-weight: bold;display: inline-block;line-height: 1.2em;}#sk-container-id-1 div.sk-label-container {text-align: center;}#sk-container-id-1 div.sk-container {/* jupyter's `normalize.less` sets `[hidden] { display: none; }` but bootstrap.min.css set `[hidden] { display: none !important; }` so we also need the `!important` here to be able to override the default hidden behavior on the sphinx rendered scikit-learn.org. See: https://github.com/scikit-learn/scikit-learn/issues/21755 */display: inline-block !important;position: relative;}#sk-container-id-1 div.sk-text-repr-fallback {display: none;}</style><div id=\"sk-container-id-1\" class=\"sk-top-container\"><div class=\"sk-text-repr-fallback\"><pre>Pipeline(steps=[(&#x27;preprocessor&#x27;,\n",
       "                 ColumnTransformer(transformers=[(&#x27;num&#x27;,\n",
       "                                                  Pipeline(steps=[(&#x27;imputer&#x27;,\n",
       "                                                                   SimpleImputer(add_indicator=True,\n",
       "                                                                                 strategy=&#x27;median&#x27;))]),\n",
       "                                                  [&#x27;CNT_CHILDREN&#x27;,\n",
       "                                                   &#x27;AMT_INCOME_TOTAL&#x27;,\n",
       "                                                   &#x27;AMT_CREDIT&#x27;, &#x27;AMT_ANNUITY&#x27;,\n",
       "                                                   &#x27;AMT_GOODS_PRICE&#x27;,\n",
       "                                                   &#x27;REGION_POPULATION_RELATIVE&#x27;,\n",
       "                                                   &#x27;DAYS_BIRTH&#x27;,\n",
       "                                                   &#x27;DAYS_EMPLOYED&#x27;,\n",
       "                                                   &#x27;DAYS_REGISTRATION&#x27;,\n",
       "                                                   &#x27;DAYS_ID_PUBLISH&#x27;,\n",
       "                                                   &#x27;CNT_FAM_MEMBERS&#x27;,\n",
       "                                                   &#x27;RE...\n",
       "                                                   &#x27;FLAG_DOCUMENT_11&#x27;,\n",
       "                                                   &#x27;FLAG_DOCUMENT_12&#x27;,\n",
       "                                                   &#x27;FLAG_DOCUMENT_13&#x27;,\n",
       "                                                   &#x27;FLAG_DOCUMENT_14&#x27;,\n",
       "                                                   &#x27;FLAG_DOCUMENT_15&#x27;,\n",
       "                                                   &#x27;FLAG_DOCUMENT_16&#x27;,\n",
       "                                                   &#x27;FLAG_DOCUMENT_17&#x27;,\n",
       "                                                   &#x27;FLAG_DOCUMENT_18&#x27;,\n",
       "                                                   &#x27;FLAG_DOCUMENT_19&#x27;, ...])])),\n",
       "                (&#x27;smote&#x27;, SMOTE(random_state=42)),\n",
       "                (&#x27;classifier&#x27;,\n",
       "                 RandomForestClassifier(ccp_alpha=98.83414154382557,\n",
       "                                        class_weight=&#x27;balanced&#x27;, max_depth=10,\n",
       "                                        min_samples_leaf=7, n_jobs=-1,\n",
       "                                        random_state=42))])</pre><b>In a Jupyter environment, please rerun this cell to show the HTML representation or trust the notebook. <br />On GitHub, the HTML representation is unable to render, please try loading this page with nbviewer.org.</b></div><div class=\"sk-container\" hidden><div class=\"sk-item sk-dashed-wrapped\"><div class=\"sk-label-container\"><div class=\"sk-label sk-toggleable\"><input class=\"sk-toggleable__control sk-hidden--visually\" id=\"sk-estimator-id-1\" type=\"checkbox\" ><label for=\"sk-estimator-id-1\" class=\"sk-toggleable__label sk-toggleable__label-arrow\">Pipeline</label><div class=\"sk-toggleable__content\"><pre>Pipeline(steps=[(&#x27;preprocessor&#x27;,\n",
       "                 ColumnTransformer(transformers=[(&#x27;num&#x27;,\n",
       "                                                  Pipeline(steps=[(&#x27;imputer&#x27;,\n",
       "                                                                   SimpleImputer(add_indicator=True,\n",
       "                                                                                 strategy=&#x27;median&#x27;))]),\n",
       "                                                  [&#x27;CNT_CHILDREN&#x27;,\n",
       "                                                   &#x27;AMT_INCOME_TOTAL&#x27;,\n",
       "                                                   &#x27;AMT_CREDIT&#x27;, &#x27;AMT_ANNUITY&#x27;,\n",
       "                                                   &#x27;AMT_GOODS_PRICE&#x27;,\n",
       "                                                   &#x27;REGION_POPULATION_RELATIVE&#x27;,\n",
       "                                                   &#x27;DAYS_BIRTH&#x27;,\n",
       "                                                   &#x27;DAYS_EMPLOYED&#x27;,\n",
       "                                                   &#x27;DAYS_REGISTRATION&#x27;,\n",
       "                                                   &#x27;DAYS_ID_PUBLISH&#x27;,\n",
       "                                                   &#x27;CNT_FAM_MEMBERS&#x27;,\n",
       "                                                   &#x27;RE...\n",
       "                                                   &#x27;FLAG_DOCUMENT_11&#x27;,\n",
       "                                                   &#x27;FLAG_DOCUMENT_12&#x27;,\n",
       "                                                   &#x27;FLAG_DOCUMENT_13&#x27;,\n",
       "                                                   &#x27;FLAG_DOCUMENT_14&#x27;,\n",
       "                                                   &#x27;FLAG_DOCUMENT_15&#x27;,\n",
       "                                                   &#x27;FLAG_DOCUMENT_16&#x27;,\n",
       "                                                   &#x27;FLAG_DOCUMENT_17&#x27;,\n",
       "                                                   &#x27;FLAG_DOCUMENT_18&#x27;,\n",
       "                                                   &#x27;FLAG_DOCUMENT_19&#x27;, ...])])),\n",
       "                (&#x27;smote&#x27;, SMOTE(random_state=42)),\n",
       "                (&#x27;classifier&#x27;,\n",
       "                 RandomForestClassifier(ccp_alpha=98.83414154382557,\n",
       "                                        class_weight=&#x27;balanced&#x27;, max_depth=10,\n",
       "                                        min_samples_leaf=7, n_jobs=-1,\n",
       "                                        random_state=42))])</pre></div></div></div><div class=\"sk-serial\"><div class=\"sk-item sk-dashed-wrapped\"><div class=\"sk-label-container\"><div class=\"sk-label sk-toggleable\"><input class=\"sk-toggleable__control sk-hidden--visually\" id=\"sk-estimator-id-2\" type=\"checkbox\" ><label for=\"sk-estimator-id-2\" class=\"sk-toggleable__label sk-toggleable__label-arrow\">preprocessor: ColumnTransformer</label><div class=\"sk-toggleable__content\"><pre>ColumnTransformer(transformers=[(&#x27;num&#x27;,\n",
       "                                 Pipeline(steps=[(&#x27;imputer&#x27;,\n",
       "                                                  SimpleImputer(add_indicator=True,\n",
       "                                                                strategy=&#x27;median&#x27;))]),\n",
       "                                 [&#x27;CNT_CHILDREN&#x27;, &#x27;AMT_INCOME_TOTAL&#x27;,\n",
       "                                  &#x27;AMT_CREDIT&#x27;, &#x27;AMT_ANNUITY&#x27;,\n",
       "                                  &#x27;AMT_GOODS_PRICE&#x27;,\n",
       "                                  &#x27;REGION_POPULATION_RELATIVE&#x27;, &#x27;DAYS_BIRTH&#x27;,\n",
       "                                  &#x27;DAYS_EMPLOYED&#x27;, &#x27;DAYS_REGISTRATION&#x27;,\n",
       "                                  &#x27;DAYS_ID_PUBLISH&#x27;, &#x27;CNT_FAM_MEMBERS&#x27;,\n",
       "                                  &#x27;REGION_RATING_CLIENT&#x27;,\n",
       "                                  &#x27;REGION_RATI...\n",
       "                                  &#x27;LIVE_CITY_NOT_WORK_CITY&#x27;, &#x27;FLAG_DOCUMENT_2&#x27;,\n",
       "                                  &#x27;FLAG_DOCUMENT_3&#x27;, &#x27;FLAG_DOCUMENT_4&#x27;,\n",
       "                                  &#x27;FLAG_DOCUMENT_5&#x27;, &#x27;FLAG_DOCUMENT_6&#x27;,\n",
       "                                  &#x27;FLAG_DOCUMENT_7&#x27;, &#x27;FLAG_DOCUMENT_8&#x27;,\n",
       "                                  &#x27;FLAG_DOCUMENT_9&#x27;, &#x27;FLAG_DOCUMENT_10&#x27;,\n",
       "                                  &#x27;FLAG_DOCUMENT_11&#x27;, &#x27;FLAG_DOCUMENT_12&#x27;,\n",
       "                                  &#x27;FLAG_DOCUMENT_13&#x27;, &#x27;FLAG_DOCUMENT_14&#x27;,\n",
       "                                  &#x27;FLAG_DOCUMENT_15&#x27;, &#x27;FLAG_DOCUMENT_16&#x27;,\n",
       "                                  &#x27;FLAG_DOCUMENT_17&#x27;, &#x27;FLAG_DOCUMENT_18&#x27;,\n",
       "                                  &#x27;FLAG_DOCUMENT_19&#x27;, ...])])</pre></div></div></div><div class=\"sk-parallel\"><div class=\"sk-parallel-item\"><div class=\"sk-item\"><div class=\"sk-label-container\"><div class=\"sk-label sk-toggleable\"><input class=\"sk-toggleable__control sk-hidden--visually\" id=\"sk-estimator-id-3\" type=\"checkbox\" ><label for=\"sk-estimator-id-3\" class=\"sk-toggleable__label sk-toggleable__label-arrow\">num</label><div class=\"sk-toggleable__content\"><pre>[&#x27;CNT_CHILDREN&#x27;, &#x27;AMT_INCOME_TOTAL&#x27;, &#x27;AMT_CREDIT&#x27;, &#x27;AMT_ANNUITY&#x27;, &#x27;AMT_GOODS_PRICE&#x27;, &#x27;REGION_POPULATION_RELATIVE&#x27;, &#x27;DAYS_BIRTH&#x27;, &#x27;DAYS_EMPLOYED&#x27;, &#x27;DAYS_REGISTRATION&#x27;, &#x27;DAYS_ID_PUBLISH&#x27;, &#x27;CNT_FAM_MEMBERS&#x27;, &#x27;REGION_RATING_CLIENT&#x27;, &#x27;REGION_RATING_CLIENT_W_CITY&#x27;, &#x27;EXT_SOURCE_2&#x27;, &#x27;EXT_SOURCE_3&#x27;, &#x27;DAYS_LAST_PHONE_CHANGE&#x27;, &#x27;OBS_30_CNT_SOCIAL_CIRCLE&#x27;, &#x27;DEF_30_CNT_SOCIAL_CIRCLE&#x27;, &#x27;OBS_60_CNT_SOCIAL_CIRCLE&#x27;, &#x27;DEF_60_CNT_SOCIAL_CIRCLE&#x27;, &#x27;AMT_REQ_CREDIT_BUREAU_HOUR&#x27;, &#x27;AMT_REQ_CREDIT_BUREAU_DAY&#x27;, &#x27;AMT_REQ_CREDIT_BUREAU_WEEK&#x27;, &#x27;AMT_REQ_CREDIT_BUREAU_MON&#x27;, &#x27;AMT_REQ_CREDIT_BUREAU_QRT&#x27;, &#x27;AMT_REQ_CREDIT_BUREAU_YEAR&#x27;]</pre></div></div></div><div class=\"sk-serial\"><div class=\"sk-item\"><div class=\"sk-serial\"><div class=\"sk-item\"><div class=\"sk-estimator sk-toggleable\"><input class=\"sk-toggleable__control sk-hidden--visually\" id=\"sk-estimator-id-4\" type=\"checkbox\" ><label for=\"sk-estimator-id-4\" class=\"sk-toggleable__label sk-toggleable__label-arrow\">SimpleImputer</label><div class=\"sk-toggleable__content\"><pre>SimpleImputer(add_indicator=True, strategy=&#x27;median&#x27;)</pre></div></div></div></div></div></div></div></div><div class=\"sk-parallel-item\"><div class=\"sk-item\"><div class=\"sk-label-container\"><div class=\"sk-label sk-toggleable\"><input class=\"sk-toggleable__control sk-hidden--visually\" id=\"sk-estimator-id-5\" type=\"checkbox\" ><label for=\"sk-estimator-id-5\" class=\"sk-toggleable__label sk-toggleable__label-arrow\">cat</label><div class=\"sk-toggleable__content\"><pre>[&#x27;NAME_CONTRACT_TYPE&#x27;, &#x27;CODE_GENDER&#x27;, &#x27;FLAG_OWN_CAR&#x27;, &#x27;FLAG_OWN_REALTY&#x27;, &#x27;NAME_TYPE_SUITE&#x27;, &#x27;NAME_INCOME_TYPE&#x27;, &#x27;NAME_EDUCATION_TYPE&#x27;, &#x27;NAME_FAMILY_STATUS&#x27;, &#x27;NAME_HOUSING_TYPE&#x27;, &#x27;OCCUPATION_TYPE&#x27;, &#x27;WEEKDAY_APPR_PROCESS_START&#x27;, &#x27;HOUR_APPR_PROCESS_START&#x27;, &#x27;ORGANIZATION_TYPE&#x27;]</pre></div></div></div><div class=\"sk-serial\"><div class=\"sk-item\"><div class=\"sk-serial\"><div class=\"sk-item\"><div class=\"sk-estimator sk-toggleable\"><input class=\"sk-toggleable__control sk-hidden--visually\" id=\"sk-estimator-id-6\" type=\"checkbox\" ><label for=\"sk-estimator-id-6\" class=\"sk-toggleable__label sk-toggleable__label-arrow\">OrdinalEncoder</label><div class=\"sk-toggleable__content\"><pre>OrdinalEncoder(handle_unknown=&#x27;use_encoded_value&#x27;, max_categories=10,\n",
       "               unknown_value=-1)</pre></div></div></div></div></div></div></div></div><div class=\"sk-parallel-item\"><div class=\"sk-item\"><div class=\"sk-label-container\"><div class=\"sk-label sk-toggleable\"><input class=\"sk-toggleable__control sk-hidden--visually\" id=\"sk-estimator-id-7\" type=\"checkbox\" ><label for=\"sk-estimator-id-7\" class=\"sk-toggleable__label sk-toggleable__label-arrow\">binary</label><div class=\"sk-toggleable__content\"><pre>[&#x27;FLAG_MOBIL&#x27;, &#x27;FLAG_EMP_PHONE&#x27;, &#x27;FLAG_WORK_PHONE&#x27;, &#x27;FLAG_CONT_MOBILE&#x27;, &#x27;FLAG_PHONE&#x27;, &#x27;FLAG_EMAIL&#x27;, &#x27;REG_REGION_NOT_LIVE_REGION&#x27;, &#x27;REG_REGION_NOT_WORK_REGION&#x27;, &#x27;LIVE_REGION_NOT_WORK_REGION&#x27;, &#x27;REG_CITY_NOT_LIVE_CITY&#x27;, &#x27;REG_CITY_NOT_WORK_CITY&#x27;, &#x27;LIVE_CITY_NOT_WORK_CITY&#x27;, &#x27;FLAG_DOCUMENT_2&#x27;, &#x27;FLAG_DOCUMENT_3&#x27;, &#x27;FLAG_DOCUMENT_4&#x27;, &#x27;FLAG_DOCUMENT_5&#x27;, &#x27;FLAG_DOCUMENT_6&#x27;, &#x27;FLAG_DOCUMENT_7&#x27;, &#x27;FLAG_DOCUMENT_8&#x27;, &#x27;FLAG_DOCUMENT_9&#x27;, &#x27;FLAG_DOCUMENT_10&#x27;, &#x27;FLAG_DOCUMENT_11&#x27;, &#x27;FLAG_DOCUMENT_12&#x27;, &#x27;FLAG_DOCUMENT_13&#x27;, &#x27;FLAG_DOCUMENT_14&#x27;, &#x27;FLAG_DOCUMENT_15&#x27;, &#x27;FLAG_DOCUMENT_16&#x27;, &#x27;FLAG_DOCUMENT_17&#x27;, &#x27;FLAG_DOCUMENT_18&#x27;, &#x27;FLAG_DOCUMENT_19&#x27;, &#x27;FLAG_DOCUMENT_20&#x27;, &#x27;FLAG_DOCUMENT_21&#x27;]</pre></div></div></div><div class=\"sk-serial\"><div class=\"sk-item\"><div class=\"sk-serial\"><div class=\"sk-item\"><div class=\"sk-estimator sk-toggleable\"><input class=\"sk-toggleable__control sk-hidden--visually\" id=\"sk-estimator-id-8\" type=\"checkbox\" ><label for=\"sk-estimator-id-8\" class=\"sk-toggleable__label sk-toggleable__label-arrow\">passthrough</label><div class=\"sk-toggleable__content\"><pre>passthrough</pre></div></div></div></div></div></div></div></div></div></div><div class=\"sk-item\"><div class=\"sk-estimator sk-toggleable\"><input class=\"sk-toggleable__control sk-hidden--visually\" id=\"sk-estimator-id-9\" type=\"checkbox\" ><label for=\"sk-estimator-id-9\" class=\"sk-toggleable__label sk-toggleable__label-arrow\">SMOTE</label><div class=\"sk-toggleable__content\"><pre>SMOTE(random_state=42)</pre></div></div></div><div class=\"sk-item\"><div class=\"sk-estimator sk-toggleable\"><input class=\"sk-toggleable__control sk-hidden--visually\" id=\"sk-estimator-id-10\" type=\"checkbox\" ><label for=\"sk-estimator-id-10\" class=\"sk-toggleable__label sk-toggleable__label-arrow\">RandomForestClassifier</label><div class=\"sk-toggleable__content\"><pre>RandomForestClassifier(ccp_alpha=98.83414154382557, class_weight=&#x27;balanced&#x27;,\n",
       "                       max_depth=10, min_samples_leaf=7, n_jobs=-1,\n",
       "                       random_state=42)</pre></div></div></div></div></div></div></div>"
      ],
      "text/plain": [
       "Pipeline(steps=[('preprocessor',\n",
       "                 ColumnTransformer(transformers=[('num',\n",
       "                                                  Pipeline(steps=[('imputer',\n",
       "                                                                   SimpleImputer(add_indicator=True,\n",
       "                                                                                 strategy='median'))]),\n",
       "                                                  ['CNT_CHILDREN',\n",
       "                                                   'AMT_INCOME_TOTAL',\n",
       "                                                   'AMT_CREDIT', 'AMT_ANNUITY',\n",
       "                                                   'AMT_GOODS_PRICE',\n",
       "                                                   'REGION_POPULATION_RELATIVE',\n",
       "                                                   'DAYS_BIRTH',\n",
       "                                                   'DAYS_EMPLOYED',\n",
       "                                                   'DAYS_REGISTRATION',\n",
       "                                                   'DAYS_ID_PUBLISH',\n",
       "                                                   'CNT_FAM_MEMBERS',\n",
       "                                                   'RE...\n",
       "                                                   'FLAG_DOCUMENT_11',\n",
       "                                                   'FLAG_DOCUMENT_12',\n",
       "                                                   'FLAG_DOCUMENT_13',\n",
       "                                                   'FLAG_DOCUMENT_14',\n",
       "                                                   'FLAG_DOCUMENT_15',\n",
       "                                                   'FLAG_DOCUMENT_16',\n",
       "                                                   'FLAG_DOCUMENT_17',\n",
       "                                                   'FLAG_DOCUMENT_18',\n",
       "                                                   'FLAG_DOCUMENT_19', ...])])),\n",
       "                ('smote', SMOTE(random_state=42)),\n",
       "                ('classifier',\n",
       "                 RandomForestClassifier(ccp_alpha=98.83414154382557,\n",
       "                                        class_weight='balanced', max_depth=10,\n",
       "                                        min_samples_leaf=7, n_jobs=-1,\n",
       "                                        random_state=42))])"
      ]
     },
     "execution_count": 19,
     "metadata": {},
     "output_type": "execute_result"
    }
   ],
   "source": [
    "pipe = Pipeline(steps=[(\"preprocessor\",preprocessor),\n",
    "                       (\"smote\",SMOTE(random_state=42)),\n",
    "                      ('classifier', RandomForestClassifier(random_state=42,n_jobs=-1,\n",
    "                                                         class_weight='balanced'))])\n",
    "pipe.set_params(**space_eval(param,result)) "
   ]
  },
  {
   "cell_type": "code",
   "execution_count": 260,
   "id": "a61d9d94",
   "metadata": {},
   "outputs": [
    {
     "data": {
      "text/html": [
       "<style>#sk-container-id-17 {color: black;}#sk-container-id-17 pre{padding: 0;}#sk-container-id-17 div.sk-toggleable {background-color: white;}#sk-container-id-17 label.sk-toggleable__label {cursor: pointer;display: block;width: 100%;margin-bottom: 0;padding: 0.3em;box-sizing: border-box;text-align: center;}#sk-container-id-17 label.sk-toggleable__label-arrow:before {content: \"▸\";float: left;margin-right: 0.25em;color: #696969;}#sk-container-id-17 label.sk-toggleable__label-arrow:hover:before {color: black;}#sk-container-id-17 div.sk-estimator:hover label.sk-toggleable__label-arrow:before {color: black;}#sk-container-id-17 div.sk-toggleable__content {max-height: 0;max-width: 0;overflow: hidden;text-align: left;background-color: #f0f8ff;}#sk-container-id-17 div.sk-toggleable__content pre {margin: 0.2em;color: black;border-radius: 0.25em;background-color: #f0f8ff;}#sk-container-id-17 input.sk-toggleable__control:checked~div.sk-toggleable__content {max-height: 200px;max-width: 100%;overflow: auto;}#sk-container-id-17 input.sk-toggleable__control:checked~label.sk-toggleable__label-arrow:before {content: \"▾\";}#sk-container-id-17 div.sk-estimator input.sk-toggleable__control:checked~label.sk-toggleable__label {background-color: #d4ebff;}#sk-container-id-17 div.sk-label input.sk-toggleable__control:checked~label.sk-toggleable__label {background-color: #d4ebff;}#sk-container-id-17 input.sk-hidden--visually {border: 0;clip: rect(1px 1px 1px 1px);clip: rect(1px, 1px, 1px, 1px);height: 1px;margin: -1px;overflow: hidden;padding: 0;position: absolute;width: 1px;}#sk-container-id-17 div.sk-estimator {font-family: monospace;background-color: #f0f8ff;border: 1px dotted black;border-radius: 0.25em;box-sizing: border-box;margin-bottom: 0.5em;}#sk-container-id-17 div.sk-estimator:hover {background-color: #d4ebff;}#sk-container-id-17 div.sk-parallel-item::after {content: \"\";width: 100%;border-bottom: 1px solid gray;flex-grow: 1;}#sk-container-id-17 div.sk-label:hover label.sk-toggleable__label {background-color: #d4ebff;}#sk-container-id-17 div.sk-serial::before {content: \"\";position: absolute;border-left: 1px solid gray;box-sizing: border-box;top: 0;bottom: 0;left: 50%;z-index: 0;}#sk-container-id-17 div.sk-serial {display: flex;flex-direction: column;align-items: center;background-color: white;padding-right: 0.2em;padding-left: 0.2em;position: relative;}#sk-container-id-17 div.sk-item {position: relative;z-index: 1;}#sk-container-id-17 div.sk-parallel {display: flex;align-items: stretch;justify-content: center;background-color: white;position: relative;}#sk-container-id-17 div.sk-item::before, #sk-container-id-17 div.sk-parallel-item::before {content: \"\";position: absolute;border-left: 1px solid gray;box-sizing: border-box;top: 0;bottom: 0;left: 50%;z-index: -1;}#sk-container-id-17 div.sk-parallel-item {display: flex;flex-direction: column;z-index: 1;position: relative;background-color: white;}#sk-container-id-17 div.sk-parallel-item:first-child::after {align-self: flex-end;width: 50%;}#sk-container-id-17 div.sk-parallel-item:last-child::after {align-self: flex-start;width: 50%;}#sk-container-id-17 div.sk-parallel-item:only-child::after {width: 0;}#sk-container-id-17 div.sk-dashed-wrapped {border: 1px dashed gray;margin: 0 0.4em 0.5em 0.4em;box-sizing: border-box;padding-bottom: 0.4em;background-color: white;}#sk-container-id-17 div.sk-label label {font-family: monospace;font-weight: bold;display: inline-block;line-height: 1.2em;}#sk-container-id-17 div.sk-label-container {text-align: center;}#sk-container-id-17 div.sk-container {/* jupyter's `normalize.less` sets `[hidden] { display: none; }` but bootstrap.min.css set `[hidden] { display: none !important; }` so we also need the `!important` here to be able to override the default hidden behavior on the sphinx rendered scikit-learn.org. See: https://github.com/scikit-learn/scikit-learn/issues/21755 */display: inline-block !important;position: relative;}#sk-container-id-17 div.sk-text-repr-fallback {display: none;}</style><div id=\"sk-container-id-17\" class=\"sk-top-container\"><div class=\"sk-text-repr-fallback\"><pre>Pipeline(steps=[(&#x27;preprocessor&#x27;,\n",
       "                 ColumnTransformer(transformers=[(&#x27;num1&#x27;,\n",
       "                                                  Pipeline(steps=[(&#x27;pass&#x27;,\n",
       "                                                                   &#x27;passthrough&#x27;)]),\n",
       "                                                  [&#x27;CNT_CHILDREN&#x27;,\n",
       "                                                   &#x27;AMT_INCOME_TOTAL&#x27;,\n",
       "                                                   &#x27;AMT_CREDIT&#x27;, &#x27;AMT_ANNUITY&#x27;,\n",
       "                                                   &#x27;AMT_GOODS_PRICE&#x27;,\n",
       "                                                   &#x27;REGION_POPULATION_RELATIVE&#x27;,\n",
       "                                                   &#x27;DAYS_BIRTH&#x27;,\n",
       "                                                   &#x27;DAYS_EMPLOYED&#x27;,\n",
       "                                                   &#x27;DAYS_REGISTRATION&#x27;,\n",
       "                                                   &#x27;DAYS_ID_PUBLISH&#x27;,\n",
       "                                                   &#x27;CNT_FAM_MEMBERS&#x27;,\n",
       "                                                   &#x27;REGION_RATING_CLIENT&#x27;,\n",
       "                                                   &#x27;EXT_SOURCE_2&#x27;,\n",
       "                                                   &#x27;DAYS...\n",
       "                               gpu_id=None, grow_policy=None,\n",
       "                               importance_type=None,\n",
       "                               interaction_constraints=None,\n",
       "                               lambda=2.977695707610445, learning_rate=None,\n",
       "                               max_bin=None, max_cat_threshold=None,\n",
       "                               max_cat_to_onehot=None, max_delta_step=None,\n",
       "                               max_depth=2, max_leaves=None,\n",
       "                               min_child_weight=3.788857718051868, missing=nan,\n",
       "                               monotone_constraints=None, n_estimators=100,\n",
       "                               n_jobs=None, num_parallel_tree=None, ...))])</pre><b>In a Jupyter environment, please rerun this cell to show the HTML representation or trust the notebook. <br />On GitHub, the HTML representation is unable to render, please try loading this page with nbviewer.org.</b></div><div class=\"sk-container\" hidden><div class=\"sk-item sk-dashed-wrapped\"><div class=\"sk-label-container\"><div class=\"sk-label sk-toggleable\"><input class=\"sk-toggleable__control sk-hidden--visually\" id=\"sk-estimator-id-189\" type=\"checkbox\" ><label for=\"sk-estimator-id-189\" class=\"sk-toggleable__label sk-toggleable__label-arrow\">Pipeline</label><div class=\"sk-toggleable__content\"><pre>Pipeline(steps=[(&#x27;preprocessor&#x27;,\n",
       "                 ColumnTransformer(transformers=[(&#x27;num1&#x27;,\n",
       "                                                  Pipeline(steps=[(&#x27;pass&#x27;,\n",
       "                                                                   &#x27;passthrough&#x27;)]),\n",
       "                                                  [&#x27;CNT_CHILDREN&#x27;,\n",
       "                                                   &#x27;AMT_INCOME_TOTAL&#x27;,\n",
       "                                                   &#x27;AMT_CREDIT&#x27;, &#x27;AMT_ANNUITY&#x27;,\n",
       "                                                   &#x27;AMT_GOODS_PRICE&#x27;,\n",
       "                                                   &#x27;REGION_POPULATION_RELATIVE&#x27;,\n",
       "                                                   &#x27;DAYS_BIRTH&#x27;,\n",
       "                                                   &#x27;DAYS_EMPLOYED&#x27;,\n",
       "                                                   &#x27;DAYS_REGISTRATION&#x27;,\n",
       "                                                   &#x27;DAYS_ID_PUBLISH&#x27;,\n",
       "                                                   &#x27;CNT_FAM_MEMBERS&#x27;,\n",
       "                                                   &#x27;REGION_RATING_CLIENT&#x27;,\n",
       "                                                   &#x27;EXT_SOURCE_2&#x27;,\n",
       "                                                   &#x27;DAYS...\n",
       "                               gpu_id=None, grow_policy=None,\n",
       "                               importance_type=None,\n",
       "                               interaction_constraints=None,\n",
       "                               lambda=2.977695707610445, learning_rate=None,\n",
       "                               max_bin=None, max_cat_threshold=None,\n",
       "                               max_cat_to_onehot=None, max_delta_step=None,\n",
       "                               max_depth=2, max_leaves=None,\n",
       "                               min_child_weight=3.788857718051868, missing=nan,\n",
       "                               monotone_constraints=None, n_estimators=100,\n",
       "                               n_jobs=None, num_parallel_tree=None, ...))])</pre></div></div></div><div class=\"sk-serial\"><div class=\"sk-item sk-dashed-wrapped\"><div class=\"sk-label-container\"><div class=\"sk-label sk-toggleable\"><input class=\"sk-toggleable__control sk-hidden--visually\" id=\"sk-estimator-id-190\" type=\"checkbox\" ><label for=\"sk-estimator-id-190\" class=\"sk-toggleable__label sk-toggleable__label-arrow\">preprocessor: ColumnTransformer</label><div class=\"sk-toggleable__content\"><pre>ColumnTransformer(transformers=[(&#x27;num1&#x27;,\n",
       "                                 Pipeline(steps=[(&#x27;pass&#x27;, &#x27;passthrough&#x27;)]),\n",
       "                                 [&#x27;CNT_CHILDREN&#x27;, &#x27;AMT_INCOME_TOTAL&#x27;,\n",
       "                                  &#x27;AMT_CREDIT&#x27;, &#x27;AMT_ANNUITY&#x27;,\n",
       "                                  &#x27;AMT_GOODS_PRICE&#x27;,\n",
       "                                  &#x27;REGION_POPULATION_RELATIVE&#x27;, &#x27;DAYS_BIRTH&#x27;,\n",
       "                                  &#x27;DAYS_EMPLOYED&#x27;, &#x27;DAYS_REGISTRATION&#x27;,\n",
       "                                  &#x27;DAYS_ID_PUBLISH&#x27;, &#x27;CNT_FAM_MEMBERS&#x27;,\n",
       "                                  &#x27;REGION_RATING_CLIENT&#x27;, &#x27;EXT_SOURCE_2&#x27;,\n",
       "                                  &#x27;DAYS_LAST_PHONE_CHANGE&#x27;,\n",
       "                                  &#x27;OBS_30_CNT_...\n",
       "                                  &#x27;FLAG_OWN_CAR&#x27;, &#x27;FLAG_OWN_REALTY&#x27;,\n",
       "                                  &#x27;NAME_TYPE_SUITE&#x27;, &#x27;NAME_INCOME_TYPE&#x27;,\n",
       "                                  &#x27;NAME_EDUCATION_TYPE&#x27;, &#x27;NAME_FAMILY_STATUS&#x27;,\n",
       "                                  &#x27;NAME_HOUSING_TYPE&#x27;, &#x27;OCCUPATION_TYPE&#x27;,\n",
       "                                  &#x27;WEEKDAY_APPR_PROCESS_START&#x27;,\n",
       "                                  &#x27;HOUR_APPR_PROCESS_START&#x27;,\n",
       "                                  &#x27;ORGANIZATION_TYPE&#x27;]),\n",
       "                                (&#x27;binary&#x27;,\n",
       "                                 Pipeline(steps=[(&#x27;pass&#x27;, &#x27;passthrough&#x27;)]),\n",
       "                                 [&#x27;FLAG_EMP_PHONE&#x27;, &#x27;FLAG_WORK_PHONE&#x27;,\n",
       "                                  &#x27;FLAG_CONT_MOBILE&#x27;, &#x27;FLAG_PHONE&#x27;,\n",
       "                                  &#x27;FLAG_EMAIL&#x27;])])</pre></div></div></div><div class=\"sk-parallel\"><div class=\"sk-parallel-item\"><div class=\"sk-item\"><div class=\"sk-label-container\"><div class=\"sk-label sk-toggleable\"><input class=\"sk-toggleable__control sk-hidden--visually\" id=\"sk-estimator-id-191\" type=\"checkbox\" ><label for=\"sk-estimator-id-191\" class=\"sk-toggleable__label sk-toggleable__label-arrow\">num1</label><div class=\"sk-toggleable__content\"><pre>[&#x27;CNT_CHILDREN&#x27;, &#x27;AMT_INCOME_TOTAL&#x27;, &#x27;AMT_CREDIT&#x27;, &#x27;AMT_ANNUITY&#x27;, &#x27;AMT_GOODS_PRICE&#x27;, &#x27;REGION_POPULATION_RELATIVE&#x27;, &#x27;DAYS_BIRTH&#x27;, &#x27;DAYS_EMPLOYED&#x27;, &#x27;DAYS_REGISTRATION&#x27;, &#x27;DAYS_ID_PUBLISH&#x27;, &#x27;CNT_FAM_MEMBERS&#x27;, &#x27;REGION_RATING_CLIENT&#x27;, &#x27;EXT_SOURCE_2&#x27;, &#x27;DAYS_LAST_PHONE_CHANGE&#x27;, &#x27;OBS_30_CNT_SOCIAL_CIRCLE&#x27;, &#x27;DEF_30_CNT_SOCIAL_CIRCLE&#x27;, &#x27;OBS_60_CNT_SOCIAL_CIRCLE&#x27;, &#x27;DEF_60_CNT_SOCIAL_CIRCLE&#x27;, &#x27;document&#x27;, &#x27;address&#x27;]</pre></div></div></div><div class=\"sk-serial\"><div class=\"sk-item\"><div class=\"sk-serial\"><div class=\"sk-item\"><div class=\"sk-estimator sk-toggleable\"><input class=\"sk-toggleable__control sk-hidden--visually\" id=\"sk-estimator-id-192\" type=\"checkbox\" ><label for=\"sk-estimator-id-192\" class=\"sk-toggleable__label sk-toggleable__label-arrow\">passthrough</label><div class=\"sk-toggleable__content\"><pre>passthrough</pre></div></div></div></div></div></div></div></div><div class=\"sk-parallel-item\"><div class=\"sk-item\"><div class=\"sk-label-container\"><div class=\"sk-label sk-toggleable\"><input class=\"sk-toggleable__control sk-hidden--visually\" id=\"sk-estimator-id-193\" type=\"checkbox\" ><label for=\"sk-estimator-id-193\" class=\"sk-toggleable__label sk-toggleable__label-arrow\">num2</label><div class=\"sk-toggleable__content\"><pre>[&#x27;EXT_SOURCE_3&#x27;, &#x27;AMT_REQ_CREDIT_BUREAU_HOUR&#x27;, &#x27;AMT_REQ_CREDIT_BUREAU_DAY&#x27;, &#x27;AMT_REQ_CREDIT_BUREAU_WEEK&#x27;, &#x27;AMT_REQ_CREDIT_BUREAU_MON&#x27;, &#x27;AMT_REQ_CREDIT_BUREAU_QRT&#x27;, &#x27;AMT_REQ_CREDIT_BUREAU_YEAR&#x27;]</pre></div></div></div><div class=\"sk-serial\"><div class=\"sk-item\"><div class=\"sk-serial\"><div class=\"sk-item\"><div class=\"sk-estimator sk-toggleable\"><input class=\"sk-toggleable__control sk-hidden--visually\" id=\"sk-estimator-id-194\" type=\"checkbox\" ><label for=\"sk-estimator-id-194\" class=\"sk-toggleable__label sk-toggleable__label-arrow\">passthrough</label><div class=\"sk-toggleable__content\"><pre>passthrough</pre></div></div></div></div></div></div></div></div><div class=\"sk-parallel-item\"><div class=\"sk-item\"><div class=\"sk-label-container\"><div class=\"sk-label sk-toggleable\"><input class=\"sk-toggleable__control sk-hidden--visually\" id=\"sk-estimator-id-195\" type=\"checkbox\" ><label for=\"sk-estimator-id-195\" class=\"sk-toggleable__label sk-toggleable__label-arrow\">cat</label><div class=\"sk-toggleable__content\"><pre>[&#x27;NAME_CONTRACT_TYPE&#x27;, &#x27;CODE_GENDER&#x27;, &#x27;FLAG_OWN_CAR&#x27;, &#x27;FLAG_OWN_REALTY&#x27;, &#x27;NAME_TYPE_SUITE&#x27;, &#x27;NAME_INCOME_TYPE&#x27;, &#x27;NAME_EDUCATION_TYPE&#x27;, &#x27;NAME_FAMILY_STATUS&#x27;, &#x27;NAME_HOUSING_TYPE&#x27;, &#x27;OCCUPATION_TYPE&#x27;, &#x27;WEEKDAY_APPR_PROCESS_START&#x27;, &#x27;HOUR_APPR_PROCESS_START&#x27;, &#x27;ORGANIZATION_TYPE&#x27;]</pre></div></div></div><div class=\"sk-serial\"><div class=\"sk-item\"><div class=\"sk-serial\"><div class=\"sk-item\"><div class=\"sk-estimator sk-toggleable\"><input class=\"sk-toggleable__control sk-hidden--visually\" id=\"sk-estimator-id-196\" type=\"checkbox\" ><label for=\"sk-estimator-id-196\" class=\"sk-toggleable__label sk-toggleable__label-arrow\">OrdinalEncoder</label><div class=\"sk-toggleable__content\"><pre>OrdinalEncoder(handle_unknown=&#x27;use_encoded_value&#x27;, max_categories=10,\n",
       "               unknown_value=-1)</pre></div></div></div></div></div></div></div></div><div class=\"sk-parallel-item\"><div class=\"sk-item\"><div class=\"sk-label-container\"><div class=\"sk-label sk-toggleable\"><input class=\"sk-toggleable__control sk-hidden--visually\" id=\"sk-estimator-id-197\" type=\"checkbox\" ><label for=\"sk-estimator-id-197\" class=\"sk-toggleable__label sk-toggleable__label-arrow\">binary</label><div class=\"sk-toggleable__content\"><pre>[&#x27;FLAG_EMP_PHONE&#x27;, &#x27;FLAG_WORK_PHONE&#x27;, &#x27;FLAG_CONT_MOBILE&#x27;, &#x27;FLAG_PHONE&#x27;, &#x27;FLAG_EMAIL&#x27;]</pre></div></div></div><div class=\"sk-serial\"><div class=\"sk-item\"><div class=\"sk-serial\"><div class=\"sk-item\"><div class=\"sk-estimator sk-toggleable\"><input class=\"sk-toggleable__control sk-hidden--visually\" id=\"sk-estimator-id-198\" type=\"checkbox\" ><label for=\"sk-estimator-id-198\" class=\"sk-toggleable__label sk-toggleable__label-arrow\">passthrough</label><div class=\"sk-toggleable__content\"><pre>passthrough</pre></div></div></div></div></div></div></div></div></div></div><div class=\"sk-item\"><div class=\"sk-estimator sk-toggleable\"><input class=\"sk-toggleable__control sk-hidden--visually\" id=\"sk-estimator-id-199\" type=\"checkbox\" ><label for=\"sk-estimator-id-199\" class=\"sk-toggleable__label sk-toggleable__label-arrow\">XGBClassifier</label><div class=\"sk-toggleable__content\"><pre>XGBClassifier(base_score=None, booster=None, callbacks=None,\n",
       "              colsample_bylevel=None, colsample_bynode=None,\n",
       "              colsample_bytree=None, early_stopping_rounds=None,\n",
       "              enable_categorical=False, eta=0.28715047020268525,\n",
       "              eval_metric=None, feature_types=None, gamma=2.6923449065374774,\n",
       "              gpu_id=None, grow_policy=None, importance_type=None,\n",
       "              interaction_constraints=None, lambda=2.977695707610445,\n",
       "              learning_rate=None, max_bin=None, max_cat_threshold=None,\n",
       "              max_cat_to_onehot=None, max_delta_step=None, max_depth=2,\n",
       "              max_leaves=None, min_child_weight=3.788857718051868, missing=nan,\n",
       "              monotone_constraints=None, n_estimators=100, n_jobs=None,\n",
       "              num_parallel_tree=None, ...)</pre></div></div></div></div></div></div></div>"
      ],
      "text/plain": [
       "Pipeline(steps=[('preprocessor',\n",
       "                 ColumnTransformer(transformers=[('num1',\n",
       "                                                  Pipeline(steps=[('pass',\n",
       "                                                                   'passthrough')]),\n",
       "                                                  ['CNT_CHILDREN',\n",
       "                                                   'AMT_INCOME_TOTAL',\n",
       "                                                   'AMT_CREDIT', 'AMT_ANNUITY',\n",
       "                                                   'AMT_GOODS_PRICE',\n",
       "                                                   'REGION_POPULATION_RELATIVE',\n",
       "                                                   'DAYS_BIRTH',\n",
       "                                                   'DAYS_EMPLOYED',\n",
       "                                                   'DAYS_REGISTRATION',\n",
       "                                                   'DAYS_ID_PUBLISH',\n",
       "                                                   'CNT_FAM_MEMBERS',\n",
       "                                                   'REGION_RATING_CLIENT',\n",
       "                                                   'EXT_SOURCE_2',\n",
       "                                                   'DAYS...\n",
       "                               gpu_id=None, grow_policy=None,\n",
       "                               importance_type=None,\n",
       "                               interaction_constraints=None,\n",
       "                               lambda=2.977695707610445, learning_rate=None,\n",
       "                               max_bin=None, max_cat_threshold=None,\n",
       "                               max_cat_to_onehot=None, max_delta_step=None,\n",
       "                               max_depth=2, max_leaves=None,\n",
       "                               min_child_weight=3.788857718051868, missing=nan,\n",
       "                               monotone_constraints=None, n_estimators=100,\n",
       "                               n_jobs=None, num_parallel_tree=None, ...))])"
      ]
     },
     "execution_count": 260,
     "metadata": {},
     "output_type": "execute_result"
    }
   ],
   "source": [
    "pipe = Pipeline(steps=[#(\"undersampler\", RandomUnderSampler()),\n",
    "                       (\"preprocessor\",preprocessor),\n",
    "                       #(\"smote\",SMOTE(random_state=42)),\n",
    "                       ('classifier', XGBClassifier(scale_pos_weight=(y_train==0).sum()/(y_train==1).sum()))])\n",
    "pipe.set_params(**space_eval(param,result))"
   ]
  },
  {
   "cell_type": "code",
   "execution_count": 33,
   "id": "817d1de1",
   "metadata": {},
   "outputs": [],
   "source": [
    "result = {\n",
    "  \"class_weight\": 0,\n",
    "  \"l2_regularization\": 8.008941566201596,\n",
    "  \"learning_rate\": 0.29305364694969455,\n",
    "  \"max_depth\": 4,\n",
    "  \"max_leaf_nodes\": 74.57094257536562,\n",
    "  \"min_samples_leaf\": 100.68769976033155\n",
    "}"
   ]
  },
  {
   "cell_type": "code",
   "execution_count": 64,
   "id": "3f14c82a",
   "metadata": {},
   "outputs": [
    {
     "data": {
      "text/html": [
       "<style>#sk-container-id-4 {color: black;}#sk-container-id-4 pre{padding: 0;}#sk-container-id-4 div.sk-toggleable {background-color: white;}#sk-container-id-4 label.sk-toggleable__label {cursor: pointer;display: block;width: 100%;margin-bottom: 0;padding: 0.3em;box-sizing: border-box;text-align: center;}#sk-container-id-4 label.sk-toggleable__label-arrow:before {content: \"▸\";float: left;margin-right: 0.25em;color: #696969;}#sk-container-id-4 label.sk-toggleable__label-arrow:hover:before {color: black;}#sk-container-id-4 div.sk-estimator:hover label.sk-toggleable__label-arrow:before {color: black;}#sk-container-id-4 div.sk-toggleable__content {max-height: 0;max-width: 0;overflow: hidden;text-align: left;background-color: #f0f8ff;}#sk-container-id-4 div.sk-toggleable__content pre {margin: 0.2em;color: black;border-radius: 0.25em;background-color: #f0f8ff;}#sk-container-id-4 input.sk-toggleable__control:checked~div.sk-toggleable__content {max-height: 200px;max-width: 100%;overflow: auto;}#sk-container-id-4 input.sk-toggleable__control:checked~label.sk-toggleable__label-arrow:before {content: \"▾\";}#sk-container-id-4 div.sk-estimator input.sk-toggleable__control:checked~label.sk-toggleable__label {background-color: #d4ebff;}#sk-container-id-4 div.sk-label input.sk-toggleable__control:checked~label.sk-toggleable__label {background-color: #d4ebff;}#sk-container-id-4 input.sk-hidden--visually {border: 0;clip: rect(1px 1px 1px 1px);clip: rect(1px, 1px, 1px, 1px);height: 1px;margin: -1px;overflow: hidden;padding: 0;position: absolute;width: 1px;}#sk-container-id-4 div.sk-estimator {font-family: monospace;background-color: #f0f8ff;border: 1px dotted black;border-radius: 0.25em;box-sizing: border-box;margin-bottom: 0.5em;}#sk-container-id-4 div.sk-estimator:hover {background-color: #d4ebff;}#sk-container-id-4 div.sk-parallel-item::after {content: \"\";width: 100%;border-bottom: 1px solid gray;flex-grow: 1;}#sk-container-id-4 div.sk-label:hover label.sk-toggleable__label {background-color: #d4ebff;}#sk-container-id-4 div.sk-serial::before {content: \"\";position: absolute;border-left: 1px solid gray;box-sizing: border-box;top: 0;bottom: 0;left: 50%;z-index: 0;}#sk-container-id-4 div.sk-serial {display: flex;flex-direction: column;align-items: center;background-color: white;padding-right: 0.2em;padding-left: 0.2em;position: relative;}#sk-container-id-4 div.sk-item {position: relative;z-index: 1;}#sk-container-id-4 div.sk-parallel {display: flex;align-items: stretch;justify-content: center;background-color: white;position: relative;}#sk-container-id-4 div.sk-item::before, #sk-container-id-4 div.sk-parallel-item::before {content: \"\";position: absolute;border-left: 1px solid gray;box-sizing: border-box;top: 0;bottom: 0;left: 50%;z-index: -1;}#sk-container-id-4 div.sk-parallel-item {display: flex;flex-direction: column;z-index: 1;position: relative;background-color: white;}#sk-container-id-4 div.sk-parallel-item:first-child::after {align-self: flex-end;width: 50%;}#sk-container-id-4 div.sk-parallel-item:last-child::after {align-self: flex-start;width: 50%;}#sk-container-id-4 div.sk-parallel-item:only-child::after {width: 0;}#sk-container-id-4 div.sk-dashed-wrapped {border: 1px dashed gray;margin: 0 0.4em 0.5em 0.4em;box-sizing: border-box;padding-bottom: 0.4em;background-color: white;}#sk-container-id-4 div.sk-label label {font-family: monospace;font-weight: bold;display: inline-block;line-height: 1.2em;}#sk-container-id-4 div.sk-label-container {text-align: center;}#sk-container-id-4 div.sk-container {/* jupyter's `normalize.less` sets `[hidden] { display: none; }` but bootstrap.min.css set `[hidden] { display: none !important; }` so we also need the `!important` here to be able to override the default hidden behavior on the sphinx rendered scikit-learn.org. See: https://github.com/scikit-learn/scikit-learn/issues/21755 */display: inline-block !important;position: relative;}#sk-container-id-4 div.sk-text-repr-fallback {display: none;}</style><div id=\"sk-container-id-4\" class=\"sk-top-container\"><div class=\"sk-text-repr-fallback\"><pre>Pipeline(steps=[(&#x27;preprocessor&#x27;,\n",
       "                 ColumnTransformer(transformers=[(&#x27;num1&#x27;,\n",
       "                                                  Pipeline(steps=[(&#x27;imputer&#x27;,\n",
       "                                                                   SimpleImputer(strategy=&#x27;median&#x27;)),\n",
       "                                                                  (&#x27;scaler&#x27;,\n",
       "                                                                   StandardScaler())]),\n",
       "                                                  [&#x27;CNT_CHILDREN&#x27;,\n",
       "                                                   &#x27;AMT_INCOME_TOTAL&#x27;,\n",
       "                                                   &#x27;AMT_CREDIT&#x27;, &#x27;AMT_ANNUITY&#x27;,\n",
       "                                                   &#x27;AMT_GOODS_PRICE&#x27;,\n",
       "                                                   &#x27;REGION_POPULATION_RELATIVE&#x27;,\n",
       "                                                   &#x27;DAYS_BIRTH&#x27;,\n",
       "                                                   &#x27;DAYS_EMPLOYED&#x27;,\n",
       "                                                   &#x27;DAYS_REGISTRATION&#x27;,\n",
       "                                                   &#x27;DAYS_ID_PUBLISH&#x27;,\n",
       "                                                   &#x27;CNT_FAM_ME...\n",
       "                                                   &#x27;ORGANIZATION_TYPE&#x27;]),\n",
       "                                                 (&#x27;binary&#x27;,\n",
       "                                                  Pipeline(steps=[(&#x27;pass&#x27;,\n",
       "                                                                   &#x27;passthrough&#x27;)]),\n",
       "                                                  [&#x27;FLAG_EMP_PHONE&#x27;,\n",
       "                                                   &#x27;FLAG_WORK_PHONE&#x27;,\n",
       "                                                   &#x27;FLAG_CONT_MOBILE&#x27;,\n",
       "                                                   &#x27;FLAG_PHONE&#x27;,\n",
       "                                                   &#x27;FLAG_EMAIL&#x27;])])),\n",
       "                (&#x27;classifier&#x27;,\n",
       "                 HistGradientBoostingClassifier(class_weight=&#x27;balanced&#x27;,\n",
       "                                                l2_regularization=8.008941566201596,\n",
       "                                                learning_rate=0.29305364694969455,\n",
       "                                                max_depth=4, max_leaf_nodes=74,\n",
       "                                                min_samples_leaf=100))])</pre><b>In a Jupyter environment, please rerun this cell to show the HTML representation or trust the notebook. <br />On GitHub, the HTML representation is unable to render, please try loading this page with nbviewer.org.</b></div><div class=\"sk-container\" hidden><div class=\"sk-item sk-dashed-wrapped\"><div class=\"sk-label-container\"><div class=\"sk-label sk-toggleable\"><input class=\"sk-toggleable__control sk-hidden--visually\" id=\"sk-estimator-id-34\" type=\"checkbox\" ><label for=\"sk-estimator-id-34\" class=\"sk-toggleable__label sk-toggleable__label-arrow\">Pipeline</label><div class=\"sk-toggleable__content\"><pre>Pipeline(steps=[(&#x27;preprocessor&#x27;,\n",
       "                 ColumnTransformer(transformers=[(&#x27;num1&#x27;,\n",
       "                                                  Pipeline(steps=[(&#x27;imputer&#x27;,\n",
       "                                                                   SimpleImputer(strategy=&#x27;median&#x27;)),\n",
       "                                                                  (&#x27;scaler&#x27;,\n",
       "                                                                   StandardScaler())]),\n",
       "                                                  [&#x27;CNT_CHILDREN&#x27;,\n",
       "                                                   &#x27;AMT_INCOME_TOTAL&#x27;,\n",
       "                                                   &#x27;AMT_CREDIT&#x27;, &#x27;AMT_ANNUITY&#x27;,\n",
       "                                                   &#x27;AMT_GOODS_PRICE&#x27;,\n",
       "                                                   &#x27;REGION_POPULATION_RELATIVE&#x27;,\n",
       "                                                   &#x27;DAYS_BIRTH&#x27;,\n",
       "                                                   &#x27;DAYS_EMPLOYED&#x27;,\n",
       "                                                   &#x27;DAYS_REGISTRATION&#x27;,\n",
       "                                                   &#x27;DAYS_ID_PUBLISH&#x27;,\n",
       "                                                   &#x27;CNT_FAM_ME...\n",
       "                                                   &#x27;ORGANIZATION_TYPE&#x27;]),\n",
       "                                                 (&#x27;binary&#x27;,\n",
       "                                                  Pipeline(steps=[(&#x27;pass&#x27;,\n",
       "                                                                   &#x27;passthrough&#x27;)]),\n",
       "                                                  [&#x27;FLAG_EMP_PHONE&#x27;,\n",
       "                                                   &#x27;FLAG_WORK_PHONE&#x27;,\n",
       "                                                   &#x27;FLAG_CONT_MOBILE&#x27;,\n",
       "                                                   &#x27;FLAG_PHONE&#x27;,\n",
       "                                                   &#x27;FLAG_EMAIL&#x27;])])),\n",
       "                (&#x27;classifier&#x27;,\n",
       "                 HistGradientBoostingClassifier(class_weight=&#x27;balanced&#x27;,\n",
       "                                                l2_regularization=8.008941566201596,\n",
       "                                                learning_rate=0.29305364694969455,\n",
       "                                                max_depth=4, max_leaf_nodes=74,\n",
       "                                                min_samples_leaf=100))])</pre></div></div></div><div class=\"sk-serial\"><div class=\"sk-item sk-dashed-wrapped\"><div class=\"sk-label-container\"><div class=\"sk-label sk-toggleable\"><input class=\"sk-toggleable__control sk-hidden--visually\" id=\"sk-estimator-id-35\" type=\"checkbox\" ><label for=\"sk-estimator-id-35\" class=\"sk-toggleable__label sk-toggleable__label-arrow\">preprocessor: ColumnTransformer</label><div class=\"sk-toggleable__content\"><pre>ColumnTransformer(transformers=[(&#x27;num1&#x27;,\n",
       "                                 Pipeline(steps=[(&#x27;imputer&#x27;,\n",
       "                                                  SimpleImputer(strategy=&#x27;median&#x27;)),\n",
       "                                                 (&#x27;scaler&#x27;, StandardScaler())]),\n",
       "                                 [&#x27;CNT_CHILDREN&#x27;, &#x27;AMT_INCOME_TOTAL&#x27;,\n",
       "                                  &#x27;AMT_CREDIT&#x27;, &#x27;AMT_ANNUITY&#x27;,\n",
       "                                  &#x27;AMT_GOODS_PRICE&#x27;,\n",
       "                                  &#x27;REGION_POPULATION_RELATIVE&#x27;, &#x27;DAYS_BIRTH&#x27;,\n",
       "                                  &#x27;DAYS_EMPLOYED&#x27;, &#x27;DAYS_REGISTRATION&#x27;,\n",
       "                                  &#x27;DAYS_ID_PUBLISH&#x27;, &#x27;CNT_FAM_MEMBERS&#x27;,\n",
       "                                  &#x27;REGION_RATING_CLIENT&#x27;, &#x27;E...\n",
       "                                  &#x27;FLAG_OWN_CAR&#x27;, &#x27;FLAG_OWN_REALTY&#x27;,\n",
       "                                  &#x27;NAME_TYPE_SUITE&#x27;, &#x27;NAME_INCOME_TYPE&#x27;,\n",
       "                                  &#x27;NAME_EDUCATION_TYPE&#x27;, &#x27;NAME_FAMILY_STATUS&#x27;,\n",
       "                                  &#x27;NAME_HOUSING_TYPE&#x27;, &#x27;OCCUPATION_TYPE&#x27;,\n",
       "                                  &#x27;WEEKDAY_APPR_PROCESS_START&#x27;,\n",
       "                                  &#x27;HOUR_APPR_PROCESS_START&#x27;,\n",
       "                                  &#x27;ORGANIZATION_TYPE&#x27;]),\n",
       "                                (&#x27;binary&#x27;,\n",
       "                                 Pipeline(steps=[(&#x27;pass&#x27;, &#x27;passthrough&#x27;)]),\n",
       "                                 [&#x27;FLAG_EMP_PHONE&#x27;, &#x27;FLAG_WORK_PHONE&#x27;,\n",
       "                                  &#x27;FLAG_CONT_MOBILE&#x27;, &#x27;FLAG_PHONE&#x27;,\n",
       "                                  &#x27;FLAG_EMAIL&#x27;])])</pre></div></div></div><div class=\"sk-parallel\"><div class=\"sk-parallel-item\"><div class=\"sk-item\"><div class=\"sk-label-container\"><div class=\"sk-label sk-toggleable\"><input class=\"sk-toggleable__control sk-hidden--visually\" id=\"sk-estimator-id-36\" type=\"checkbox\" ><label for=\"sk-estimator-id-36\" class=\"sk-toggleable__label sk-toggleable__label-arrow\">num1</label><div class=\"sk-toggleable__content\"><pre>[&#x27;CNT_CHILDREN&#x27;, &#x27;AMT_INCOME_TOTAL&#x27;, &#x27;AMT_CREDIT&#x27;, &#x27;AMT_ANNUITY&#x27;, &#x27;AMT_GOODS_PRICE&#x27;, &#x27;REGION_POPULATION_RELATIVE&#x27;, &#x27;DAYS_BIRTH&#x27;, &#x27;DAYS_EMPLOYED&#x27;, &#x27;DAYS_REGISTRATION&#x27;, &#x27;DAYS_ID_PUBLISH&#x27;, &#x27;CNT_FAM_MEMBERS&#x27;, &#x27;REGION_RATING_CLIENT&#x27;, &#x27;EXT_SOURCE_2&#x27;, &#x27;DAYS_LAST_PHONE_CHANGE&#x27;, &#x27;OBS_30_CNT_SOCIAL_CIRCLE&#x27;, &#x27;DEF_30_CNT_SOCIAL_CIRCLE&#x27;, &#x27;OBS_60_CNT_SOCIAL_CIRCLE&#x27;, &#x27;DEF_60_CNT_SOCIAL_CIRCLE&#x27;, &#x27;document&#x27;, &#x27;address&#x27;]</pre></div></div></div><div class=\"sk-serial\"><div class=\"sk-item\"><div class=\"sk-serial\"><div class=\"sk-item\"><div class=\"sk-estimator sk-toggleable\"><input class=\"sk-toggleable__control sk-hidden--visually\" id=\"sk-estimator-id-37\" type=\"checkbox\" ><label for=\"sk-estimator-id-37\" class=\"sk-toggleable__label sk-toggleable__label-arrow\">SimpleImputer</label><div class=\"sk-toggleable__content\"><pre>SimpleImputer(strategy=&#x27;median&#x27;)</pre></div></div></div><div class=\"sk-item\"><div class=\"sk-estimator sk-toggleable\"><input class=\"sk-toggleable__control sk-hidden--visually\" id=\"sk-estimator-id-38\" type=\"checkbox\" ><label for=\"sk-estimator-id-38\" class=\"sk-toggleable__label sk-toggleable__label-arrow\">StandardScaler</label><div class=\"sk-toggleable__content\"><pre>StandardScaler()</pre></div></div></div></div></div></div></div></div><div class=\"sk-parallel-item\"><div class=\"sk-item\"><div class=\"sk-label-container\"><div class=\"sk-label sk-toggleable\"><input class=\"sk-toggleable__control sk-hidden--visually\" id=\"sk-estimator-id-39\" type=\"checkbox\" ><label for=\"sk-estimator-id-39\" class=\"sk-toggleable__label sk-toggleable__label-arrow\">num2</label><div class=\"sk-toggleable__content\"><pre>[&#x27;EXT_SOURCE_3&#x27;, &#x27;AMT_REQ_CREDIT_BUREAU_HOUR&#x27;, &#x27;AMT_REQ_CREDIT_BUREAU_DAY&#x27;, &#x27;AMT_REQ_CREDIT_BUREAU_WEEK&#x27;, &#x27;AMT_REQ_CREDIT_BUREAU_MON&#x27;, &#x27;AMT_REQ_CREDIT_BUREAU_QRT&#x27;, &#x27;AMT_REQ_CREDIT_BUREAU_YEAR&#x27;]</pre></div></div></div><div class=\"sk-serial\"><div class=\"sk-item\"><div class=\"sk-serial\"><div class=\"sk-item\"><div class=\"sk-estimator sk-toggleable\"><input class=\"sk-toggleable__control sk-hidden--visually\" id=\"sk-estimator-id-40\" type=\"checkbox\" ><label for=\"sk-estimator-id-40\" class=\"sk-toggleable__label sk-toggleable__label-arrow\">SimpleImputer</label><div class=\"sk-toggleable__content\"><pre>SimpleImputer(add_indicator=True, strategy=&#x27;median&#x27;)</pre></div></div></div><div class=\"sk-item\"><div class=\"sk-estimator sk-toggleable\"><input class=\"sk-toggleable__control sk-hidden--visually\" id=\"sk-estimator-id-41\" type=\"checkbox\" ><label for=\"sk-estimator-id-41\" class=\"sk-toggleable__label sk-toggleable__label-arrow\">StandardScaler</label><div class=\"sk-toggleable__content\"><pre>StandardScaler()</pre></div></div></div></div></div></div></div></div><div class=\"sk-parallel-item\"><div class=\"sk-item\"><div class=\"sk-label-container\"><div class=\"sk-label sk-toggleable\"><input class=\"sk-toggleable__control sk-hidden--visually\" id=\"sk-estimator-id-42\" type=\"checkbox\" ><label for=\"sk-estimator-id-42\" class=\"sk-toggleable__label sk-toggleable__label-arrow\">cat</label><div class=\"sk-toggleable__content\"><pre>[&#x27;NAME_CONTRACT_TYPE&#x27;, &#x27;CODE_GENDER&#x27;, &#x27;FLAG_OWN_CAR&#x27;, &#x27;FLAG_OWN_REALTY&#x27;, &#x27;NAME_TYPE_SUITE&#x27;, &#x27;NAME_INCOME_TYPE&#x27;, &#x27;NAME_EDUCATION_TYPE&#x27;, &#x27;NAME_FAMILY_STATUS&#x27;, &#x27;NAME_HOUSING_TYPE&#x27;, &#x27;OCCUPATION_TYPE&#x27;, &#x27;WEEKDAY_APPR_PROCESS_START&#x27;, &#x27;HOUR_APPR_PROCESS_START&#x27;, &#x27;ORGANIZATION_TYPE&#x27;]</pre></div></div></div><div class=\"sk-serial\"><div class=\"sk-item\"><div class=\"sk-serial\"><div class=\"sk-item\"><div class=\"sk-estimator sk-toggleable\"><input class=\"sk-toggleable__control sk-hidden--visually\" id=\"sk-estimator-id-43\" type=\"checkbox\" ><label for=\"sk-estimator-id-43\" class=\"sk-toggleable__label sk-toggleable__label-arrow\">OneHotEncoder</label><div class=\"sk-toggleable__content\"><pre>OneHotEncoder(max_categories=10)</pre></div></div></div></div></div></div></div></div><div class=\"sk-parallel-item\"><div class=\"sk-item\"><div class=\"sk-label-container\"><div class=\"sk-label sk-toggleable\"><input class=\"sk-toggleable__control sk-hidden--visually\" id=\"sk-estimator-id-44\" type=\"checkbox\" ><label for=\"sk-estimator-id-44\" class=\"sk-toggleable__label sk-toggleable__label-arrow\">binary</label><div class=\"sk-toggleable__content\"><pre>[&#x27;FLAG_EMP_PHONE&#x27;, &#x27;FLAG_WORK_PHONE&#x27;, &#x27;FLAG_CONT_MOBILE&#x27;, &#x27;FLAG_PHONE&#x27;, &#x27;FLAG_EMAIL&#x27;]</pre></div></div></div><div class=\"sk-serial\"><div class=\"sk-item\"><div class=\"sk-serial\"><div class=\"sk-item\"><div class=\"sk-estimator sk-toggleable\"><input class=\"sk-toggleable__control sk-hidden--visually\" id=\"sk-estimator-id-45\" type=\"checkbox\" ><label for=\"sk-estimator-id-45\" class=\"sk-toggleable__label sk-toggleable__label-arrow\">passthrough</label><div class=\"sk-toggleable__content\"><pre>passthrough</pre></div></div></div></div></div></div></div></div></div></div><div class=\"sk-item\"><div class=\"sk-estimator sk-toggleable\"><input class=\"sk-toggleable__control sk-hidden--visually\" id=\"sk-estimator-id-46\" type=\"checkbox\" ><label for=\"sk-estimator-id-46\" class=\"sk-toggleable__label sk-toggleable__label-arrow\">HistGradientBoostingClassifier</label><div class=\"sk-toggleable__content\"><pre>HistGradientBoostingClassifier(class_weight=&#x27;balanced&#x27;,\n",
       "                               l2_regularization=8.008941566201596,\n",
       "                               learning_rate=0.29305364694969455, max_depth=4,\n",
       "                               max_leaf_nodes=74, min_samples_leaf=100)</pre></div></div></div></div></div></div></div>"
      ],
      "text/plain": [
       "Pipeline(steps=[('preprocessor',\n",
       "                 ColumnTransformer(transformers=[('num1',\n",
       "                                                  Pipeline(steps=[('imputer',\n",
       "                                                                   SimpleImputer(strategy='median')),\n",
       "                                                                  ('scaler',\n",
       "                                                                   StandardScaler())]),\n",
       "                                                  ['CNT_CHILDREN',\n",
       "                                                   'AMT_INCOME_TOTAL',\n",
       "                                                   'AMT_CREDIT', 'AMT_ANNUITY',\n",
       "                                                   'AMT_GOODS_PRICE',\n",
       "                                                   'REGION_POPULATION_RELATIVE',\n",
       "                                                   'DAYS_BIRTH',\n",
       "                                                   'DAYS_EMPLOYED',\n",
       "                                                   'DAYS_REGISTRATION',\n",
       "                                                   'DAYS_ID_PUBLISH',\n",
       "                                                   'CNT_FAM_ME...\n",
       "                                                   'ORGANIZATION_TYPE']),\n",
       "                                                 ('binary',\n",
       "                                                  Pipeline(steps=[('pass',\n",
       "                                                                   'passthrough')]),\n",
       "                                                  ['FLAG_EMP_PHONE',\n",
       "                                                   'FLAG_WORK_PHONE',\n",
       "                                                   'FLAG_CONT_MOBILE',\n",
       "                                                   'FLAG_PHONE',\n",
       "                                                   'FLAG_EMAIL'])])),\n",
       "                ('classifier',\n",
       "                 HistGradientBoostingClassifier(class_weight='balanced',\n",
       "                                                l2_regularization=8.008941566201596,\n",
       "                                                learning_rate=0.29305364694969455,\n",
       "                                                max_depth=4, max_leaf_nodes=74,\n",
       "                                                min_samples_leaf=100))])"
      ]
     },
     "execution_count": 64,
     "metadata": {},
     "output_type": "execute_result"
    }
   ],
   "source": [
    "pipe = Pipeline(steps=[#(\"undersampler\", RandomUnderSampler()),\n",
    "                       (\"preprocessor\",preprocessor),\n",
    "                       #(\"smote\",SMOTE(random_state=42)),\n",
    "                       ('classifier', HistGradientBoostingClassifier())])\n",
    "pipe.set_params(**space_eval(param,result))"
   ]
  },
  {
   "cell_type": "code",
   "execution_count": 80,
   "id": "fa5bc9db",
   "metadata": {
    "scrolled": true
   },
   "outputs": [
    {
     "data": {
      "text/plain": [
       "0.23893749416405738"
      ]
     },
     "execution_count": 80,
     "metadata": {},
     "output_type": "execute_result"
    }
   ],
   "source": [
    "pipe.fit(X_train,y_train)\n",
    "y_pred_proba = pipe.predict_proba(X_test)\n",
    "average_precision_score(y_test,y_pred_proba[:,1])"
   ]
  },
  {
   "cell_type": "code",
   "execution_count": 87,
   "id": "25cd7146",
   "metadata": {
    "scrolled": true
   },
   "outputs": [
    {
     "data": {
      "text/plain": [
       "0.23874421960790895"
      ]
     },
     "execution_count": 87,
     "metadata": {},
     "output_type": "execute_result"
    }
   ],
   "source": [
    "precision, recall, thresh = precision_recall_curve(y_test,y_pred_proba[:,1])\n",
    "auc(recall,precision)"
   ]
  },
  {
   "cell_type": "code",
   "execution_count": 82,
   "id": "95e1517c",
   "metadata": {},
   "outputs": [
    {
     "data": {
      "text/plain": [
       "<matplotlib.legend.Legend at 0x11c0fc3c130>"
      ]
     },
     "execution_count": 82,
     "metadata": {},
     "output_type": "execute_result"
    },
    {
     "data": {
      "image/png": "[encoded data removed]",
      "text/plain": [
       "<Figure size 640x480 with 1 Axes>"
      ]
     },
     "metadata": {},
     "output_type": "display_data"
    }
   ],
   "source": [
    "display = PrecisionRecallDisplay.from_predictions(\n",
    "    y_test, y_pred_proba[:,1], name=\"XGBoost\", plot_chance_level=True\n",
    ")\n",
    "plt.legend(loc='upper right')"
   ]
  },
  {
   "cell_type": "code",
   "execution_count": 83,
   "id": "c1be09c5",
   "metadata": {},
   "outputs": [
    {
     "data": {
      "text/plain": [
       "<matplotlib.legend.Legend at 0x11c13d069d0>"
      ]
     },
     "execution_count": 83,
     "metadata": {},
     "output_type": "execute_result"
    },
    {
     "data": {
      "image/png": "[encoded data removed]",
      "text/plain": [
       "<Figure size 640x480 with 1 Axes>"
      ]
     },
     "metadata": {},
     "output_type": "display_data"
    }
   ],
   "source": [
    "display = RocCurveDisplay.from_predictions(\n",
    "    y_test, y_pred_proba[:,1], name=\"XGBoost\", plot_chance_level=True\n",
    ")\n",
    "plt.legend(loc='upper right')"
   ]
  },
  {
   "cell_type": "code",
   "execution_count": 39,
   "id": "e3c32ce4",
   "metadata": {
    "scrolled": true
   },
   "outputs": [
    {
     "data": {
      "text/plain": [
       "0.6993805180235111"
      ]
     },
     "execution_count": 39,
     "metadata": {},
     "output_type": "execute_result"
    }
   ],
   "source": [
    "y_pred = pipe.predict(X_test)\n",
    "accuracy_score(y_test,y_pred)"
   ]
  },
  {
   "cell_type": "code",
   "execution_count": 99,
   "id": "a0cc684d",
   "metadata": {},
   "outputs": [
    {
     "data": {
      "text/plain": [
       "<sklearn.metrics._plot.confusion_matrix.ConfusionMatrixDisplay at 0x11c1318afa0>"
      ]
     },
     "execution_count": 99,
     "metadata": {},
     "output_type": "execute_result"
    },
    {
     "data": {
      "image/png": "[encoded data removed]",
      "text/plain": [
       "<Figure size 640x480 with 2 Axes>"
      ]
     },
     "metadata": {},
     "output_type": "display_data"
    }
   ],
   "source": [
    "ConfusionMatrixDisplay.from_estimator(pipe,X_test,y_test)"
   ]
  },
  {
   "cell_type": "code",
   "execution_count": 79,
   "id": "e61ff176",
   "metadata": {},
   "outputs": [
    {
     "data": {
      "text/plain": [
       "0.6698722412050804"
      ]
     },
     "execution_count": 79,
     "metadata": {},
     "output_type": "execute_result"
    }
   ],
   "source": [
    "# calculate the optimal threshold by maximizing F1 score from PRC-AUC\n",
    "f1 =2*precision*recall/(precision+recall)\n",
    "best_threshold = thresh[np.argmax(f1)]\n",
    "best_threshold"
   ]
  },
  {
   "cell_type": "code",
   "execution_count": 91,
   "id": "4085593b",
   "metadata": {},
   "outputs": [
    {
     "data": {
      "text/plain": [
       "0.8508690632977253"
      ]
     },
     "execution_count": 91,
     "metadata": {},
     "output_type": "execute_result"
    }
   ],
   "source": [
    "# accuracy with the optimal threshold\n",
    "accuracy_score(y_test,(y_pred_proba[:,1]>best_threshold).astype(int))"
   ]
  },
  {
   "cell_type": "code",
   "execution_count": 93,
   "id": "4e391461",
   "metadata": {
    "scrolled": false
   },
   "outputs": [
    {
     "data": {
      "text/plain": [
       "<sklearn.metrics._plot.confusion_matrix.ConfusionMatrixDisplay at 0x11c1384bbe0>"
      ]
     },
     "execution_count": 93,
     "metadata": {},
     "output_type": "execute_result"
    },
    {
     "data": {
      "image/png": "[encoded data removed]",
      "text/plain": [
       "<Figure size 640x480 with 2 Axes>"
      ]
     },
     "metadata": {},
     "output_type": "display_data"
    }
   ],
   "source": [
    "# confusion matrix with the optimal threshold\n",
    "ConfusionMatrixDisplay.from_predictions(y_test,(y_pred_proba[:,1]>best_threshold).astype(int))"
   ]
  },
  {
   "cell_type": "code",
   "execution_count": 41,
   "id": "1494feeb",
   "metadata": {},
   "outputs": [
    {
     "data": {
      "image/png": "[encoded data removed]",
      "text/plain": [
       "<Figure size 800x950 with 1 Axes>"
      ]
     },
     "metadata": {},
     "output_type": "display_data"
    }
   ],
   "source": [
    "#set the tree explainer as the model of the pipeline\n",
    "explainer = shap.Explainer(pipe['classifier'])\n",
    "\n",
    "#apply the preprocessing to X_test\n",
    "observations = pipe['preprocessor'].transform(X_test)\n",
    "\n",
    "#get Shap values from preprocessed data\n",
    "#shap_values = explainer.shap_values(observations.todense())\n",
    "shap_values = explainer.shap_values(observations)\n",
    "\n",
    "#plot the feature importance\n",
    "shap.summary_plot(shap_values, observations, plot_type=\"bar\", feature_names=X_train.columns)"
   ]
  },
  {
   "cell_type": "code",
   "execution_count": null,
   "id": "e617ae0a",
   "metadata": {},
   "outputs": [],
   "source": []
  },
  {
   "cell_type": "markdown",
   "id": "f0e03afe",
   "metadata": {},
   "source": [
    "LightGBM: histogram-based split finding, leaf-wise tree growth --> more accurate but might overfit, faster and more memory-efficient\n",
    "XGBoost: global scan split finding, level-wise tree growth\n",
    "HistGradientBoosting: histogram-based split finding, level-wise tree growth"
   ]
  }
 ],
 "metadata": {
  "kernelspec": {
   "display_name": "loan_project",
   "language": "python",
   "name": "loan_project"
  },
  "language_info": {
   "codemirror_mode": {
    "name": "ipython",
    "version": 3
   },
   "file_extension": ".py",
   "mimetype": "text/x-python",
   "name": "python",
   "nbconvert_exporter": "python",
   "pygments_lexer": "ipython3",
   "version": "3.8.5"
  }
 },
 "nbformat": 4,
 "nbformat_minor": 5
}
